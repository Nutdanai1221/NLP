{
 "cells": [
  {
   "attachments": {},
   "cell_type": "markdown",
   "metadata": {},
   "source": [
    "# word2vec (CBOW)"
   ]
  },
  {
   "cell_type": "code",
   "execution_count": 1,
   "metadata": {},
   "outputs": [],
   "source": [
    "import numpy as np \n",
    "import torch \n",
    "import torch.nn as nn\n",
    "import torch.optim as optim \n",
    "import matplotlib.pyplot as plt "
   ]
  },
  {
   "attachments": {},
   "cell_type": "markdown",
   "metadata": {},
   "source": [
    "## 1.Load data"
   ]
  },
  {
   "attachments": {},
   "cell_type": "markdown",
   "metadata": {},
   "source": [
    "### corpus data from wiki "
   ]
  },
  {
   "cell_type": "code",
   "execution_count": 2,
   "metadata": {},
   "outputs": [],
   "source": [
    "corpus = [\"An orange is fruit that has sour taste and rough skin\", \n",
    "          \"A mango is fruit that has sweet taste and smooth skin\", \n",
    "          \"A grape is fruit that has sweet taste and smooth skin\", \n",
    "          \"The cat is animal that live in home and like to eat rat\", \n",
    "          \"Fish is animal that live in the sea or river, it can breath under the water\", \n",
    "          \"Rat is animal that live in everywhere, it like to eat trash\"]\n",
    "          "
   ]
  },
  {
   "attachments": {},
   "cell_type": "markdown",
   "metadata": {},
   "source": [
    "## 2.Tokenized"
   ]
  },
  {
   "cell_type": "code",
   "execution_count": 3,
   "metadata": {},
   "outputs": [],
   "source": [
    "corpus_tokenized = [sent.split(\" \") for sent in corpus]"
   ]
  },
  {
   "cell_type": "code",
   "execution_count": 4,
   "metadata": {},
   "outputs": [],
   "source": [
    "flatten = lambda l: [item for sublist in l for item in sublist]\n",
    "flattened_corpus = flatten(corpus_tokenized)"
   ]
  },
  {
   "cell_type": "code",
   "execution_count": 7,
   "metadata": {},
   "outputs": [
    {
     "data": {
      "text/plain": [
       "['mango',\n",
       " 'Fish',\n",
       " 'live',\n",
       " 'eat',\n",
       " 'under',\n",
       " 'the',\n",
       " 'to',\n",
       " 'animal',\n",
       " 'everywhere,',\n",
       " 'taste',\n",
       " 'has',\n",
       " 'river,',\n",
       " 'The',\n",
       " 'sea',\n",
       " 'it',\n",
       " 'An',\n",
       " 'trash',\n",
       " 'cat',\n",
       " 'orange',\n",
       " 'grape',\n",
       " 'skin',\n",
       " 'like',\n",
       " 'or',\n",
       " 'breath',\n",
       " 'sweet',\n",
       " 'in',\n",
       " 'that',\n",
       " 'can',\n",
       " 'water',\n",
       " 'sour',\n",
       " 'is',\n",
       " 'rat',\n",
       " 'A',\n",
       " 'and',\n",
       " 'rough',\n",
       " 'fruit',\n",
       " 'smooth',\n",
       " 'Rat',\n",
       " 'home']"
      ]
     },
     "execution_count": 7,
     "metadata": {},
     "output_type": "execute_result"
    }
   ],
   "source": [
    "vocabs = list(set(flattened_corpus))\n",
    "vocabs"
   ]
  },
  {
   "attachments": {},
   "cell_type": "markdown",
   "metadata": {},
   "source": [
    "## 3.Numerization"
   ]
  },
  {
   "cell_type": "code",
   "execution_count": 8,
   "metadata": {},
   "outputs": [],
   "source": [
    "word_2_idx = {v: idx for idx, v in enumerate(vocabs)}"
   ]
  },
  {
   "cell_type": "code",
   "execution_count": 9,
   "metadata": {},
   "outputs": [
    {
     "data": {
      "text/plain": [
       "39"
      ]
     },
     "execution_count": 9,
     "metadata": {},
     "output_type": "execute_result"
    }
   ],
   "source": [
    "word_2_idx[\"rat\"]\n",
    "len(word_2_idx)"
   ]
  },
  {
   "cell_type": "code",
   "execution_count": 10,
   "metadata": {},
   "outputs": [],
   "source": [
    "vocabs.append('<UNK>')\n",
    "word_2_idx['<UNK>'] = 39 "
   ]
  },
  {
   "cell_type": "code",
   "execution_count": 13,
   "metadata": {},
   "outputs": [
    {
     "data": {
      "text/plain": [
       "{'mango': 0,\n",
       " 'Fish': 1,\n",
       " 'live': 2,\n",
       " 'eat': 3,\n",
       " 'under': 4,\n",
       " 'the': 5,\n",
       " 'to': 6,\n",
       " 'animal': 7,\n",
       " 'everywhere,': 8,\n",
       " 'taste': 9,\n",
       " 'has': 10,\n",
       " 'river,': 11,\n",
       " 'The': 12,\n",
       " 'sea': 13,\n",
       " 'it': 14,\n",
       " 'An': 15,\n",
       " 'trash': 16,\n",
       " 'cat': 17,\n",
       " 'orange': 18,\n",
       " 'grape': 19,\n",
       " 'skin': 20,\n",
       " 'like': 21,\n",
       " 'or': 22,\n",
       " 'breath': 23,\n",
       " 'sweet': 24,\n",
       " 'in': 25,\n",
       " 'that': 26,\n",
       " 'can': 27,\n",
       " 'water': 28,\n",
       " 'sour': 29,\n",
       " 'is': 30,\n",
       " 'rat': 31,\n",
       " 'A': 32,\n",
       " 'and': 33,\n",
       " 'rough': 34,\n",
       " 'fruit': 35,\n",
       " 'smooth': 36,\n",
       " 'Rat': 37,\n",
       " 'home': 38,\n",
       " '<UNK>': 39}"
      ]
     },
     "execution_count": 13,
     "metadata": {},
     "output_type": "execute_result"
    }
   ],
   "source": [
    "word_2_idx"
   ]
  },
  {
   "cell_type": "code",
   "execution_count": 14,
   "metadata": {},
   "outputs": [
    {
     "data": {
      "text/plain": [
       "{0: 'mango',\n",
       " 1: 'Fish',\n",
       " 2: 'live',\n",
       " 3: 'eat',\n",
       " 4: 'under',\n",
       " 5: 'the',\n",
       " 6: 'to',\n",
       " 7: 'animal',\n",
       " 8: 'everywhere,',\n",
       " 9: 'taste',\n",
       " 10: 'has',\n",
       " 11: 'river,',\n",
       " 12: 'The',\n",
       " 13: 'sea',\n",
       " 14: 'it',\n",
       " 15: 'An',\n",
       " 16: 'trash',\n",
       " 17: 'cat',\n",
       " 18: 'orange',\n",
       " 19: 'grape',\n",
       " 20: 'skin',\n",
       " 21: 'like',\n",
       " 22: 'or',\n",
       " 23: 'breath',\n",
       " 24: 'sweet',\n",
       " 25: 'in',\n",
       " 26: 'that',\n",
       " 27: 'can',\n",
       " 28: 'water',\n",
       " 29: 'sour',\n",
       " 30: 'is',\n",
       " 31: 'rat',\n",
       " 32: 'A',\n",
       " 33: 'and',\n",
       " 34: 'rough',\n",
       " 35: 'fruit',\n",
       " 36: 'smooth',\n",
       " 37: 'Rat',\n",
       " 38: 'home',\n",
       " 39: '<UNK>'}"
      ]
     },
     "execution_count": 14,
     "metadata": {},
     "output_type": "execute_result"
    }
   ],
   "source": [
    "index2word = {v:k for k, v in word_2_idx.items()}\n",
    "\n",
    "index2word"
   ]
  },
  {
   "attachments": {},
   "cell_type": "markdown",
   "metadata": {},
   "source": [
    "## 2.Prepare data"
   ]
  },
  {
   "attachments": {},
   "cell_type": "markdown",
   "metadata": {},
   "source": [
    "### test function"
   ]
  },
  {
   "cell_type": "code",
   "execution_count": null,
   "metadata": {},
   "outputs": [],
   "source": [
    "skipgrams = []\n",
    "\n",
    "for sent in corpus_tokenized :\n",
    "    # print()\n",
    "    for i in range(2, len(sent) - 2): #start from 1 to second last\n",
    "        center_word = sent[i]\n",
    "        outside_words = [word_2_idx[sent[i-2]], word_2_idx[sent[i-1]], word_2_idx[sent[i+1]], word_2_idx[sent[i+2]]]  #window_size = 1\n",
    "        for o in outside_words:\n",
    "            skipgrams.append([center_word, o])\n",
    "\n",
    "skipgrams\n",
    "    "
   ]
  },
  {
   "cell_type": "code",
   "execution_count": null,
   "metadata": {},
   "outputs": [],
   "source": [
    "CBOW = []\n",
    "\n",
    "    #for each corpus\n",
    "for sent in corpus_tokenized:\n",
    "    #for each sent [\"apple\", \"banana\", \"fruit\"]\n",
    "    for i in range(2, len(sent) - 2): #start from 2 to second last\n",
    "        center_word = word_2_idx[sent[i]]\n",
    "        outside_words = [word_2_idx[sent[i-2]], word_2_idx[sent[i-1]], word_2_idx[sent[i+1]], word_2_idx[sent[i+2]]]  #window_size = 2\n",
    "        for o in outside_words:\n",
    "            CBOW.append([o , center_word])\n",
    "print(CBOW)     "
   ]
  },
  {
   "attachments": {},
   "cell_type": "markdown",
   "metadata": {},
   "source": [
    "### real function"
   ]
  },
  {
   "cell_type": "code",
   "execution_count": 742,
   "metadata": {},
   "outputs": [],
   "source": [
    "def random_batch(batch_size, corpus):\n",
    "    \n",
    "    skipgrams = []\n",
    "\n",
    "    #for each corpus\n",
    "    for sent in corpus_tokenized:\n",
    "        #for each sent [\"apple\", \"banana\", \"fruit\"]\n",
    "        for i in range(2, len(sent) - 2): #start from 1 to second last\n",
    "            center_word = word_2_idx[sent[i]]\n",
    "            outside_words = [word_2_idx[sent[i-2]], word_2_idx[sent[i-1]], word_2_idx[sent[i+1]], word_2_idx[sent[i-2]]]  #window_size = 1\n",
    "            for o in outside_words:\n",
    "                skipgrams.append([center_word, o])\n",
    "    # print(skipgrams)\n",
    "    # print(skipgrams)            \n",
    "    #only get a batch, not the entire list\n",
    "    random_inputs, random_labels = [], []   \n",
    "    random_index = np.random.choice(range(len(skipgrams)), batch_size, replace=False)\n",
    "             \n",
    "    #appending some list of inputs and labels\n",
    "    \n",
    "    for index in random_index:\n",
    "        random_inputs.append([skipgrams[index][0]])  #center words, this will be a shape of (1, ) --> (1, 1) for modeling\n",
    "        random_labels.append([skipgrams[index][1]])\n",
    "        \n",
    "    return np.array(random_inputs), np.array(random_labels)"
   ]
  },
  {
   "cell_type": "code",
   "execution_count": 715,
   "metadata": {},
   "outputs": [],
   "source": [
    "def random_batch(batch_size, word_sequence):\n",
    "    \n",
    "    # Make skip gram of one size window\n",
    "    skip_grams = []\n",
    "    # loop each word sequence\n",
    "    # we starts from 1 because 0 has no context\n",
    "    # we stop at second last for the same reason\n",
    "    for sent in corpus:\n",
    "        for i in range(1, len(sent) - 1):\n",
    "            target = word_2_idx[sent[i]]\n",
    "            context = [word_2_idx[sent[i - 1]], word_2_idx[sent[i + 1]]]\n",
    "            for w in context:\n",
    "                skip_grams.append([target, w])\n",
    "    \n",
    "    random_inputs = []\n",
    "    random_labels = []\n",
    "    random_index = np.random.choice(range(len(skip_grams)), batch_size, replace=False) #randomly pick without replacement\n",
    "        \n",
    "    for i in random_index:\n",
    "        random_inputs.append([skip_grams[i][0]])  # target, e.g., 2\n",
    "        random_labels.append([skip_grams[i][1]])  # context word, e.g., 3\n",
    "            \n",
    "    return np.array(random_inputs), np.array(random_labels)"
   ]
  },
  {
   "attachments": {},
   "cell_type": "markdown",
   "metadata": {},
   "source": [
    "#### remake CBOW"
   ]
  },
  {
   "cell_type": "code",
   "execution_count": 15,
   "metadata": {},
   "outputs": [],
   "source": [
    "def random_batch(batch_size, corpus):\n",
    "    \n",
    "    CBOW_data = []\n",
    "\n",
    "    #for each corpus\n",
    "    for sent in corpus_tokenized:\n",
    "        #for each sent [\"apple\", \"banana\", \"fruit\"]\n",
    "        for i in range(2, len(sent) - 2): #start from 1 to second last\n",
    "            center_word = word_2_idx[sent[i]]\n",
    "            outside_words = [word_2_idx[sent[i-2]], word_2_idx[sent[i-1]], word_2_idx[sent[i+1]], word_2_idx[sent[i-2]]]  #window_size = 1\n",
    "            for o in outside_words:\n",
    "                CBOW_data.append([o, center_word])\n",
    "    # print(CBOW_data)\n",
    "    # print(skipgrams)            \n",
    "    #only get a batch, not the entire list\n",
    "    random_index = np.random.choice(range(len(CBOW_data)), batch_size, replace=False)\n",
    "             \n",
    "    #appending some list of inputs and labels\n",
    "    random_inputs, random_labels = [], []   \n",
    "    for index in random_index:\n",
    "        random_inputs.append([CBOW_data[index][0]])  #center words, this will be a shape of (1, ) --> (1, 1) for modeling\n",
    "        random_labels.append([CBOW_data[index][1]])\n",
    "        \n",
    "    return np.array(random_inputs), np.array(random_labels)"
   ]
  },
  {
   "cell_type": "code",
   "execution_count": null,
   "metadata": {},
   "outputs": [],
   "source": [
    "def random_batch(batch_size, corpus):\n",
    "    cbow_data = []\n",
    "\n",
    "    #for each corpus\n",
    "    for sent in corpus_tokenized:\n",
    "        #for each sent [\"apple\", \"banana\", \"fruit\"]\n",
    "        for i in range(2, len(sent) - 2): #start from 2 to second last\n",
    "            center_word = word_2_idx[sent[i]]\n",
    "            outside_words = [word_2_idx[sent[i-2]], word_2_idx[sent[i-1]], word_2_idx[sent[i+1]], word_2_idx[sent[i+2]]]  #window_size = 2\n",
    "            cbow_data.append((outside_words, center_word))\n",
    "    print(cbow_data)            \n",
    "    #only get a batch, not the entire list\n",
    "    random_index = np.random.choice(range(len(cbow_data)), batch_size, replace=False)\n",
    "             \n",
    "    #appending some list of inputs and labels\n",
    "    random_inputs, random_labels = [], []   \n",
    "    for index in random_index:\n",
    "        random_inputs.append(cbow_data[index][0])  #outside words, this will be a shape of (4, ) --> (4, 1) for modeling\n",
    "        random_labels.append(cbow_data[index][1])\n",
    "        \n",
    "    return np.array(random_inputs), np.array(random_labels)"
   ]
  },
  {
   "cell_type": "code",
   "execution_count": 16,
   "metadata": {},
   "outputs": [
    {
     "name": "stdout",
     "output_type": "stream",
     "text": [
      "(2, 1)\n",
      "label=array([[26],\n",
      "       [ 7]])\n"
     ]
    }
   ],
   "source": [
    "input, label = random_batch(2, corpus_tokenized)\n",
    "# print(random_batch(10, corpus_tokenized))\n",
    "print(f\"{input.shape}\")\n",
    "print(f\"{label=}\")"
   ]
  },
  {
   "attachments": {},
   "cell_type": "markdown",
   "metadata": {},
   "source": [
    "## 3.Model"
   ]
  },
  {
   "cell_type": "code",
   "execution_count": 17,
   "metadata": {},
   "outputs": [],
   "source": [
    "voc_size = len(vocabs)"
   ]
  },
  {
   "cell_type": "code",
   "execution_count": 18,
   "metadata": {},
   "outputs": [
    {
     "data": {
      "text/plain": [
       "40"
      ]
     },
     "execution_count": 18,
     "metadata": {},
     "output_type": "execute_result"
    }
   ],
   "source": [
    "voc_size"
   ]
  },
  {
   "cell_type": "code",
   "execution_count": 19,
   "metadata": {},
   "outputs": [
    {
     "data": {
      "text/plain": [
       "['mango',\n",
       " 'Fish',\n",
       " 'live',\n",
       " 'eat',\n",
       " 'under',\n",
       " 'the',\n",
       " 'to',\n",
       " 'animal',\n",
       " 'everywhere,',\n",
       " 'taste',\n",
       " 'has',\n",
       " 'river,',\n",
       " 'The',\n",
       " 'sea',\n",
       " 'it',\n",
       " 'An',\n",
       " 'trash',\n",
       " 'cat',\n",
       " 'orange',\n",
       " 'grape',\n",
       " 'skin',\n",
       " 'like',\n",
       " 'or',\n",
       " 'breath',\n",
       " 'sweet',\n",
       " 'in',\n",
       " 'that',\n",
       " 'can',\n",
       " 'water',\n",
       " 'sour',\n",
       " 'is',\n",
       " 'rat',\n",
       " 'A',\n",
       " 'and',\n",
       " 'rough',\n",
       " 'fruit',\n",
       " 'smooth',\n",
       " 'Rat',\n",
       " 'home',\n",
       " '<UNK>']"
      ]
     },
     "execution_count": 19,
     "metadata": {},
     "output_type": "execute_result"
    }
   ],
   "source": [
    "vocabs"
   ]
  },
  {
   "cell_type": "code",
   "execution_count": 27,
   "metadata": {},
   "outputs": [],
   "source": [
    "class Skipgram(nn.Module):\n",
    "    \n",
    "    def __init__(self, voc_size, emb_size):\n",
    "        super(Skipgram, self).__init__()\n",
    "        self.embedding_center_word  = nn.Embedding(voc_size, emb_size)  #is a lookup table mapping all ids in voc_size, into some vector of size emb_size\n",
    "        self.embedding_outside_word = nn.Embedding(voc_size, emb_size)\n",
    "    \n",
    "    def forward(self, center_word, outside_word, all_vocabs):\n",
    "        #center_word, outside_word: (batch_size, 1)\n",
    "        #all_vocabs: (batch_size, voc_size)\n",
    "        \n",
    "        #convert them into embedding\n",
    "        center_word_embed  = self.embedding_center_word(center_word)     #(batch_size, 1, emb_size)\n",
    "        outside_word_embed = self.embedding_outside_word(outside_word)   #(batch_size, 1, emb_size)\n",
    "        all_vocabs_embed   = self.embedding_outside_word(all_vocabs)     #(batch_size, voc_size, emb_size)\n",
    "        \n",
    "        #bmm is basically @ or .dot , but across batches (i.e., ignore the batch dimension)\n",
    "        top_term = outside_word_embed.bmm(center_word_embed.transpose(1, 2)).squeeze(2)\n",
    "        #(batch_size, 1, emb_size) @ (batch_size, emb_size, 1) = (batch_size, 1, 1) ===> (batch_size, 1)\n",
    "        \n",
    "        top_term_exp = torch.exp(top_term)  #exp(uo vc)\n",
    "        #(batch_size, 1)\n",
    "        \n",
    "        lower_term = all_vocabs_embed.bmm(center_word_embed.transpose(1, 2)).squeeze(2)\n",
    "         #(batch_size, voc_size, emb_size) @ (batch_size, emb_size, 1) = (batch_size, voc_size, 1) = (batch_size, voc_size)\n",
    "         \n",
    "        lower_term_sum = torch.sum(torch.exp(lower_term), 1) #sum exp(uw vc)\n",
    "        #(batch_size, 1)\n",
    "        \n",
    "        loss_fn = -torch.mean(torch.log(top_term_exp / lower_term_sum))\n",
    "        #(batch_size, 1) / (batch_size, 1) ==mean==> scalar\n",
    "        \n",
    "        return loss_fn"
   ]
  },
  {
   "cell_type": "code",
   "execution_count": 20,
   "metadata": {},
   "outputs": [],
   "source": [
    "class CBOW(nn.Module):\n",
    "    \n",
    "    def __init__(self, voc_size, emb_size):\n",
    "        super(CBOW, self).__init__()\n",
    "        self.embedding = nn.Embedding(voc_size, emb_size)  #is a lookup table mapping all ids in voc_size, into some vector of size emb_size\n",
    "    \n",
    "    def forward(self, outside_words, center_word):\n",
    "        #outside_words: (batch_size, window_size*2, 1)\n",
    "        #center_word: (batch_size, 1)\n",
    "        \n",
    "        outside_words_embed = self.embedding(outside_words.squeeze())    #(batch_size, window_size*2, emb_size)\n",
    "        center_word_embed = self.embedding(center_word)        #(batch_size, 1, emb_size)\n",
    "        \n",
    "        #sum up the embeddings of context words\n",
    "        outside_words_embed_sum = torch.sum(outside_words_embed, 1) #(batch_size, emb_size)\n",
    "        \n",
    "        #bmm is basically @ or .dot , but across batches (i.e., ignore the batch dimension)\n",
    "        top_term = center_word_embed.bmm(outside_words_embed_sum.unsqueeze(2)).squeeze(2)\n",
    "        #(batch_size, 1, emb_size) @ (batch_size, emb_size, 1) = (batch_size, 1, 1) ===> (batch_size, 1)\n",
    "        \n",
    "        top_term_exp = torch.exp(top_term)  #exp(uo vc)\n",
    "        #(batch_size, 1)\n",
    "        \n",
    "        loss_fn = -torch.mean(torch.log(top_term_exp))\n",
    "        #(batch_size, 1) ==mean==> scalar\n",
    "        \n",
    "        return loss_fn"
   ]
  },
  {
   "cell_type": "code",
   "execution_count": 21,
   "metadata": {},
   "outputs": [
    {
     "data": {
      "text/plain": [
       "torch.Size([2, 40])"
      ]
     },
     "execution_count": 21,
     "metadata": {},
     "output_type": "execute_result"
    }
   ],
   "source": [
    "batch_size = 2\n",
    "\n",
    "def prepare_sequence(seq, word2index):\n",
    "    #map(function, list of something)\n",
    "    #map will look at each of element in this list, and apply this function\n",
    "    idxs = list(map(lambda w: word2index[w] if word2index.get(w) is not None else word2index[\"<UNK>\"], seq))\n",
    "    return torch.LongTensor(idxs)\n",
    "\n",
    "all_vocabs = prepare_sequence(list(vocabs), word_2_idx).expand(batch_size, voc_size)\n",
    "all_vocabs.shape"
   ]
  },
  {
   "cell_type": "code",
   "execution_count": 22,
   "metadata": {},
   "outputs": [
    {
     "data": {
      "text/plain": [
       "array([[33],\n",
       "       [26]])"
      ]
     },
     "execution_count": 22,
     "metadata": {},
     "output_type": "execute_result"
    }
   ],
   "source": [
    "input, label = random_batch(batch_size, corpus_tokenized)\n",
    "input #center word"
   ]
  },
  {
   "cell_type": "code",
   "execution_count": 28,
   "metadata": {},
   "outputs": [],
   "source": [
    "emb_size = 2 #usually, this can be 50, 100, or 300\n",
    "model = Skipgram(voc_size, emb_size)"
   ]
  },
  {
   "cell_type": "code",
   "execution_count": 24,
   "metadata": {},
   "outputs": [],
   "source": [
    "emb_size = 2 #usually, this can be 50, 100, or 300\n",
    "model = CBOW(voc_size, emb_size)"
   ]
  },
  {
   "cell_type": "code",
   "execution_count": 29,
   "metadata": {},
   "outputs": [],
   "source": [
    "input_tensor = torch.LongTensor(input)  \n",
    "label_tensor = torch.LongTensor(label)"
   ]
  },
  {
   "cell_type": "code",
   "execution_count": 30,
   "metadata": {},
   "outputs": [],
   "source": [
    "loss = model(input_tensor, label_tensor, all_vocabs)"
   ]
  },
  {
   "cell_type": "code",
   "execution_count": 31,
   "metadata": {},
   "outputs": [
    {
     "data": {
      "text/plain": [
       "tensor(3.6310, grad_fn=<NegBackward0>)"
      ]
     },
     "execution_count": 31,
     "metadata": {},
     "output_type": "execute_result"
    }
   ],
   "source": [
    "loss"
   ]
  },
  {
   "cell_type": "code",
   "execution_count": 32,
   "metadata": {},
   "outputs": [],
   "source": [
    "batch_size = 2 #why?  no reason; \n",
    "emb_size   = 2 #why?  no reason; usually 50, 100, 300, but 2 so we can plot (50 can also plot, but need PCA)\n",
    "model      = Skipgram(voc_size, emb_size)\n",
    "\n",
    "criterion  = nn.CrossEntropyLoss()  #-log\n",
    "optimizer  = optim.Adam(model.parameters(), lr=0.0009)"
   ]
  },
  {
   "cell_type": "code",
   "execution_count": 33,
   "metadata": {},
   "outputs": [
    {
     "name": "stdout",
     "output_type": "stream",
     "text": [
      "Epoch 1000 | Loss: 3.502455 | Time: ??\n",
      "Epoch 2000 | Loss: 2.886886 | Time: ??\n",
      "Epoch 3000 | Loss: 1.346872 | Time: ??\n",
      "Epoch 4000 | Loss: 3.091658 | Time: ??\n",
      "Epoch 5000 | Loss: 1.583554 | Time: ??\n",
      "Epoch 6000 | Loss: 4.813123 | Time: ??\n",
      "Epoch 7000 | Loss: 1.397553 | Time: ??\n"
     ]
    }
   ],
   "source": [
    "num_epochs = 7000\n",
    "#for epoch\n",
    "for epoch in range(num_epochs):\n",
    "\n",
    "    #get random batch\n",
    "    input_batch, label_batch = random_batch(batch_size, corpus)\n",
    "    input_batch = torch.LongTensor(input_batch)\n",
    "    label_batch = torch.LongTensor(label_batch)\n",
    "    \n",
    "    # print(input_batch.shape, label_batch.shape, all_vocabs.shape)\n",
    "    \n",
    "    #loss = model\n",
    "    loss = model(input_batch, label_batch, all_vocabs)\n",
    "    \n",
    "    #backpropagate\n",
    "    loss.backward()\n",
    "    \n",
    "    #update alpha\n",
    "    optimizer.step()\n",
    "    \n",
    "    #print epoch loss\n",
    "    if (epoch + 1) % 1000 == 0:\n",
    "        print(f\"Epoch {epoch+1} | Loss: {loss:.6f} | Time: ??\")"
   ]
  },
  {
   "cell_type": "code",
   "execution_count": 34,
   "metadata": {},
   "outputs": [],
   "source": [
    "def get_embed(word):\n",
    "    try:\n",
    "        index = word_2_idx[word]\n",
    "    except:\n",
    "        index = word_2_idx['<UNK>']\n",
    "    \n",
    "    word = torch.LongTensor([index])\n",
    "\n",
    "    center_embed  = model.embedding_center_word(word)\n",
    "    outside_embed = model.embedding_outside_word(word)\n",
    "    \n",
    "    embed = (center_embed + outside_embed) / 2\n",
    "    \n",
    "    return  embed[0][0].item(), embed[0][1].item()\n"
   ]
  },
  {
   "cell_type": "code",
   "execution_count": 35,
   "metadata": {},
   "outputs": [
    {
     "data": {
      "image/png": "[encoded data removed]",
      "text/plain": [
       "<Figure size 1080x1440 with 1 Axes>"
      ]
     },
     "metadata": {
      "needs_background": "light"
     },
     "output_type": "display_data"
    }
   ],
   "source": [
    "plt.figure(figsize=(15,20))\n",
    "for i, word in enumerate(vocabs[:20]): #loop each unique vocab\n",
    "    x, y = get_embed(word)\n",
    "    plt.scatter(x, y)\n",
    "    plt.annotate(word, xy=(x, y), xytext=(5, 2), textcoords='offset points')\n",
    "plt.show()"
   ]
  },
  {
   "attachments": {},
   "cell_type": "markdown",
   "metadata": {},
   "source": [
    "## Similarity test"
   ]
  },
  {
   "cell_type": "code",
   "execution_count": 666,
   "metadata": {},
   "outputs": [],
   "source": [
    "cat          = get_embed('cat')\n",
    "\n",
    "smooth        = get_embed('smooth')\n",
    "mango = get_embed('mango')\n",
    "animal       = get_embed('animal')"
   ]
  },
  {
   "cell_type": "code",
   "execution_count": 38,
   "metadata": {},
   "outputs": [],
   "source": [
    "def test_senario(a1 , a2) :\n",
    "    tester1 = get_embed(a1)\n",
    "    teater2 = get_embed(a2)\n",
    "    print(f\"{a1} vs {a2} = {cos_sim(tester1 , teater2)}\")"
   ]
  },
  {
   "cell_type": "code",
   "execution_count": 667,
   "metadata": {},
   "outputs": [
    {
     "data": {
      "text/plain": [
       "(4.341585636138916, 2.1411867141723633)"
      ]
     },
     "execution_count": 667,
     "metadata": {},
     "output_type": "execute_result"
    }
   ],
   "source": [
    "cat"
   ]
  },
  {
   "cell_type": "code",
   "execution_count": 37,
   "metadata": {},
   "outputs": [],
   "source": [
    "from numpy import dot\n",
    "from numpy.linalg import norm\n",
    "\n",
    "def cos_sim(a, b):\n",
    "    cos_sim = dot(a, b)/(norm(a)*norm(b))\n",
    "    return cos_sim\n",
    "    \n",
    "# print(f\"cat vs. smooth: \",        cos_sim(cat, smooth))\n",
    "# print(f\"mango vs. animal: \",       cos_sim(mango, animal))\n",
    "# print(f\"mango vs. smooth: \",       cos_sim(mango, smooth))\n",
    "# print(f\"cat vs. cat: \",          cos_sim(cat, cat))"
   ]
  },
  {
   "cell_type": "code",
   "execution_count": 43,
   "metadata": {},
   "outputs": [
    {
     "name": "stdout",
     "output_type": "stream",
     "text": [
      "cat vs fruit = 0.9953290568145609\n"
     ]
    }
   ],
   "source": [
    "test_senario(\"cat\",\"fruit\")"
   ]
  },
  {
   "cell_type": "code",
   "execution_count": null,
   "metadata": {},
   "outputs": [],
   "source": []
  }
 ],
 "metadata": {
  "kernelspec": {
   "display_name": "Python 3",
   "language": "python",
   "name": "python3"
  },
  "language_info": {
   "codemirror_mode": {
    "name": "ipython",
    "version": 3
   },
   "file_extension": ".py",
   "mimetype": "text/x-python",
   "name": "python",
   "nbconvert_exporter": "python",
   "pygments_lexer": "ipython3",
   "version": "3.9.0 (tags/v3.9.0:9cf6752, Oct  5 2020, 15:34:40) [MSC v.1927 64 bit (AMD64)]"
  },
  "orig_nbformat": 4,
  "vscode": {
   "interpreter": {
    "hash": "3dc66c11351b0102d9b13bb868253b81f2002b43c320e9088049bbc4e6917ed6"
   }
  }
 },
 "nbformat": 4,
 "nbformat_minor": 2
}

{
 "cells": [
  {
   "attachments": {},
   "cell_type": "markdown",
   "metadata": {},
   "source": [
    "# word2vec (Skipgram)"
   ]
  },
  {
   "attachments": {},
   "cell_type": "markdown",
   "metadata": {},
   "source": [
    "## 1.Load data"
   ]
  },
  {
   "attachments": {},
   "cell_type": "markdown",
   "metadata": {},
   "source": [
    "### import library"
   ]
  },
  {
   "cell_type": "code",
   "execution_count": 1,
   "metadata": {},
   "outputs": [],
   "source": [
    "import numpy as np \n",
    "import torch \n",
    "import torch.nn as nn\n",
    "import torch.optim as optim \n",
    "import matplotlib.pyplot as plt \n",
    "import spacy\n",
    "import pandas as pd \n",
    "import time \n",
    "import itertools\n",
    "from numpy import dot\n",
    "from numpy.linalg import norm\n",
    "nlp = spacy.load(\"en_core_web_sm\")"
   ]
  },
  {
   "attachments": {},
   "cell_type": "markdown",
   "metadata": {},
   "source": [
    "### Load corpus data from text file"
   ]
  },
  {
   "cell_type": "code",
   "execution_count": 2,
   "metadata": {},
   "outputs": [],
   "source": [
    "f = ((open(\"questions-words.txt\", \"r\")).read()).split(\":\")\n",
    "corpus_syntactic = (f[14]).split(\"\\n\")[1:-1] # Singular and Plural Verbs\n",
    "corpus_semantic = (f[5]).split(\"\\n\")[1:-1] # Family [boy, girl, brother, sister]\n",
    "\n",
    "corpus = corpus_semantic + corpus_syntactic #All corpus\n",
    "word = [[corpus[i]] for i in range(len(corpus))] #extract the data\n",
    "\n",
    "corpus_syntactic = [[corpus_syntactic[i]] for i in range(len(corpus_syntactic))] #contain the corpus in list\n",
    "corpus_semantic = [[corpus_semantic[i]] for i in range(len(corpus_semantic))]"
   ]
  },
  {
   "attachments": {},
   "cell_type": "markdown",
   "metadata": {},
   "source": [
    "## 2.Tokenization"
   ]
  },
  {
   "cell_type": "code",
   "execution_count": 3,
   "metadata": {},
   "outputs": [],
   "source": [
    "def tokenize(corpus_input) : #Tokenize function by using spacy\n",
    "    corpus_tokenizedd = []\n",
    "    for token in corpus_input : \n",
    "        spare = []\n",
    "        for ss in nlp(str(token[0])) :\n",
    "            spare.append(str(ss))\n",
    "        corpus_tokenizedd.append(spare)    \n",
    "    return corpus_tokenizedd  "
   ]
  },
  {
   "cell_type": "code",
   "execution_count": 4,
   "metadata": {},
   "outputs": [],
   "source": [
    "corpus_tokenized = tokenize(word)\n",
    "cor_sem_token = tokenize(corpus_semantic) # Tokenize the data that use to test syntactic and semantic accuracy\n",
    "cor_syn_token = tokenize(corpus_syntactic)"
   ]
  },
  {
   "attachments": {},
   "cell_type": "markdown",
   "metadata": {},
   "source": [
    "Affter tokenize data with look like this krub  ```[['boy', 'girl', 'brother', 'sister'], ['boy', 'girl', 'brothers', 'sisters']]```"
   ]
  },
  {
   "cell_type": "code",
   "execution_count": 5,
   "metadata": {},
   "outputs": [],
   "source": [
    "flatten = lambda l: [item for sublist in l for item in sublist]\n",
    "vocabs  = list(set(flatten(corpus_tokenized)))\n",
    "vocabs_syn  = list(set(flatten(cor_syn_token)))\n",
    "vocabs_sem  = list(set(flatten(cor_sem_token)))"
   ]
  },
  {
   "cell_type": "code",
   "execution_count": 6,
   "metadata": {},
   "outputs": [
    {
     "data": {
      "text/plain": [
       "['sister', 'vanishes', 'decrease', 'generate', 'woman']"
      ]
     },
     "execution_count": 6,
     "metadata": {},
     "output_type": "execute_result"
    }
   ],
   "source": [
    "vocabs[0:5] #show example of vocabs"
   ]
  },
  {
   "attachments": {},
   "cell_type": "markdown",
   "metadata": {},
   "source": [
    "## 3.Numerization"
   ]
  },
  {
   "cell_type": "code",
   "execution_count": 7,
   "metadata": {},
   "outputs": [],
   "source": [
    "word_2_idx = {v: idx for idx, v in enumerate(vocabs)}\n",
    "vocabs.append('<UNK>')\n",
    "word_2_idx['<UNK>'] = len(word_2_idx) "
   ]
  },
  {
   "cell_type": "code",
   "execution_count": 8,
   "metadata": {},
   "outputs": [
    {
     "data": {
      "text/plain": [
       "{'sister': 0,\n",
       " 'vanishes': 1,\n",
       " 'decrease': 2,\n",
       " 'generate': 3,\n",
       " 'woman': 4,\n",
       " 'grandma': 5,\n",
       " 'vanish': 6,\n",
       " 'write': 7,\n",
       " 'stepdaughter': 8,\n",
       " 'policeman': 9}"
      ]
     },
     "execution_count": 8,
     "metadata": {},
     "output_type": "execute_result"
    }
   ],
   "source": [
    "dict(itertools.islice(word_2_idx.items(), 10)) #"
   ]
  },
  {
   "attachments": {},
   "cell_type": "markdown",
   "metadata": {},
   "source": [
    "## 4.Prepare data"
   ]
  },
  {
   "cell_type": "code",
   "execution_count": 9,
   "metadata": {},
   "outputs": [],
   "source": [
    "def random_batch_skipgram(batch_size, corpus_tokenized):\n",
    "    \n",
    "    Skipgram = []\n",
    "\n",
    "    #for each corpus\n",
    "    for sent in corpus_tokenized:\n",
    "        try :\n",
    "            for i in range(1, len(sent) - 1): #start from 1 to second last\n",
    "                center_word = word_2_idx[sent[i]]\n",
    "                outside_words = [word_2_idx[sent[i-1]], word_2_idx[sent[i+1]]]  #window_size = 1\n",
    "                for o in outside_words:\n",
    "                    Skipgram.append([center_word, o]) #use outside word to predict center word\n",
    "        except :\n",
    "            pass               \n",
    "    #only get a batch, not the entire list\n",
    "    random_inputs, random_labels = [], []   \n",
    "    random_index = np.random.choice(range(len(Skipgram)), batch_size, replace=False)\n",
    "             \n",
    "    #appending some list of inputs and labels\n",
    "    for index in random_index:\n",
    "        random_inputs.append([Skipgram[index][0]])  \n",
    "        random_labels.append([Skipgram[index][1]])\n",
    "        \n",
    "    return np.array(random_inputs), np.array(random_labels)"
   ]
  },
  {
   "attachments": {},
   "cell_type": "markdown",
   "metadata": {},
   "source": [
    "## 5.Model"
   ]
  },
  {
   "cell_type": "code",
   "execution_count": 10,
   "metadata": {},
   "outputs": [],
   "source": [
    "class Skipgram(nn.Module):\n",
    "    \n",
    "    def __init__(self, voc_size, emb_size):\n",
    "        super(Skipgram, self).__init__()\n",
    "        self.embedding_center_word  = nn.Embedding(voc_size, emb_size)  \n",
    "        self.embedding_outside_word = nn.Embedding(voc_size, emb_size)\n",
    "    \n",
    "    def forward(self, center_word, outside_word, all_vocabs):\n",
    "        #convert them into embedding\n",
    "        center_word_embed  = self.embedding_center_word(center_word)     #(batch_size, 1, emb_size)\n",
    "        outside_word_embed = self.embedding_outside_word(outside_word)   #(batch_size, 1, emb_size)\n",
    "        all_vocabs_embed   = self.embedding_outside_word(all_vocabs)     #(batch_size, voc_size, emb_size)\n",
    "        top_term = outside_word_embed.bmm(center_word_embed.transpose(1, 2)).squeeze(2)\n",
    "        top_term_exp = torch.exp(top_term) \n",
    "        lower_term = all_vocabs_embed.bmm(center_word_embed.transpose(1, 2)).squeeze(2)\n",
    "        lower_term_sum = torch.sum(torch.exp(lower_term), 1) \n",
    "        loss_fn = -torch.mean(torch.log(top_term_exp / lower_term_sum))\n",
    "\n",
    "        \n",
    "        return loss_fn"
   ]
  },
  {
   "attachments": {},
   "cell_type": "markdown",
   "metadata": {},
   "source": [
    "## 6. Train"
   ]
  },
  {
   "cell_type": "code",
   "execution_count": 11,
   "metadata": {},
   "outputs": [],
   "source": [
    "voc_size = len(vocabs) #Size of vocabs\n",
    "batch_size = 2 #Batch size \n",
    "emb_size   = 4 #Embeading size of 4\n",
    "Skipgram   = Skipgram(voc_size, emb_size)\n",
    "criterion  = nn.CrossEntropyLoss()  \n",
    "optimizer  = optim.Adam(Skipgram.parameters(), lr=0.000108)\n",
    "num_epochs = 5000"
   ]
  },
  {
   "cell_type": "code",
   "execution_count": 12,
   "metadata": {},
   "outputs": [
    {
     "data": {
      "text/plain": [
       "torch.Size([2, 107])"
      ]
     },
     "execution_count": 12,
     "metadata": {},
     "output_type": "execute_result"
    }
   ],
   "source": [
    "def prepare_sequence(seq, word2index):\n",
    "    #map(function, list of something)\n",
    "    #map will look at each of element in this list, and apply this function\n",
    "    idxs = list(map(lambda w: word2index[w] if word2index.get(w) is not None else word2index[\"<UNK>\"], seq))\n",
    "    return torch.LongTensor(idxs)\n",
    "\n",
    "all_vocabs = prepare_sequence(list(vocabs), word_2_idx).expand(batch_size, voc_size)\n",
    "all_vocabs.shape #Shape of vocabs"
   ]
  },
  {
   "cell_type": "code",
   "execution_count": 13,
   "metadata": {},
   "outputs": [],
   "source": [
    "def epoch_time(start_time, end_time):\n",
    "    elapsed_time = (end_time - start_time)\n",
    "    return elapsed_time"
   ]
  },
  {
   "cell_type": "code",
   "execution_count": 14,
   "metadata": {},
   "outputs": [
    {
     "name": "stdout",
     "output_type": "stream",
     "text": [
      "Epoch 1000 | Loss: 6.627711 | Time: 8.806552410125732 s\n",
      "Epoch 2000 | Loss: 6.077048 | Time: 8.34883189201355 s\n",
      "Epoch 3000 | Loss: 4.922022 | Time: 8.508143186569214 s\n",
      "Epoch 4000 | Loss: 4.108150 | Time: 8.505576133728027 s\n",
      "Epoch 5000 | Loss: 4.594633 | Time: 8.163592338562012 s\n",
      "sumary of time is : 42.332695960998535 \n"
     ]
    }
   ],
   "source": [
    "run_time_normal = 0\n",
    "sum_time = 0\n",
    "#for epoch\n",
    "for epoch in range(num_epochs):\n",
    "    start_time = time.time()\n",
    "\n",
    "    #get random batch\n",
    "    input_batch, label_batch = random_batch_skipgram(batch_size, corpus_tokenized)\n",
    "    input_batch = torch.LongTensor(input_batch)\n",
    "    label_batch = torch.LongTensor(label_batch)\n",
    "    \n",
    "    \n",
    "    #loss = model\n",
    "    loss = Skipgram(input_batch, label_batch, all_vocabs)\n",
    "    #backpropagate\n",
    "    loss.backward()\n",
    "    #update alpha\n",
    "    optimizer.step()\n",
    "    stop_time = time.time()\n",
    "    run_time_normal = run_time_normal + epoch_time(start_time, stop_time)\n",
    "    \n",
    "    #print epoch loss\n",
    "    if (epoch + 1) % 1000 == 0:\n",
    "        sum_time += run_time_normal\n",
    "        print(f\"Epoch {epoch+1} | Loss: {loss:.6f} | Time: {run_time_normal} s\")\n",
    "        run_time_normal = 0\n",
    "print(f\"sumary of time is : {sum_time} \" )    "
   ]
  },
  {
   "attachments": {},
   "cell_type": "markdown",
   "metadata": {},
   "source": [
    "## 7. Visualize Data (PCA)"
   ]
  },
  {
   "cell_type": "code",
   "execution_count": 15,
   "metadata": {},
   "outputs": [],
   "source": [
    "def get_embed(word , model):\n",
    "    \n",
    "    try:\n",
    "        index = word_2_idx[word]\n",
    "    except:\n",
    "        index = word_2_idx['<UNK>']\n",
    "    \n",
    "    word = torch.LongTensor([index])\n",
    "    center_embed  = model.embedding_center_word(word)\n",
    "    outside_embed = model.embedding_outside_word(word)\n",
    "    embed = (center_embed + outside_embed) / 2\n",
    "    \n",
    "    return  [embed[0][i].item() for i in range(emb_size)]\n"
   ]
  },
  {
   "cell_type": "code",
   "execution_count": 16,
   "metadata": {},
   "outputs": [],
   "source": [
    "words = []\n",
    "for i, word in enumerate(vocabs[:40]): #loop each unique vocab\n",
    "    words.append(word)\n",
    "vec_word  = []\n"
   ]
  },
  {
   "cell_type": "code",
   "execution_count": 17,
   "metadata": {},
   "outputs": [
    {
     "data": {
      "image/png": "[encoded data removed]",
      "text/plain": [
       "<Figure size 1080x720 with 1 Axes>"
      ]
     },
     "metadata": {
      "needs_background": "light"
     },
     "output_type": "display_data"
    }
   ],
   "source": [
    "from sklearn.decomposition import PCA\n",
    "import numpy as np\n",
    "import matplotlib.pyplot as plt\n",
    "for oo in words :\n",
    "    vec_word.append(np.array(get_embed(oo, Skipgram)))\n",
    "word_vectors = vec_word\n",
    "twodim = PCA().fit_transform(word_vectors)[:,:2]  #transform 4 to 2 dimensions\n",
    "\n",
    "plt.figure(figsize=(15,10))\n",
    "plt.scatter(twodim[:,0], twodim[:,1], edgecolors='k', c='r')\n",
    "for word, (x,y) in zip(words, twodim):\n",
    "    plt.text(x+0.05, y+0.05, word)\n",
    "plt.show()"
   ]
  },
  {
   "attachments": {},
   "cell_type": "markdown",
   "metadata": {},
   "source": [
    "## 8. Analogy"
   ]
  },
  {
   "attachments": {},
   "cell_type": "markdown",
   "metadata": {},
   "source": [
    "#### **“man is to king as woman is to queen”**"
   ]
  },
  {
   "attachments": {},
   "cell_type": "markdown",
   "metadata": {},
   "source": [
    "<img style=\"float: center;\" src=\"https://carl-allen.github.io/assets/analogy/parallelogram2.svg\">"
   ]
  },
  {
   "cell_type": "code",
   "execution_count": 18,
   "metadata": {},
   "outputs": [],
   "source": [
    "vectors = { token:np.array(get_embed(token, Skipgram)) for token in vocabs } # write function to contain {token : array of token}\n",
    "vectors_sementic = { token:np.array(get_embed(token, Skipgram)) for token in vocabs_sem }\n",
    "vectors_syntactic = { token:np.array(get_embed(token, Skipgram)) for token in vocabs_syn }"
   ]
  },
  {
   "cell_type": "code",
   "execution_count": 19,
   "metadata": {},
   "outputs": [
    {
     "data": {
      "text/plain": [
       "{'grandfather': array([ 0.83694243,  0.59414077,  0.62368333, -0.45663542]),\n",
       " 'sons': array([-0.00213587,  0.42554215,  0.77207243,  0.22305025]),\n",
       " 'husband': array([0.07638786, 0.05400336, 0.76578677, 0.69274265]),\n",
       " 'sister': array([ 0.66726297, -0.08422171, -0.22490735, -0.14483154]),\n",
       " 'man': array([-0.11684401,  0.41454887,  0.42543805,  0.67782456])}"
      ]
     },
     "execution_count": 19,
     "metadata": {},
     "output_type": "execute_result"
    }
   ],
   "source": [
    "dict(itertools.islice(vectors_sementic.items(), 5)) # show example of dictionary"
   ]
  },
  {
   "cell_type": "code",
   "execution_count": 20,
   "metadata": {},
   "outputs": [],
   "source": [
    "sum = (vectors[\"dad\"]-vectors[\"mom\"])+vectors[\"brothers\"]"
   ]
  },
  {
   "cell_type": "code",
   "execution_count": 21,
   "metadata": {},
   "outputs": [
    {
     "name": "stdout",
     "output_type": "stream",
     "text": [
      " 'dad' - 'mom' + 'brothers' similarity to 'sister'  at 89.19128258040185 percentage\n"
     ]
    }
   ],
   "source": [
    "sum_value = np.dot(sum, vectors[\"brothers\"]) / (np.linalg.norm(sum) * np.linalg.norm(vectors[\"brothers\"]))\n",
    "print(f\" 'dad' - 'mom' + 'brothers' similarity to 'sister'  at {sum_value*100} percentage\")"
   ]
  },
  {
   "cell_type": "code",
   "execution_count": 22,
   "metadata": {},
   "outputs": [],
   "source": [
    "def analogy(x1, x2, y1, vectors):\n",
    "    x1_vec, x2_vec, y1_vec = vectors[x1], vectors[x2], vectors[y1]\n",
    "    result_vec = y1_vec + (x2_vec - x1_vec)\n",
    "    result = closest_word(result_vec, vectors)\n",
    "    return result\n",
    "\n",
    "# function to find closest word to a given vector\n",
    "def closest_word(vec, vectors):\n",
    "    closest_idx = np.argmax([cosine_similarity(vec, v) for v in vectors.values()]) # use argmax to find the index of \n",
    "    return list(vectors.keys())[closest_idx]\n",
    "\n",
    "# function to calculate cosine similarity\n",
    "def cosine_similarity(v1, v2):\n",
    "    return np.dot(v1, v2) / (np.linalg.norm(v1) * np.linalg.norm(v2))"
   ]
  },
  {
   "attachments": {},
   "cell_type": "markdown",
   "metadata": {},
   "source": [
    "this code ``` np.argmax([cosine_similarity(vec, v) for v in vectors.values()] ``` use to find the most similarity from the result vector to vector of all vocabs"
   ]
  },
  {
   "cell_type": "code",
   "execution_count": 23,
   "metadata": {},
   "outputs": [],
   "source": [
    "def test_senario(a1 , a2, model_l) :\n",
    "    tester1 = get_embed(a1, model_l)\n",
    "    teater2 = get_embed(a2, model_l)\n",
    "    print(f\"{a1} similarity to {a2} = {cosine_similarity(tester1 , teater2)}\")"
   ]
  },
  {
   "cell_type": "code",
   "execution_count": 24,
   "metadata": {},
   "outputs": [
    {
     "name": "stdout",
     "output_type": "stream",
     "text": [
      "provide similarity to provides = 0.6381153619287986\n"
     ]
    }
   ],
   "source": [
    "test_senario(\"provide\",\"provides\", Skipgram)\n"
   ]
  },
  {
   "cell_type": "code",
   "execution_count": 25,
   "metadata": {},
   "outputs": [
    {
     "data": {
      "text/plain": [
       "'go'"
      ]
     },
     "execution_count": 25,
     "metadata": {},
     "output_type": "execute_result"
    }
   ],
   "source": [
    "analogy('eat', 'eats', 'listen', vectors)"
   ]
  },
  {
   "cell_type": "code",
   "execution_count": 26,
   "metadata": {},
   "outputs": [
    {
     "data": {
      "text/plain": [
       "'plays'"
      ]
     },
     "execution_count": 26,
     "metadata": {},
     "output_type": "execute_result"
    }
   ],
   "source": [
    "analogy('he', 'she', 'stepson', vectors)"
   ]
  },
  {
   "cell_type": "code",
   "execution_count": 27,
   "metadata": {},
   "outputs": [],
   "source": [
    "def extract_word(word_m) :\n",
    "    word_cc = []\n",
    "    for value in word_m :\n",
    "        temporary = []\n",
    "        for indx in range (len(value)) :\n",
    "            temporary.append(value[indx])\n",
    "            if int(indx + 1) % int(2) == 0 :\n",
    "                if temporary not in word_cc :\n",
    "                    word_cc.append(temporary)\n",
    "                temporary = []\n",
    "    return word_cc            \n",
    "            "
   ]
  },
  {
   "cell_type": "code",
   "execution_count": 28,
   "metadata": {},
   "outputs": [],
   "source": [
    "semantic_word = extract_word(cor_sem_token)\n",
    "syntactic_word = extract_word(cor_syn_token)"
   ]
  },
  {
   "cell_type": "code",
   "execution_count": 29,
   "metadata": {},
   "outputs": [
    {
     "data": {
      "text/plain": [
       "30"
      ]
     },
     "execution_count": 29,
     "metadata": {},
     "output_type": "execute_result"
    }
   ],
   "source": [
    "len(syntactic_word)"
   ]
  },
  {
   "cell_type": "code",
   "execution_count": 30,
   "metadata": {},
   "outputs": [],
   "source": [
    "def acc_test (word_test , vector_target) :\n",
    "    count = 0\n",
    "    round = 0\n",
    "    print(f\"the correct word is : \")\n",
    "    for tokens in word_test : # word_cc[0] look like this [decrease , decreases] then i loop and check analogy every word\n",
    "        word1 = tokens[0]\n",
    "        word2 = tokens[1]\n",
    "        for ss in range (len(word_test)) :\n",
    "            if str(word1) != str(word_test[ss][0]) :\n",
    "                relt  = analogy( str(word1), str(word2), word_test[ss][0], vector_target)\n",
    "                round = round+1\n",
    "                if str(relt) == str(word_test[ss][1]) :\n",
    "                    print(f'{word1} is to {word2} as {word_test[ss][0]} to {relt}')\n",
    "                    count = count + 1     \n",
    "            else : \n",
    "                pass        \n",
    "    accuracy = (abs(count/round)) * 100        \n",
    "    print(f\"test {round} time correct {count} time, you accuracy is {accuracy :.2f} percentage\")    \n",
    "    return accuracy"
   ]
  },
  {
   "attachments": {},
   "cell_type": "markdown",
   "metadata": {},
   "source": [
    "this dataset have 30 pair of singular and phural verbs. When loop to check with every word should be 900 round but there are 30 pair that repeated."
   ]
  },
  {
   "cell_type": "code",
   "execution_count": 31,
   "metadata": {},
   "outputs": [
    {
     "name": "stdout",
     "output_type": "stream",
     "text": [
      "the correct word is : \n",
      "decrease is to decreases as eat to eats\n",
      "describe is to describes as swim to swims\n",
      "eat is to eats as decrease to decreases\n",
      "enhance is to enhances as vanish to vanishes\n",
      "estimate is to estimates as implement to implements\n",
      "find is to finds as sit to sits\n",
      "find is to finds as swim to swims\n",
      "generate is to generates as predict to predicts\n",
      "go is to goes as decrease to decreases\n",
      "go is to goes as estimate to estimates\n",
      "go is to goes as see to sees\n",
      "implement is to implements as search to searches\n",
      "implement is to implements as swim to swims\n",
      "increase is to increases as eat to eats\n",
      "increase is to increases as search to searches\n",
      "increase is to increases as swim to swims\n",
      "listen is to listens as implement to implements\n",
      "listen is to listens as predict to predicts\n",
      "listen is to listens as swim to swims\n",
      "play is to plays as decrease to decreases\n",
      "play is to plays as eat to eats\n",
      "play is to plays as go to goes\n",
      "predict is to predicts as implement to implements\n",
      "predict is to predicts as swim to swims\n",
      "provide is to provides as go to goes\n",
      "provide is to provides as play to plays\n",
      "provide is to provides as shuffle to shuffles\n",
      "say is to says as decrease to decreases\n",
      "say is to says as eat to eats\n",
      "say is to says as scream to screams\n",
      "say is to says as shuffle to shuffles\n",
      "scream is to screams as decrease to decreases\n",
      "scream is to screams as eat to eats\n",
      "scream is to screams as shuffle to shuffles\n",
      "scream is to screams as talk to talks\n",
      "scream is to screams as vanish to vanishes\n",
      "search is to searches as implement to implements\n",
      "search is to searches as swim to swims\n",
      "see is to sees as decrease to decreases\n",
      "see is to sees as scream to screams\n",
      "see is to sees as slow to slows\n",
      "see is to sees as talk to talks\n",
      "shuffle is to shuffles as decrease to decreases\n",
      "shuffle is to shuffles as eat to eats\n",
      "shuffle is to shuffles as say to says\n",
      "shuffle is to shuffles as scream to screams\n",
      "shuffle is to shuffles as talk to talks\n",
      "sing is to sings as predict to predicts\n",
      "sit is to sits as say to says\n",
      "sit is to sits as search to searches\n",
      "slow is to slows as decrease to decreases\n",
      "slow is to slows as see to sees\n",
      "slow is to slows as talk to talks\n",
      "speak is to speaks as say to says\n",
      "speak is to speaks as work to works\n",
      "swim is to swims as implement to implements\n",
      "think is to thinks as generate to generates\n",
      "vanish is to vanishes as go to goes\n",
      "vanish is to vanishes as provide to provides\n",
      "vanish is to vanishes as write to writes\n",
      "walk is to walks as say to says\n",
      "work is to works as estimate to estimates\n",
      "work is to works as see to sees\n",
      "write is to writes as enhance to enhances\n",
      "write is to writes as go to goes\n",
      "write is to writes as slow to slows\n",
      "test 870 time correct 66 time, you accuracy is 7.59 percentage\n"
     ]
    }
   ],
   "source": [
    "skipgram_syn_acc = acc_test(syntactic_word, vectors_syntactic)"
   ]
  },
  {
   "cell_type": "code",
   "execution_count": 32,
   "metadata": {},
   "outputs": [
    {
     "name": "stdout",
     "output_type": "stream",
     "text": [
      "the correct word is : \n",
      "boy is to girl as his to her\n",
      "brother is to sister as grandson to granddaughter\n",
      "brother is to sister as stepson to stepdaughter\n",
      "dad is to mom as stepson to stepdaughter\n",
      "father is to mother as grandpa to grandma\n",
      "grandpa is to grandma as he to she\n",
      "grandson is to granddaughter as stepson to stepdaughter\n",
      "groom is to bride as grandfather to grandmother\n",
      "groom is to bride as king to queen\n",
      "groom is to bride as stepfather to stepmother\n",
      "husband is to wife as grandfather to grandmother\n",
      "husband is to wife as grandson to granddaughter\n",
      "husband is to wife as nephew to niece\n",
      "husband is to wife as stepson to stepdaughter\n",
      "king is to queen as son to daughter\n",
      "king is to queen as stepfather to stepmother\n",
      "man is to woman as grandson to granddaughter\n",
      "nephew is to niece as grandfather to grandmother\n",
      "nephew is to niece as grandson to granddaughter\n",
      "nephew is to niece as stepson to stepdaughter\n",
      "policeman is to policewoman as father to mother\n",
      "policeman is to policewoman as grandpa to grandma\n",
      "policeman is to policewoman as he to she\n",
      "prince is to princess as father to mother\n",
      "prince is to princess as policeman to policewoman\n",
      "son is to daughter as groom to bride\n",
      "son is to daughter as king to queen\n",
      "son is to daughter as stepfather to stepmother\n",
      "sons is to daughters as stepson to stepdaughter\n",
      "stepbrother is to stepsister as groom to bride\n",
      "stepson is to stepdaughter as grandson to granddaughter\n",
      "test 506 time correct 31 time, you accuracy is 6.13 percentage\n"
     ]
    }
   ],
   "source": [
    "skipgram_sem_acc = acc_test(semantic_word, vectors_sementic)"
   ]
  },
  {
   "attachments": {},
   "cell_type": "markdown",
   "metadata": {},
   "source": [
    "# CBOW"
   ]
  },
  {
   "attachments": {},
   "cell_type": "markdown",
   "metadata": {},
   "source": [
    "At above i am already Tokenize and numerize the data"
   ]
  },
  {
   "attachments": {},
   "cell_type": "markdown",
   "metadata": {},
   "source": [
    "## 1. Prepare the data"
   ]
  },
  {
   "cell_type": "code",
   "execution_count": 33,
   "metadata": {},
   "outputs": [],
   "source": [
    "def random_batch_CBOW(batch_size, corpus_tokenized):\n",
    "    \n",
    "    CBOW = []\n",
    "\n",
    "    #for each corpus\n",
    "    for sent in corpus_tokenized:\n",
    "        try :\n",
    "            for i in range(1, len(sent) - 1): #start from 1 to second last\n",
    "                center_word = word_2_idx[sent[i]]\n",
    "                outside_words = [word_2_idx[sent[i-1]], word_2_idx[sent[i+1]]]  #window_size = 1\n",
    "                for o in outside_words:\n",
    "                    CBOW.append([o,center_word ]) #use outside word to predict center word\n",
    "        except :\n",
    "            pass               \n",
    "    #only get a batch, not the entire list\n",
    "    random_inputs, random_labels = [], []   \n",
    "    random_index = np.random.choice(range(len(CBOW)), batch_size, replace=False)\n",
    "             \n",
    "    #appending some list of inputs and labels\n",
    "    for index in random_index:\n",
    "        random_inputs.append([CBOW[index][0]])  \n",
    "        random_labels.append([CBOW[index][1]])\n",
    "        \n",
    "    return np.array(random_inputs), np.array(random_labels)"
   ]
  },
  {
   "attachments": {},
   "cell_type": "markdown",
   "metadata": {},
   "source": [
    "## 2. Model "
   ]
  },
  {
   "cell_type": "code",
   "execution_count": 34,
   "metadata": {},
   "outputs": [],
   "source": [
    "class CBOW(nn.Module):\n",
    "    \n",
    "    def __init__(self, voc_size, emb_size):\n",
    "        super(CBOW, self).__init__()\n",
    "        self.embedding_center_word  = nn.Embedding(voc_size, emb_size)  \n",
    "        self.embedding_outside_word = nn.Embedding(voc_size, emb_size)\n",
    "    \n",
    "    def forward(self, center_word, outside_word, all_vocabs):\n",
    "        #convert them into embedding\n",
    "        center_word_embed  = self.embedding_center_word(center_word)     #(batch_size, 1, emb_size)\n",
    "        outside_word_embed = self.embedding_outside_word(outside_word)   #(batch_size, 1, emb_size)\n",
    "        all_vocabs_embed   = self.embedding_outside_word(all_vocabs)     #(batch_size, voc_size, emb_size)\n",
    "        top_term = outside_word_embed.bmm(center_word_embed.transpose(1, 2)).squeeze(2)\n",
    "        top_term_exp = torch.exp(top_term) \n",
    "        lower_term = all_vocabs_embed.bmm(center_word_embed.transpose(1, 2)).squeeze(2)\n",
    "        lower_term_sum = torch.sum(torch.exp(lower_term), 1) \n",
    "        loss_fn = -torch.mean(torch.log(top_term_exp / lower_term_sum))\n",
    "\n",
    "        \n",
    "        return loss_fn"
   ]
  },
  {
   "attachments": {},
   "cell_type": "markdown",
   "metadata": {},
   "source": [
    "## 3.Train"
   ]
  },
  {
   "cell_type": "code",
   "execution_count": 35,
   "metadata": {},
   "outputs": [
    {
     "name": "stdout",
     "output_type": "stream",
     "text": [
      "Epoch 1000 | Loss: 7.045941 | Time: 9.34753942489624 s\n",
      "Epoch 2000 | Loss: 4.647412 | Time: 8.173540353775024 s\n",
      "Epoch 3000 | Loss: 4.560132 | Time: 8.194368362426758 s\n",
      "Epoch 4000 | Loss: 6.304324 | Time: 8.136632442474365 s\n",
      "Epoch 5000 | Loss: 7.470479 | Time: 8.313058376312256 s\n",
      "sumary of time is : 42.165138959884644 \n"
     ]
    }
   ],
   "source": [
    "CBOW = CBOW(voc_size, emb_size)\n",
    "num_epochs = 5000\n",
    "run_time_normal = 0\n",
    "sum_time = 0\n",
    "#for epoch\n",
    "for epoch in range(num_epochs):\n",
    "    start_time = time.time()\n",
    "    #get random batch\n",
    "    input_batch, label_batch = random_batch_CBOW(batch_size, corpus_tokenized)\n",
    "    input_batch = torch.LongTensor(input_batch)\n",
    "    label_batch = torch.LongTensor(label_batch)\n",
    "    #loss = model\n",
    "    loss = CBOW(input_batch, label_batch, all_vocabs)\n",
    "    #backpropagate\n",
    "    loss.backward()\n",
    "    #update alpha\n",
    "    optimizer.step()\n",
    "    stop_time = time.time()\n",
    "    run_time_normal = run_time_normal + epoch_time(start_time, stop_time)\n",
    "    \n",
    "    #print epoch loss\n",
    "    if (epoch + 1) % 1000 == 0:\n",
    "        sum_time += run_time_normal\n",
    "        print(f\"Epoch {epoch+1} | Loss: {loss:.6f} | Time: {run_time_normal} s\")\n",
    "        run_time_normal = 0\n",
    "print(f\"sumary of time is : {sum_time} \" )   "
   ]
  },
  {
   "cell_type": "code",
   "execution_count": 36,
   "metadata": {},
   "outputs": [
    {
     "data": {
      "image/png": "[encoded data removed]",
      "text/plain": [
       "<Figure size 1080x720 with 1 Axes>"
      ]
     },
     "metadata": {
      "needs_background": "light"
     },
     "output_type": "display_data"
    }
   ],
   "source": [
    "from sklearn.decomposition import PCA\n",
    "import numpy as np\n",
    "import matplotlib.pyplot as plt\n",
    "vec_word_bow = []\n",
    "for oo in words :\n",
    "    vec_word_bow.append(np.array(get_embed(oo, CBOW)))\n",
    "word_vectors = vec_word\n",
    "twodim = PCA().fit_transform(word_vectors)[:,:2]  #transform 4 to 2 dimensions\n",
    "\n",
    "plt.figure(figsize=(15,10))\n",
    "plt.scatter(twodim[:,0], twodim[:,1], edgecolors='k', c='r')\n",
    "for word, (x,y) in zip(words, twodim):\n",
    "    plt.text(x+0.05, y+0.05, word)\n",
    "plt.show()"
   ]
  },
  {
   "cell_type": "code",
   "execution_count": null,
   "metadata": {},
   "outputs": [],
   "source": []
  }
 ],
 "metadata": {
  "kernelspec": {
   "display_name": "Python 3",
   "language": "python",
   "name": "python3"
  },
  "language_info": {
   "codemirror_mode": {
    "name": "ipython",
    "version": 3
   },
   "file_extension": ".py",
   "mimetype": "text/x-python",
   "name": "python",
   "nbconvert_exporter": "python",
   "pygments_lexer": "ipython3",
   "version": "3.9.0 (tags/v3.9.0:9cf6752, Oct  5 2020, 15:34:40) [MSC v.1927 64 bit (AMD64)]"
  },
  "orig_nbformat": 4,
  "vscode": {
   "interpreter": {
    "hash": "3dc66c11351b0102d9b13bb868253b81f2002b43c320e9088049bbc4e6917ed6"
   }
  }
 },
 "nbformat": 4,
 "nbformat_minor": 2
}

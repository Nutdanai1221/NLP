{
 "cells": [
  {
   "attachments": {},
   "cell_type": "markdown",
   "metadata": {},
   "source": [
    "# word2vec (Skipgram)"
   ]
  },
  {
   "attachments": {},
   "cell_type": "markdown",
   "metadata": {},
   "source": [
    "## 1.Load data"
   ]
  },
  {
   "attachments": {},
   "cell_type": "markdown",
   "metadata": {},
   "source": [
    "### import library"
   ]
  },
  {
   "cell_type": "code",
   "execution_count": 1,
   "metadata": {},
   "outputs": [],
   "source": [
    "import numpy as np \n",
    "import torch \n",
    "import torch.nn as nn\n",
    "import torch.optim as optim \n",
    "import matplotlib.pyplot as plt \n",
    "import spacy\n",
    "import pandas as pd \n",
    "import time \n",
    "import itertools\n",
    "from numpy import dot\n",
    "from numpy.linalg import norm\n",
    "nlp = spacy.load(\"en_core_web_sm\")"
   ]
  },
  {
   "attachments": {},
   "cell_type": "markdown",
   "metadata": {},
   "source": [
    "### Load corpus data from text file"
   ]
  },
  {
   "cell_type": "code",
   "execution_count": 2,
   "metadata": {},
   "outputs": [],
   "source": [
    "f = ((open(\"questions-words.txt\", \"r\")).read()).split(\":\")\n",
    "corpus_syntactic = (f[14]).split(\"\\n\")[1:-1] # Singular and Plural Verbs\n",
    "corpus_semantic = (f[3]).split(\"\\n\")[1:-1] + (f[5]).split(\"\\n\")[1:-1] # Family [boy, girl, brother, sister]\n",
    "\n",
    "#if you want to train with all word uncomment this\n",
    "# corpus = [(f[i-1]).split(\"\\n\")[1:-1] for i in range(len(f))]\n",
    "# word = [[item] for sublist in corpus for item in sublist]\n",
    "\n",
    "corpus = corpus_semantic + corpus_syntactic #All corpus\n",
    "word = [[corpus[i]] for i in range(len(corpus))] #extract the data\n",
    "\n",
    "corpus_syntactic = [[corpus_syntactic[i]] for i in range(len(corpus_syntactic))] #contain the corpus in list\n",
    "corpus_semantic = [[corpus_semantic[i]] for i in range(len(corpus_semantic))]"
   ]
  },
  {
   "cell_type": "code",
   "execution_count": 3,
   "metadata": {},
   "outputs": [
    {
     "data": {
      "text/plain": [
       "2241"
      ]
     },
     "execution_count": 3,
     "metadata": {},
     "output_type": "execute_result"
    }
   ],
   "source": [
    "len(word) #number of group of word"
   ]
  },
  {
   "attachments": {},
   "cell_type": "markdown",
   "metadata": {},
   "source": [
    "## 2.Tokenization"
   ]
  },
  {
   "cell_type": "code",
   "execution_count": 4,
   "metadata": {},
   "outputs": [],
   "source": [
    "def tokenize(corpus_input) : #Tokenize function by using spacy\n",
    "    corpus_tokenizedd = []\n",
    "    for token in corpus_input : \n",
    "        spare = []\n",
    "        for ss in nlp(str(token[0])) :\n",
    "            spare.append(str(ss))\n",
    "        corpus_tokenizedd.append(spare)    \n",
    "    return corpus_tokenizedd  "
   ]
  },
  {
   "cell_type": "code",
   "execution_count": 5,
   "metadata": {},
   "outputs": [],
   "source": [
    "corpus_tokenized = tokenize(word)\n",
    "cor_sem_token = tokenize(corpus_semantic) # Tokenize the data that use to test syntactic and semantic accuracy\n",
    "cor_syn_token = tokenize(corpus_syntactic)"
   ]
  },
  {
   "attachments": {},
   "cell_type": "markdown",
   "metadata": {},
   "source": [
    "Affter tokenize data with look like this krub  ```[['boy', 'girl', 'brother', 'sister'], ['boy', 'girl', 'brothers', 'sisters']]```"
   ]
  },
  {
   "cell_type": "code",
   "execution_count": 6,
   "metadata": {},
   "outputs": [],
   "source": [
    "flatten = lambda l: [item for sublist in l for item in sublist]\n",
    "vocabs  = list(set(flatten(corpus_tokenized)))\n",
    "vocabs_syn  = list(set(flatten(cor_syn_token)))\n",
    "vocabs_sem  = list(set(flatten(cor_sem_token)))"
   ]
  },
  {
   "cell_type": "code",
   "execution_count": 7,
   "metadata": {},
   "outputs": [
    {
     "data": {
      "text/plain": [
       "['shuffles', 'India', 'real', 'woman', 'dad']"
      ]
     },
     "execution_count": 7,
     "metadata": {},
     "output_type": "execute_result"
    }
   ],
   "source": [
    "vocabs[0:5] #show example of vocabs"
   ]
  },
  {
   "attachments": {},
   "cell_type": "markdown",
   "metadata": {},
   "source": [
    "## 3.Numerization"
   ]
  },
  {
   "cell_type": "code",
   "execution_count": 8,
   "metadata": {},
   "outputs": [],
   "source": [
    "word_2_idx = {v: idx for idx, v in enumerate(vocabs)}\n",
    "vocabs.append('<UNK>')\n",
    "word_2_idx['<UNK>'] = len(word_2_idx) "
   ]
  },
  {
   "cell_type": "code",
   "execution_count": 9,
   "metadata": {},
   "outputs": [
    {
     "data": {
      "text/plain": [
       "{'shuffles': 0,\n",
       " 'India': 1,\n",
       " 'real': 2,\n",
       " 'woman': 3,\n",
       " 'dad': 4,\n",
       " 'stepdaughter': 5,\n",
       " 'dinar': 6,\n",
       " 'lev': 7,\n",
       " 'policeman': 8,\n",
       " 'daughter': 9}"
      ]
     },
     "execution_count": 9,
     "metadata": {},
     "output_type": "execute_result"
    }
   ],
   "source": [
    "dict(itertools.islice(word_2_idx.items(), 10)) #"
   ]
  },
  {
   "attachments": {},
   "cell_type": "markdown",
   "metadata": {},
   "source": [
    "## 4.Prepare data"
   ]
  },
  {
   "cell_type": "code",
   "execution_count": 10,
   "metadata": {},
   "outputs": [],
   "source": [
    "def random_batch_skipgram(batch_size, corpus_tokenized):\n",
    "    \n",
    "    Skipgram = []\n",
    "\n",
    "    #for each corpus\n",
    "    for sent in corpus_tokenized:\n",
    "        try :\n",
    "            for i in range(1, len(sent) - 1): #start from 1 to second last\n",
    "                center_word = word_2_idx[sent[i]]\n",
    "                outside_words = [word_2_idx[sent[i-1]], word_2_idx[sent[i+1]]]  #window_size = 1\n",
    "                for o in outside_words:\n",
    "                    Skipgram.append([center_word, o]) #use outside word to predict center word\n",
    "        except :\n",
    "            pass               \n",
    "    #only get a batch, not the entire list\n",
    "    random_inputs, random_labels = [], []   \n",
    "    random_index = np.random.choice(range(len(Skipgram)), batch_size, replace=False)\n",
    "             \n",
    "    #appending some list of inputs and labels\n",
    "    for index in random_index:\n",
    "        random_inputs.append([Skipgram[index][0]])  \n",
    "        random_labels.append([Skipgram[index][1]])\n",
    "        \n",
    "    return np.array(random_inputs), np.array(random_labels)"
   ]
  },
  {
   "attachments": {},
   "cell_type": "markdown",
   "metadata": {},
   "source": [
    "## 5.Model"
   ]
  },
  {
   "cell_type": "code",
   "execution_count": 11,
   "metadata": {},
   "outputs": [],
   "source": [
    "class Skipgram(nn.Module):\n",
    "    \n",
    "    def __init__(self, voc_size, emb_size):\n",
    "        super(Skipgram, self).__init__()\n",
    "        self.embedding_center_word  = nn.Embedding(voc_size, emb_size)  \n",
    "        self.embedding_outside_word = nn.Embedding(voc_size, emb_size)\n",
    "    \n",
    "    def forward(self, center_word, outside_word, all_vocabs):\n",
    "        #convert them into embedding\n",
    "        center_word_embed  = self.embedding_center_word(center_word)     #(batch_size, 1, emb_size)\n",
    "        outside_word_embed = self.embedding_outside_word(outside_word)   #(batch_size, 1, emb_size)\n",
    "        all_vocabs_embed   = self.embedding_outside_word(all_vocabs)     #(batch_size, voc_size, emb_size)\n",
    "        top_term = outside_word_embed.bmm(center_word_embed.transpose(1, 2)).squeeze(2)\n",
    "        top_term_exp = torch.exp(top_term) \n",
    "        lower_term = all_vocabs_embed.bmm(center_word_embed.transpose(1, 2)).squeeze(2)\n",
    "        lower_term_sum = torch.sum(torch.exp(lower_term), 1) \n",
    "        loss_fn = -torch.mean(torch.log(top_term_exp / lower_term_sum))\n",
    "\n",
    "        \n",
    "        return loss_fn"
   ]
  },
  {
   "attachments": {},
   "cell_type": "markdown",
   "metadata": {},
   "source": [
    "## 6. Train"
   ]
  },
  {
   "cell_type": "code",
   "execution_count": 12,
   "metadata": {},
   "outputs": [],
   "source": [
    "voc_size = len(vocabs) #Size of vocabs\n",
    "batch_size = 2 #Batch size \n",
    "emb_size   = 3 #Embeading size of 3\n",
    "Skipgram   = Skipgram(voc_size, emb_size)\n",
    "optimizer  = optim.Adam(Skipgram.parameters(), lr=0.001108)\n",
    "num_epochs = 5000"
   ]
  },
  {
   "cell_type": "code",
   "execution_count": 13,
   "metadata": {},
   "outputs": [
    {
     "data": {
      "text/plain": [
       "torch.Size([2, 165])"
      ]
     },
     "execution_count": 13,
     "metadata": {},
     "output_type": "execute_result"
    }
   ],
   "source": [
    "def prepare_sequence(seq, word2index):\n",
    "    #map will look at each of element in this list, and apply this function\n",
    "    idxs = list(map(lambda w: word2index[w] if word2index.get(w) is not None else word2index[\"<UNK>\"], seq))\n",
    "    return torch.LongTensor(idxs)\n",
    "\n",
    "all_vocabs = prepare_sequence(list(vocabs), word_2_idx).expand(batch_size, voc_size)\n",
    "all_vocabs.shape #Shape of vocabs"
   ]
  },
  {
   "cell_type": "code",
   "execution_count": 14,
   "metadata": {},
   "outputs": [],
   "source": [
    "def epoch_time(start_time, end_time):\n",
    "    elapsed_time = (end_time - start_time)\n",
    "    return elapsed_time"
   ]
  },
  {
   "cell_type": "code",
   "execution_count": 15,
   "metadata": {},
   "outputs": [
    {
     "name": "stdout",
     "output_type": "stream",
     "text": [
      "Epoch 1000 | Loss: 4.688521 | Time: 13.008969783782959 s\n",
      "Epoch 2000 | Loss: 5.949137 | Time: 11.941396474838257 s\n",
      "Epoch 3000 | Loss: 4.482249 | Time: 13.123478889465332 s\n",
      "Epoch 4000 | Loss: 5.241226 | Time: 12.881953477859497 s\n",
      "Epoch 5000 | Loss: 3.518096 | Time: 11.065836191177368 s\n",
      "sumary of time is : 62.02163481712341 \n"
     ]
    }
   ],
   "source": [
    "run_time_normal = 0\n",
    "sum_time = 0\n",
    "#for epoch\n",
    "for epoch in range(num_epochs):\n",
    "    start_time = time.time()\n",
    "\n",
    "    #get random batch\n",
    "    input_batch, label_batch = random_batch_skipgram(batch_size, corpus_tokenized)\n",
    "    input_batch = torch.LongTensor(input_batch)\n",
    "    label_batch = torch.LongTensor(label_batch)\n",
    "    \n",
    "    \n",
    "    #loss = model\n",
    "    \n",
    "    optimizer.zero_grad()\n",
    "    loss = Skipgram(input_batch, label_batch, all_vocabs)\n",
    "    #backpropagate\n",
    "    loss.backward()\n",
    "    #update alpha\n",
    "    optimizer.step()\n",
    "    stop_time = time.time()\n",
    "    run_time_normal = run_time_normal + epoch_time(start_time, stop_time)\n",
    "    \n",
    "    #print epoch loss\n",
    "    if (epoch + 1) % 1000 == 0:\n",
    "        sum_time += run_time_normal\n",
    "        print(f\"Epoch {epoch+1} | Loss: {loss:.6f} | Time: {run_time_normal} s\")\n",
    "        run_time_normal = 0\n",
    "print(f\"sumary of time is : {sum_time} \" )    "
   ]
  },
  {
   "attachments": {},
   "cell_type": "markdown",
   "metadata": {},
   "source": [
    "## 7. Visualize Data (PCA)"
   ]
  },
  {
   "cell_type": "code",
   "execution_count": 16,
   "metadata": {},
   "outputs": [],
   "source": [
    "def get_embed(word , model):\n",
    "    \n",
    "    try:\n",
    "        index = word_2_idx[word]\n",
    "    except:\n",
    "        index = word_2_idx['<UNK>']\n",
    "    \n",
    "    word = torch.LongTensor([index])\n",
    "    center_embed  = model.embedding_center_word(word)\n",
    "    outside_embed = model.embedding_outside_word(word)\n",
    "    embed = (center_embed + outside_embed) / 2\n",
    "    \n",
    "    return  [embed[0][i].item() for i in range(emb_size)]\n"
   ]
  },
  {
   "cell_type": "code",
   "execution_count": 17,
   "metadata": {},
   "outputs": [],
   "source": [
    "words = []\n",
    "for i, word in enumerate(vocabs[:40]): #loop each unique vocab\n",
    "    words.append(word)\n",
    "vec_word  = []\n"
   ]
  },
  {
   "cell_type": "code",
   "execution_count": 18,
   "metadata": {},
   "outputs": [
    {
     "data": {
      "image/png": "[encoded data removed]",
      "text/plain": [
       "<Figure size 1080x720 with 1 Axes>"
      ]
     },
     "metadata": {
      "needs_background": "light"
     },
     "output_type": "display_data"
    }
   ],
   "source": [
    "from sklearn.decomposition import PCA\n",
    "import numpy as np\n",
    "import matplotlib.pyplot as plt\n",
    "for oo in words :\n",
    "    vec_word.append(np.array(get_embed(oo, Skipgram)))\n",
    "word_vectors = vec_word\n",
    "twodim = PCA().fit_transform(word_vectors)[:,:2]  #transform 4 to 2 dimensions\n",
    "\n",
    "plt.figure(figsize=(15,10))\n",
    "plt.scatter(twodim[:,0], twodim[:,1], edgecolors='k', c='r')\n",
    "for word, (x,y) in zip(words, twodim):\n",
    "    plt.text(x+0.05, y+0.05, word)\n",
    "plt.show()"
   ]
  },
  {
   "attachments": {},
   "cell_type": "markdown",
   "metadata": {},
   "source": [
    "## 8. Analogy"
   ]
  },
  {
   "attachments": {},
   "cell_type": "markdown",
   "metadata": {},
   "source": [
    "#### **“man is to king as woman is to queen”**"
   ]
  },
  {
   "attachments": {},
   "cell_type": "markdown",
   "metadata": {},
   "source": [
    "<img style=\"float: center;\" src=\"https://carl-allen.github.io/assets/analogy/parallelogram2.svg\">"
   ]
  },
  {
   "attachments": {},
   "cell_type": "markdown",
   "metadata": {},
   "source": [
    "Convert all token into dictionary ```{Token : embedding of token}```"
   ]
  },
  {
   "cell_type": "code",
   "execution_count": 19,
   "metadata": {},
   "outputs": [],
   "source": [
    "vectors = { token:np.array(get_embed(token, Skipgram)) for token in vocabs } # write function to contain {token : array of token}\n",
    "vectors_sementic = { token:np.array(get_embed(token, Skipgram)) for token in vocabs_sem } #Convert this use for test accuracy\n",
    "vectors_syntactic = { token:np.array(get_embed(token, Skipgram)) for token in vocabs_syn }"
   ]
  },
  {
   "cell_type": "code",
   "execution_count": 20,
   "metadata": {},
   "outputs": [
    {
     "data": {
      "text/plain": [
       "{'India': array([0.01257113, 1.07046187, 1.12137079]),\n",
       " 'real': array([-0.30067906, -0.53136969, -0.04121489]),\n",
       " 'woman': array([-0.04307298, -0.05996658, -0.18598194]),\n",
       " 'dad': array([ 0.48874038, -0.7048775 ,  0.60421485]),\n",
       " 'stepdaughter': array([ 0.37426513, -0.93199003,  0.32094011])}"
      ]
     },
     "execution_count": 20,
     "metadata": {},
     "output_type": "execute_result"
    }
   ],
   "source": [
    "dict(itertools.islice(vectors_sementic.items(), 5)) # show example of dictionary"
   ]
  },
  {
   "cell_type": "code",
   "execution_count": 21,
   "metadata": {},
   "outputs": [],
   "source": [
    "sum = (vectors[\"dad\"]-vectors[\"mom\"])+vectors[\"brothers\"]"
   ]
  },
  {
   "cell_type": "code",
   "execution_count": 22,
   "metadata": {},
   "outputs": [
    {
     "name": "stdout",
     "output_type": "stream",
     "text": [
      " 'dad' - 'mom' + 'brothers' similarity to 'sister'  at 74.79303207279048 percentage\n"
     ]
    }
   ],
   "source": [
    "sum_value = np.dot(sum, vectors[\"brothers\"]) / (np.linalg.norm(sum) * np.linalg.norm(vectors[\"brothers\"]))\n",
    "print(f\" 'dad' - 'mom' + 'brothers' similarity to 'sister'  at {sum_value*100} percentage\")"
   ]
  },
  {
   "cell_type": "code",
   "execution_count": 23,
   "metadata": {},
   "outputs": [],
   "source": [
    "def analogy(x1, x2, y1, vectors): \n",
    "    x1_vec, x2_vec, y1_vec = vectors[x1], vectors[x2], vectors[y1]\n",
    "    result_vec = y1_vec + (x2_vec - x1_vec)\n",
    "    result = closest_word(result_vec, vectors)\n",
    "    return result\n",
    "\n",
    "# function to find closest word to a given vector\n",
    "def closest_word(vec, vectors):\n",
    "    closest_idx = np.argmax([cosine_similarity(vec, v) for v in vectors.values()]) # use argmax to find the index of \n",
    "    return list(vectors.keys())[closest_idx]\n",
    "\n",
    "# function to calculate cosine similarity\n",
    "def cosine_similarity(v1, v2):\n",
    "    return np.dot(v1, v2) / (np.linalg.norm(v1) * np.linalg.norm(v2))"
   ]
  },
  {
   "attachments": {},
   "cell_type": "markdown",
   "metadata": {},
   "source": [
    "this code ``` np.argmax([cosine_similarity(vec, v) for v in vectors.values()] ``` use to find the most similarity from the result vector to vector of all vocabs"
   ]
  },
  {
   "cell_type": "code",
   "execution_count": 24,
   "metadata": {},
   "outputs": [],
   "source": [
    "def test_senario(a1 , a2, model_l) :\n",
    "    tester1 = get_embed(a1, model_l)\n",
    "    teater2 = get_embed(a2, model_l)\n",
    "    print(f\"{a1} similarity to {a2} = {cosine_similarity(tester1 , teater2)}\")"
   ]
  },
  {
   "cell_type": "code",
   "execution_count": 25,
   "metadata": {},
   "outputs": [
    {
     "name": "stdout",
     "output_type": "stream",
     "text": [
      "king similarity to queen = 0.9159266752049965\n"
     ]
    }
   ],
   "source": [
    "test_senario(\"king\",\"queen\" , Skipgram)"
   ]
  },
  {
   "cell_type": "code",
   "execution_count": 26,
   "metadata": {},
   "outputs": [
    {
     "name": "stdout",
     "output_type": "stream",
     "text": [
      "eat similarity to eats = -0.9482380799402991\n"
     ]
    }
   ],
   "source": [
    "test_senario(\"eat\",\"eats\", Skipgram)\n"
   ]
  },
  {
   "cell_type": "code",
   "execution_count": 27,
   "metadata": {},
   "outputs": [
    {
     "data": {
      "text/plain": [
       "'stepson'"
      ]
     },
     "execution_count": 27,
     "metadata": {},
     "output_type": "execute_result"
    }
   ],
   "source": [
    "analogy('he', 'she', 'brothers', vectors)"
   ]
  },
  {
   "cell_type": "code",
   "execution_count": 28,
   "metadata": {},
   "outputs": [],
   "source": [
    "def extract_word(word_m) :\n",
    "    word_cc = []\n",
    "    for value in word_m :\n",
    "        temporary = []\n",
    "        for indx in range (len(value)) :\n",
    "            temporary.append(value[indx])\n",
    "            if int(indx + 1) % int(2) == 0 :\n",
    "                if temporary not in word_cc :\n",
    "                    word_cc.append(temporary)\n",
    "                temporary = []\n",
    "    return word_cc            \n",
    "            "
   ]
  },
  {
   "cell_type": "code",
   "execution_count": 29,
   "metadata": {},
   "outputs": [],
   "source": [
    "semantic_word = extract_word(cor_sem_token) # after extract data will look like this [['boy', 'girl'], .....]\n",
    "syntactic_word = extract_word(cor_syn_token)"
   ]
  },
  {
   "cell_type": "code",
   "execution_count": 30,
   "metadata": {},
   "outputs": [
    {
     "data": {
      "text/plain": [
       "30"
      ]
     },
     "execution_count": 30,
     "metadata": {},
     "output_type": "execute_result"
    }
   ],
   "source": [
    "len(syntactic_word)"
   ]
  },
  {
   "cell_type": "code",
   "execution_count": 31,
   "metadata": {},
   "outputs": [],
   "source": [
    "def acc_test (word_test , vector_target) :\n",
    "    count = 0\n",
    "    round = 0\n",
    "    print(f\"the correct word is : \")\n",
    "    for tokens in word_test : # word_cc[0] look like this [decrease , decreases] then i loop and check analogy every word\n",
    "        word1 = tokens[0]\n",
    "        word2 = tokens[1]\n",
    "        for ss in range (len(word_test)) :\n",
    "            if str(word1) != str(word_test[ss][0]) :\n",
    "                relt  = analogy( str(word1), str(word2), word_test[ss][0], vector_target)\n",
    "                round = round+1\n",
    "                if str(relt) == str(word_test[ss][1]) :\n",
    "                    print(f'{word1} is to {word2} as {word_test[ss][0]} to {relt}')\n",
    "                    count = count + 1     \n",
    "            else : \n",
    "                pass        \n",
    "    accuracy = (abs(count/round)) * 100        \n",
    "    print(f\"test {round} time correct {count} time, you accuracy is {accuracy :.2f} percentage\")    \n",
    "    return accuracy"
   ]
  },
  {
   "attachments": {},
   "cell_type": "markdown",
   "metadata": {},
   "source": [
    "this dataset have 30 pair of singular and phural verbs. When loop to check with every word should be 900 round but there are 30 pair that repeated."
   ]
  },
  {
   "cell_type": "code",
   "execution_count": 32,
   "metadata": {},
   "outputs": [
    {
     "name": "stdout",
     "output_type": "stream",
     "text": [
      "the correct word is : \n",
      "describe is to describes as implement to implements\n",
      "eat is to eats as generate to generates\n",
      "eat is to eats as say to says\n",
      "eat is to eats as vanish to vanishes\n",
      "eat is to eats as write to writes\n",
      "enhance is to enhances as implement to implements\n",
      "enhance is to enhances as vanish to vanishes\n",
      "go is to goes as play to plays\n",
      "implement is to implements as enhance to enhances\n",
      "implement is to implements as listen to listens\n",
      "increase is to increases as generate to generates\n",
      "play is to plays as provide to provides\n",
      "predict is to predicts as play to plays\n",
      "predict is to predicts as provide to provides\n",
      "predict is to predicts as swim to swims\n",
      "see is to sees as generate to generates\n",
      "shuffle is to shuffles as go to goes\n",
      "sing is to sings as listen to listens\n",
      "sit is to sits as vanish to vanishes\n",
      "slow is to slows as decrease to decreases\n",
      "slow is to slows as implement to implements\n",
      "speak is to speaks as write to writes\n",
      "swim is to swims as play to plays\n",
      "swim is to swims as talk to talks\n",
      "vanish is to vanishes as enhance to enhances\n",
      "vanish is to vanishes as implement to implements\n",
      "work is to works as play to plays\n",
      "work is to works as predict to predicts\n",
      "work is to works as swim to swims\n",
      "work is to works as talk to talks\n",
      "test 870 time correct 30 time, you accuracy is 3.45 percentage\n"
     ]
    }
   ],
   "source": [
    "skipgram_syn_acc = acc_test(syntactic_word, vectors_syntactic)"
   ]
  },
  {
   "cell_type": "code",
   "execution_count": 33,
   "metadata": {},
   "outputs": [
    {
     "name": "stdout",
     "output_type": "stream",
     "text": [
      "the correct word is : \n",
      "Algeria is to dinar as husband to wife\n",
      "Angola is to kwanza as Europe to euro\n",
      "Argentina is to peso as Iran to rial\n",
      "Argentina is to peso as Korea to won\n",
      "Argentina is to peso as grandpa to grandma\n",
      "Armenia is to dram as Malaysia to ringgit\n",
      "Armenia is to dram as his to her\n",
      "Bulgaria is to lev as India to rupee\n",
      "Bulgaria is to lev as Sweden to krona\n",
      "Bulgaria is to lev as USA to dollar\n",
      "Cambodia is to riel as Russia to ruble\n",
      "Canada is to dollar as Macedonia to denar\n",
      "Canada is to dollar as Vietnam to dong\n",
      "Croatia is to kuna as Korea to won\n",
      "Croatia is to kuna as grandpa to grandma\n",
      "Croatia is to kuna as stepfather to stepmother\n",
      "Europe is to euro as Japan to yen\n",
      "Europe is to euro as Russia to ruble\n",
      "Hungary is to forint as Europe to euro\n",
      "Hungary is to forint as prince to princess\n",
      "Japan is to yen as Hungary to forint\n",
      "Korea is to won as grandfather to grandmother\n",
      "Korea is to won as nephew to niece\n",
      "Latvia is to lats as Canada to dollar\n",
      "Lithuania is to litas as Cambodia to riel\n",
      "Malaysia is to ringgit as his to her\n",
      "Nigeria is to naira as Cambodia to riel\n",
      "Nigeria is to naira as Russia to ruble\n",
      "Poland is to zloty as nephew to niece\n",
      "Poland is to zloty as sons to daughters\n",
      "Sweden is to krona as India to rupee\n",
      "Sweden is to krona as USA to dollar\n",
      "Sweden is to krona as his to her\n",
      "Sweden is to krona as uncle to aunt\n",
      "Ukraine is to hryvnia as husband to wife\n",
      "Ukraine is to hryvnia as king to queen\n",
      "Ukraine is to hryvnia as sons to daughters\n",
      "USA is to dollar as India to rupee\n",
      "Vietnam is to dong as Canada to dollar\n",
      "boy is to girl as India to rupee\n",
      "brother is to sister as groom to bride\n",
      "dad is to mom as Poland to zloty\n",
      "dad is to mom as husband to wife\n",
      "grandfather is to grandmother as India to rupee\n",
      "grandfather is to grandmother as Korea to won\n",
      "grandpa is to grandma as uncle to aunt\n",
      "grandson is to granddaughter as India to rupee\n",
      "groom is to bride as Macedonia to denar\n",
      "groom is to bride as brother to sister\n",
      "his is to her as Russia to ruble\n",
      "husband is to wife as India to rupee\n",
      "husband is to wife as nephew to niece\n",
      "husband is to wife as sons to daughters\n",
      "king is to queen as India to rupee\n",
      "king is to queen as Korea to won\n",
      "man is to woman as Poland to zloty\n",
      "man is to woman as sons to daughters\n",
      "nephew is to niece as Malaysia to ringgit\n",
      "nephew is to niece as his to her\n",
      "son is to daughter as Nigeria to naira\n",
      "sons is to daughters as Korea to won\n",
      "stepbrother is to stepsister as Canada to dollar\n",
      "stepbrother is to stepsister as Macedonia to denar\n",
      "stepfather is to stepmother as India to rupee\n",
      "stepfather is to stepmother as Korea to won\n",
      "stepson is to stepdaughter as Thailand to baht\n",
      "test 2756 time correct 66 time, you accuracy is 2.39 percentage\n"
     ]
    }
   ],
   "source": [
    "skipgram_sem_acc = acc_test(semantic_word, vectors_sementic)"
   ]
  },
  {
   "attachments": {},
   "cell_type": "markdown",
   "metadata": {},
   "source": [
    "# CBOW"
   ]
  },
  {
   "attachments": {},
   "cell_type": "markdown",
   "metadata": {},
   "source": [
    "At above i am already Tokenize and numerize the data"
   ]
  },
  {
   "attachments": {},
   "cell_type": "markdown",
   "metadata": {},
   "source": [
    "## 1. Prepare the data"
   ]
  },
  {
   "cell_type": "code",
   "execution_count": 34,
   "metadata": {},
   "outputs": [],
   "source": [
    "def random_batch_CBOW(batch_size, corpus_tokenized):\n",
    "    \n",
    "    CBOW = []\n",
    "\n",
    "    #for each corpus\n",
    "    for sent in corpus_tokenized:\n",
    "        try :\n",
    "            for i in range(1, len(sent) - 1): #start from 1 to second last\n",
    "                center_word = word_2_idx[sent[i]]\n",
    "                outside_words = [word_2_idx[sent[i-1]], word_2_idx[sent[i+1]]]  #window_size = 1\n",
    "                for o in outside_words:\n",
    "                    CBOW.append([o,center_word ]) #use outside word to predict center word\n",
    "        except :\n",
    "            pass               \n",
    "    #only get a batch, not the entire list\n",
    "    random_inputs, random_labels = [], []   \n",
    "    random_index = np.random.choice(range(len(CBOW)), batch_size, replace=False)\n",
    "             \n",
    "    #appending some list of inputs and labels\n",
    "    for index in random_index:\n",
    "        random_inputs.append([CBOW[index][0]])  \n",
    "        random_labels.append([CBOW[index][1]])\n",
    "        \n",
    "    return np.array(random_inputs), np.array(random_labels)"
   ]
  },
  {
   "attachments": {},
   "cell_type": "markdown",
   "metadata": {},
   "source": [
    "## 2. Model "
   ]
  },
  {
   "cell_type": "code",
   "execution_count": 35,
   "metadata": {},
   "outputs": [],
   "source": [
    "class CBOW(nn.Module):\n",
    "    \n",
    "    def __init__(self, voc_size, emb_size):\n",
    "        super(CBOW, self).__init__()\n",
    "        self.embedding_center_word  = nn.Embedding(voc_size, emb_size)  \n",
    "        self.embedding_outside_word = nn.Embedding(voc_size, emb_size)\n",
    "    \n",
    "    def forward(self, center_word, outside_word, all_vocabs):\n",
    "        #convert them into embedding\n",
    "        center_word_embed  = self.embedding_center_word(center_word)     #(batch_size, 1, emb_size)\n",
    "        outside_word_embed = self.embedding_outside_word(outside_word)   #(batch_size, 1, emb_size)\n",
    "        all_vocabs_embed   = self.embedding_outside_word(all_vocabs)     #(batch_size, voc_size, emb_size)\n",
    "        top_term = outside_word_embed.bmm(center_word_embed.transpose(1, 2)).squeeze(2)\n",
    "        top_term_exp = torch.exp(top_term) \n",
    "        lower_term = all_vocabs_embed.bmm(center_word_embed.transpose(1, 2)).squeeze(2)\n",
    "        lower_term_sum = torch.sum(torch.exp(lower_term), 1) \n",
    "        loss_fn = -torch.mean(torch.log(top_term_exp / lower_term_sum))\n",
    "\n",
    "        \n",
    "        return loss_fn"
   ]
  },
  {
   "attachments": {},
   "cell_type": "markdown",
   "metadata": {},
   "source": [
    "## 3.Train"
   ]
  },
  {
   "cell_type": "code",
   "execution_count": 36,
   "metadata": {},
   "outputs": [
    {
     "name": "stdout",
     "output_type": "stream",
     "text": [
      "Epoch 1000 | Loss: 7.976759 | Time: 13.163470983505249 s\n",
      "Epoch 2000 | Loss: 5.280479 | Time: 12.832464933395386 s\n",
      "Epoch 3000 | Loss: 5.694965 | Time: 13.01297640800476 s\n",
      "Epoch 4000 | Loss: 8.660456 | Time: 11.996899366378784 s\n",
      "Epoch 5000 | Loss: 7.420256 | Time: 12.205422163009644 s\n",
      "sumary of time is : 63.21123385429382 \n"
     ]
    }
   ],
   "source": [
    "CBOW = CBOW(voc_size, emb_size)\n",
    "optimizer  = optim.Adam(CBOW.parameters(), lr=0.000108)\n",
    "run_time_normal = 0\n",
    "sum_time = 0\n",
    "#for epoch\n",
    "for epoch in range(num_epochs):\n",
    "    start_time = time.time()\n",
    "    #get random batch\n",
    "    input_batch, label_batch = random_batch_CBOW(batch_size, corpus_tokenized)\n",
    "    input_batch = torch.LongTensor(input_batch)\n",
    "    label_batch = torch.LongTensor(label_batch)\n",
    "    #loss = model\n",
    "    optimizer.zero_grad()\n",
    "    loss = CBOW(input_batch, label_batch, all_vocabs)\n",
    "    #backpropagate\n",
    "    loss.backward()\n",
    "    #update alpha\n",
    "    optimizer.step()\n",
    "    stop_time = time.time()\n",
    "    run_time_normal = run_time_normal + epoch_time(start_time, stop_time)\n",
    "    \n",
    "    #print epoch loss\n",
    "    if (epoch + 1) % 1000 == 0:\n",
    "        sum_time += run_time_normal\n",
    "        print(f\"Epoch {epoch+1} | Loss: {loss:.6f} | Time: {run_time_normal} s\")\n",
    "        run_time_normal = 0\n",
    "print(f\"sumary of time is : {sum_time} \" )   "
   ]
  },
  {
   "cell_type": "code",
   "execution_count": 37,
   "metadata": {},
   "outputs": [],
   "source": [
    "vectors_CBOW = { token:np.array(get_embed(token, CBOW)) for token in vocabs } # write function to contain {token : array of token}\n",
    "CBOW_sementic = { token:np.array(get_embed(token, CBOW)) for token in vocabs_sem }\n",
    "CBOW_syntactic = { token:np.array(get_embed(token, CBOW)) for token in vocabs_syn }"
   ]
  },
  {
   "cell_type": "code",
   "execution_count": 38,
   "metadata": {},
   "outputs": [
    {
     "name": "stdout",
     "output_type": "stream",
     "text": [
      "the correct word is : \n",
      "Angola is to kwanza as Croatia to kuna\n",
      "Argentina is to peso as prince to princess\n",
      "Bulgaria is to lev as Macedonia to denar\n",
      "Croatia is to kuna as Macedonia to denar\n",
      "Croatia is to kuna as brother to sister\n",
      "Hungary is to forint as Mexico to peso\n",
      "Iran is to rial as Mexico to peso\n",
      "Korea is to won as brother to sister\n",
      "Macedonia is to denar as nephew to niece\n",
      "Malaysia is to ringgit as Europe to euro\n",
      "Nigeria is to naira as prince to princess\n",
      "Poland is to zloty as son to daughter\n",
      "Poland is to zloty as uncle to aunt\n",
      "Romania is to leu as man to woman\n",
      "Romania is to leu as nephew to niece\n",
      "Russia is to ruble as Croatia to kuna\n",
      "Ukraine is to hryvnia as uncle to aunt\n",
      "Vietnam is to dong as stepfather to stepmother\n",
      "brother is to sister as Latvia to lats\n",
      "dad is to mom as Iran to rial\n",
      "grandson is to granddaughter as Lithuania to litas\n",
      "prince is to princess as Latvia to lats\n",
      "prince is to princess as stepfather to stepmother\n",
      "sons is to daughters as USA to dollar\n",
      "stepbrother is to stepsister as Lithuania to litas\n",
      "stepson is to stepdaughter as Lithuania to litas\n",
      "test 2756 time correct 26 time, you accuracy is 0.94 percentage\n"
     ]
    }
   ],
   "source": [
    "CBOW_sem_acc = acc_test(semantic_word, CBOW_sementic)"
   ]
  },
  {
   "cell_type": "code",
   "execution_count": 39,
   "metadata": {},
   "outputs": [
    {
     "name": "stdout",
     "output_type": "stream",
     "text": [
      "the correct word is : \n",
      "describe is to describes as eat to eats\n",
      "find is to finds as slow to slows\n",
      "go is to goes as swim to swims\n",
      "listen is to listens as find to finds\n",
      "listen is to listens as slow to slows\n",
      "provide is to provides as eat to eats\n",
      "scream is to screams as swim to swims\n",
      "search is to searches as play to plays\n",
      "sing is to sings as see to sees\n",
      "test 870 time correct 9 time, you accuracy is 1.03 percentage\n"
     ]
    }
   ],
   "source": [
    "CBOW_syn_acc = acc_test(syntactic_word, CBOW_syntactic)"
   ]
  },
  {
   "attachments": {},
   "cell_type": "markdown",
   "metadata": {},
   "source": [
    "# Negative sampling"
   ]
  },
  {
   "attachments": {},
   "cell_type": "markdown",
   "metadata": {},
   "source": [
    "## 1. Prepare the Negative set"
   ]
  },
  {
   "cell_type": "code",
   "execution_count": 40,
   "metadata": {},
   "outputs": [],
   "source": [
    "Z = 0.001\n",
    "unigram_table = []"
   ]
  },
  {
   "cell_type": "code",
   "execution_count": 41,
   "metadata": {},
   "outputs": [],
   "source": [
    "from collections import Counter\n",
    "import random\n",
    "word_count = Counter(flatten(corpus_tokenized))\n",
    "aa = [c for w, c in word_count.items()]\n",
    "sumsum = 0\n",
    "for i in range(len(aa)) :\n",
    "    sumsum = sumsum + int(aa[i-1])\n",
    "for vo in vocabs:\n",
    "    unigram_table.extend([vo] * int(((word_count[vo]/sumsum)**0.75)/Z))    "
   ]
  },
  {
   "cell_type": "code",
   "execution_count": 42,
   "metadata": {},
   "outputs": [],
   "source": [
    "def prepare_sequence_skip(seq, word2index):\n",
    "    idxs = list(map(lambda w: word2index[w] if word2index.get(w) is not None else word2index[\"<UNK>\"], seq))\n",
    "    return torch.LongTensor(idxs)\n",
    "def negative_sampling(targets, unigram_table, k):\n",
    "    batch_size = targets.size(0)\n",
    "    neg_samples = []\n",
    "    for i in range(batch_size):\n",
    "        nsample = []\n",
    "        target_index = targets[i].item()\n",
    "        while len(nsample) < k: # num of sampling\n",
    "            neg = random.choice(unigram_table)\n",
    "            if word_2_idx[neg] == target_index:\n",
    "                continue\n",
    "            nsample.append(neg)\n",
    "        neg_samples.append(prepare_sequence_skip(nsample, word_2_idx).view(1, -1))\n",
    "    \n",
    "    return torch.cat(neg_samples)"
   ]
  },
  {
   "attachments": {},
   "cell_type": "markdown",
   "metadata": {},
   "source": [
    "## 2. Model"
   ]
  },
  {
   "cell_type": "code",
   "execution_count": 43,
   "metadata": {},
   "outputs": [],
   "source": [
    "class SkipgramNegSampling(nn.Module):\n",
    "    \n",
    "    def __init__(self, vocab_size, emb_size):\n",
    "        super(SkipgramNegSampling, self).__init__()\n",
    "        self.embedding_center_word  = nn.Embedding(voc_size, emb_size)  \n",
    "        self.embedding_outside_word = nn.Embedding(voc_size, emb_size)\n",
    "        self.logsigmoid = nn.LogSigmoid()\n",
    "                    \n",
    "    def forward(self, center_words, target_words, negative_words):\n",
    "        center_embeds = self.embedding_center_word(center_words) \n",
    "        target_embeds = self.embedding_outside_word(target_words) \n",
    "        neg_embeds    = -self.embedding_outside_word(negative_words) \n",
    "        \n",
    "        positive_score = target_embeds.bmm(center_embeds.transpose(1, 2)).squeeze(2)\n",
    "        negative_score = neg_embeds.bmm(center_embeds.transpose(1, 2))\n",
    "        \n",
    "        loss = self.logsigmoid(positive_score) + torch.sum(self.logsigmoid(negative_score), 1) #Loss Function\n",
    "                \n",
    "        return -torch.mean(loss)\n",
    "    \n",
    "    def prediction(self, inputs):\n",
    "        embeds = self.embedding_center_word(inputs)\n",
    "        \n",
    "        return embeds"
   ]
  },
  {
   "attachments": {},
   "cell_type": "markdown",
   "metadata": {},
   "source": [
    "## 3. Training"
   ]
  },
  {
   "cell_type": "code",
   "execution_count": 44,
   "metadata": {},
   "outputs": [],
   "source": [
    "Skip_Neg = SkipgramNegSampling(voc_size, emb_size)\n",
    "optimizer_Neg  = optim.Adam(Skip_Neg.parameters(), lr=0.000108)"
   ]
  },
  {
   "cell_type": "code",
   "execution_count": 45,
   "metadata": {},
   "outputs": [
    {
     "name": "stdout",
     "output_type": "stream",
     "text": [
      "Epoch: 1000 | loss: 11.648638 | time: 13.28401517868042 s\n",
      "Epoch: 2000 | loss: 17.590204 | time: 12.833955526351929 s\n",
      "Epoch: 3000 | loss: 14.443583 | time: 13.135979175567627 s\n",
      "Epoch: 4000 | loss: 13.937855 | time: 12.897955656051636 s\n",
      "Epoch: 5000 | loss: 11.454990 | time: 12.801457405090332 s\n",
      "time when run 5000 epoch is : 64.95336294174194 s\n"
     ]
    }
   ],
   "source": [
    "run_time_negative = 0\n",
    "sum_time_negative = 0\n",
    "num_neg        = 15\n",
    "\n",
    "for epoch in range(num_epochs):\n",
    "    \n",
    "    start = time.time()\n",
    "    input_batch, target_batch = random_batch_skipgram(batch_size, corpus_tokenized)\n",
    "    input_batch = torch.LongTensor(input_batch)\n",
    "    target_batch = torch.LongTensor(target_batch)\n",
    "    negs_batch = negative_sampling(target_batch, unigram_table, num_neg)\n",
    "    optimizer_Neg.zero_grad()\n",
    "    loss = Skip_Neg(input_batch, target_batch, negs_batch)\n",
    "    # epoch_mins, epoch_secs = epoch_time(start, end)\n",
    "    loss.backward()\n",
    "    optimizer_Neg.step()\n",
    "    end = time.time()\n",
    "    run_time_negative = run_time_negative + epoch_time(start, end)\n",
    "\n",
    "    if (epoch + 1) % 1000 == 0:\n",
    "        sum_time_negative += run_time_negative\n",
    "        print(f\"Epoch: {epoch + 1} | loss: {loss:.6f} | time: {run_time_negative} s\")\n",
    "        run_time_negative = 0\n",
    "print(f\"time when run {num_epochs} epoch is : {sum_time_negative} s\")     "
   ]
  },
  {
   "cell_type": "code",
   "execution_count": 46,
   "metadata": {},
   "outputs": [],
   "source": [
    "vectors_Neg = { token:np.array(get_embed(token, Skip_Neg)) for token in vocabs } # write function to contain {token : array of token}\n",
    "Neg_sementic = { token:np.array(get_embed(token, Skip_Neg)) for token in vocabs_sem }\n",
    "Neg_syntactic = { token:np.array(get_embed(token, Skip_Neg)) for token in vocabs_syn }"
   ]
  },
  {
   "cell_type": "code",
   "execution_count": 47,
   "metadata": {},
   "outputs": [
    {
     "name": "stdout",
     "output_type": "stream",
     "text": [
      "the correct word is : \n",
      "decrease is to decreases as estimate to estimates\n",
      "enhance is to enhances as say to says\n",
      "estimate is to estimates as decrease to decreases\n",
      "go is to goes as shuffle to shuffles\n",
      "go is to goes as sit to sits\n",
      "implement is to implements as play to plays\n",
      "implement is to implements as scream to screams\n",
      "increase is to increases as write to writes\n",
      "play is to plays as generate to generates\n",
      "scream is to screams as say to says\n",
      "shuffle is to shuffles as describe to describes\n",
      "shuffle is to shuffles as sit to sits\n",
      "sing is to sings as find to finds\n",
      "sit is to sits as slow to slows\n",
      "talk is to talks as increase to increases\n",
      "vanish is to vanishes as sit to sits\n",
      "walk is to walks as find to finds\n",
      "walk is to walks as write to writes\n",
      "test 870 time correct 18 time, you accuracy is 2.07 percentage\n"
     ]
    }
   ],
   "source": [
    "Neg_syn_acc = acc_test(syntactic_word, Neg_syntactic)"
   ]
  },
  {
   "cell_type": "code",
   "execution_count": 48,
   "metadata": {},
   "outputs": [
    {
     "name": "stdout",
     "output_type": "stream",
     "text": [
      "the correct word is : \n",
      "Croatia is to kuna as stepbrother to stepsister\n",
      "Denmark is to krone as stepbrother to stepsister\n",
      "Europe is to euro as Korea to won\n",
      "India is to rupee as prince to princess\n",
      "Iran is to rial as Latvia to lats\n",
      "Japan is to yen as prince to princess\n",
      "Macedonia is to denar as brothers to sisters\n",
      "Russia is to ruble as India to rupee\n",
      "Thailand is to baht as stepson to stepdaughter\n",
      "dad is to mom as Latvia to lats\n",
      "grandpa is to grandma as Sweden to krona\n",
      "man is to woman as Denmark to krone\n",
      "policeman is to policewoman as boy to girl\n",
      "son is to daughter as stepfather to stepmother\n",
      "stepbrother is to stepsister as Sweden to krona\n",
      "stepson is to stepdaughter as Thailand to baht\n",
      "test 2756 time correct 16 time, you accuracy is 0.58 percentage\n"
     ]
    }
   ],
   "source": [
    "Neg_sem_acc = acc_test(semantic_word, Neg_sementic)"
   ]
  },
  {
   "attachments": {},
   "cell_type": "markdown",
   "metadata": {},
   "source": [
    "# GloVe"
   ]
  },
  {
   "attachments": {},
   "cell_type": "markdown",
   "metadata": {},
   "source": [
    "##  1. Co-occurrence matrix\n",
    "\n",
    "Count the occurrences of pair of words using window size of 1"
   ]
  },
  {
   "cell_type": "code",
   "execution_count": 49,
   "metadata": {},
   "outputs": [],
   "source": [
    "skip_grams = []\n",
    "\n",
    "#loop through each corpus\n",
    "for sent in corpus_tokenized:  #['apple', 'banana', 'fruit']\n",
    "    #loop through each word from 1 to n-1 (because 0 and n has no context window)\n",
    "    for i in range(1, len(sent)-1):\n",
    "        target  = sent[i]\n",
    "        context = [sent[i+1], sent[i-1]]\n",
    "        #append(i, i+1) and append(i, i-1)\n",
    "        for c in context:\n",
    "            skip_grams.append((target, c))"
   ]
  },
  {
   "cell_type": "code",
   "execution_count": 50,
   "metadata": {},
   "outputs": [],
   "source": [
    "X_ik_skipgram = Counter(skip_grams)"
   ]
  },
  {
   "cell_type": "code",
   "execution_count": 51,
   "metadata": {},
   "outputs": [
    {
     "data": {
      "text/plain": [
       "{('dinar', 'Angola'): 1,\n",
       " ('dinar', 'Algeria'): 29,\n",
       " ('Angola', 'kwanza'): 29,\n",
       " ('Angola', 'dinar'): 1,\n",
       " ('dinar', 'Argentina'): 1}"
      ]
     },
     "execution_count": 51,
     "metadata": {},
     "output_type": "execute_result"
    }
   ],
   "source": [
    "dict(itertools.islice(X_ik_skipgram.items(), 5)) # show example of dictionary"
   ]
  },
  {
   "attachments": {},
   "cell_type": "markdown",
   "metadata": {},
   "source": [
    "## 2. Weighting function \n",
    "\n",
    "GloVe includes a weighting function to scale down too frequent words.\n"
   ]
  },
  {
   "cell_type": "code",
   "execution_count": 52,
   "metadata": {},
   "outputs": [],
   "source": [
    "def weighting(w_i, w_j, X_ik):\n",
    "    #check whether the co-occurrences exist between these two words\n",
    "    try:\n",
    "        x_ij = X_ik[(w_i, w_j)]\n",
    "    except:\n",
    "        x_ij = 1  #if does not exist, set it to 1\n",
    "                \n",
    "    x_max = 100 # fixed in paper  #cannot exceed 100 counts\n",
    "    alpha = 0.75\n",
    "    \n",
    "    #if co-occurrence does not exceed 100, scale it based on some alpha\n",
    "    if x_ij < x_max:\n",
    "        result = (x_ij/x_max)**alpha  #scale it\n",
    "    else:\n",
    "        result = 1  #if is greater than max, set it to 1 maximum\n",
    "    \n",
    "    return result"
   ]
  },
  {
   "cell_type": "code",
   "execution_count": 53,
   "metadata": {},
   "outputs": [],
   "source": [
    "#now apply this weighting to all possible pairs\n",
    "from itertools import combinations_with_replacement\n",
    "\n",
    "X_ik = {}  #for keeping the co-occurences\n",
    "weighting_dic = {} #scaling the percentage of sampling\n",
    "\n",
    "for bigram in combinations_with_replacement(vocabs, 2):\n",
    "    if X_ik_skipgram.get(bigram) is not None:  #matches \n",
    "        co_occer = X_ik_skipgram[bigram]  #get the count from what we already counted\n",
    "        X_ik[bigram] = co_occer + 1 # + 1 for stability issue\n",
    "        X_ik[(bigram[1],bigram[0])] = co_occer+1   #count also for the opposite\n",
    "    else:\n",
    "        pass\n",
    "        \n",
    "    weighting_dic[bigram] = weighting(bigram[0], bigram[1], X_ik)\n",
    "    weighting_dic[(bigram[1], bigram[0])] = weighting(bigram[1], bigram[0], X_ik)\n",
    "    "
   ]
  },
  {
   "attachments": {},
   "cell_type": "markdown",
   "metadata": {},
   "source": [
    "## 3. Prepare data"
   ]
  },
  {
   "cell_type": "code",
   "execution_count": 54,
   "metadata": {},
   "outputs": [],
   "source": [
    "import math\n",
    "\n",
    "def random_batch_glolve(batch_size, word_sequence, skip_grams, X_ik, weighting_dic):\n",
    "    \n",
    "    #loop through this skipgram, and change it id  because when sending model, it must number\n",
    "    skip_grams_id = [(word_2_idx[skip_gram[0]], word_2_idx[skip_gram[1]]) for skip_gram in skip_grams]\n",
    "    \n",
    "    #randomly pick \"batch_size\" indexes\n",
    "    number_of_choices = len(skip_grams_id)\n",
    "    random_index = np.random.choice(number_of_choices, batch_size, replace=False) #no repeating indexes among these random indexes\n",
    "    \n",
    "    random_inputs = [] #xi, wi (in batches)\n",
    "    random_labels = [] #xj, wj (in batches)\n",
    "    random_coocs  = [] #Xij (in batches)\n",
    "    random_weighting = [] #f(Xij) (in batches)\n",
    "    #for each of the sample in these indexes\n",
    "    for i in random_index:\n",
    "        random_inputs.append([skip_grams_id[i][0]]) #same reason why i put bracket here....\n",
    "        random_labels.append([skip_grams_id[i][1]])\n",
    "        \n",
    "        #get cooc\n",
    "        #first check whether it exists...\n",
    "        pair = skip_grams[i]  #e.g., ('banana', 'fruit)\n",
    "        try:\n",
    "            cooc = X_ik[pair]\n",
    "        except:\n",
    "            cooc = 1 #label smoothing\n",
    "            \n",
    "        random_coocs.append([math.log(cooc)])  #1. why log, #2, why bracket -> size ==> (, 1)  #my neural network expects (, 1)\n",
    "        \n",
    "        #get weighting\n",
    "        weighting = weighting_dic[pair]  #why not use try....maybe it does not exist....\n",
    "        random_weighting.append(weighting)\n",
    "\n",
    "        \n",
    "    return np.array(random_inputs), np.array(random_labels), np.array(random_coocs), np.array(random_weighting)\n",
    "    "
   ]
  },
  {
   "attachments": {},
   "cell_type": "markdown",
   "metadata": {},
   "source": [
    "## 4. Model"
   ]
  },
  {
   "cell_type": "code",
   "execution_count": 55,
   "metadata": {},
   "outputs": [],
   "source": [
    "class GloVe(nn.Module):\n",
    "    \n",
    "    def __init__(self, vocab_size,embed_size):\n",
    "        super(GloVe,self).__init__()\n",
    "        self.embedding_center_word = nn.Embedding(vocab_size, embed_size) # center embedding\n",
    "        self.embedding_outside_word = nn.Embedding(vocab_size, embed_size) # out embedding\n",
    "        \n",
    "        self.v_bias = nn.Embedding(vocab_size, 1)\n",
    "        self.u_bias = nn.Embedding(vocab_size, 1)\n",
    "        \n",
    "    def forward(self, center_words, target_words, coocs, weighting):\n",
    "        center_embeds = self.embedding_center_word(center_words) # [batch_size, 1, emb_size]\n",
    "        target_embeds = self.embedding_outside_word(target_words) # [batch_size, 1, emb_size]\n",
    "        \n",
    "        center_bias = self.v_bias(center_words).squeeze(1)\n",
    "        target_bias = self.u_bias(target_words).squeeze(1)\n",
    "        \n",
    "        inner_product = target_embeds.bmm(center_embeds.transpose(1, 2)).squeeze(2)\n",
    "        #[batch_size, 1, emb_size] @ [batch_size, emb_size, 1] = [batch_size, 1, 1] = [batch_size, 1]\n",
    "        \n",
    "        #note that coocs already got log\n",
    "        loss = weighting*torch.pow(inner_product +center_bias + target_bias - coocs, 2)\n",
    "        \n",
    "        return torch.sum(loss)"
   ]
  },
  {
   "attachments": {},
   "cell_type": "markdown",
   "metadata": {},
   "source": [
    "## 5. Training"
   ]
  },
  {
   "cell_type": "code",
   "execution_count": 56,
   "metadata": {},
   "outputs": [
    {
     "name": "stdout",
     "output_type": "stream",
     "text": [
      "Epoch: 1000 | loss: 14.904137 | time: 78066.54366350174 s\n",
      "Epoch: 2000 | loss: 0.412480 | time: 83268.4679172039 s\n",
      "Epoch: 3000 | loss: 8.942286 | time: 88494.61744999886 s\n",
      "Epoch: 4000 | loss: 3.579042 | time: 93566.47874951363 s\n",
      "Epoch: 5000 | loss: 5.421093 | time: 98600.40408110619 s\n",
      "time when run 5000 epoch is : 441996.5118613243 s\n"
     ]
    }
   ],
   "source": [
    "#for epoch\n",
    "Glove_model = GloVe(voc_size, emb_size)\n",
    "optimizer_Neg  = optim.Adam(Glove_model.parameters(), lr=0.000108)\n",
    "run_time_normal = 0\n",
    "sum_time = 0\n",
    "for epoch in range(num_epochs):\n",
    "\n",
    "    #get random batch\n",
    "    input, target, cooc, weightin = random_batch_glolve(batch_size, corpus_tokenized, skip_grams, X_ik, weighting_dic)\n",
    "    input_batch    = torch.LongTensor(input)\n",
    "    target_batch   = torch.LongTensor(target)\n",
    "    cooc_batch     = torch.FloatTensor(cooc)\n",
    "    weightin_batch = torch.FloatTensor(weightin)\n",
    "    \n",
    "    \n",
    "    # print(input_batch.shape, label_batch.shape, cooc_batch.shape, weightin_batch)\n",
    "    \n",
    "    #loss = model\n",
    "    optimizer.zero_grad()\n",
    "    loss = Glove_model(input_batch, target_batch, cooc_batch, weightin_batch)\n",
    "    loss.backward()\n",
    "    #update alpha\n",
    "    optimizer.step()\n",
    "    stop_time = time.time()\n",
    "    run_time_normal = run_time_normal + epoch_time(start_time, stop_time)\n",
    "    \n",
    "    #print epoch loss\n",
    "    if (epoch + 1) % 1000 == 0:\n",
    "        sum_time += run_time_normal\n",
    "        print(f\"Epoch: {epoch + 1} | loss: {loss:.6f} | time: {run_time_normal} s\")\n",
    "        run_time_normal = 0\n",
    "print(f\"time when run {num_epochs} epoch is : {sum_time} s\")   "
   ]
  },
  {
   "cell_type": "code",
   "execution_count": 57,
   "metadata": {},
   "outputs": [],
   "source": [
    "vectors_GloVe = { token:np.array(get_embed(token, Glove_model)) for token in vocabs } # write function to contain {token : array of token}\n",
    "GloVe_sementic = { token:np.array(get_embed(token, Glove_model)) for token in vocabs_sem }\n",
    "GloVe_syntactic = { token:np.array(get_embed(token, Glove_model)) for token in vocabs_syn }"
   ]
  },
  {
   "cell_type": "code",
   "execution_count": 58,
   "metadata": {},
   "outputs": [
    {
     "name": "stdout",
     "output_type": "stream",
     "text": [
      "the correct word is : \n",
      "eat is to eats as go to goes\n",
      "estimate is to estimates as slow to slows\n",
      "go is to goes as eat to eats\n",
      "speak is to speaks as walk to walks\n",
      "write is to writes as shuffle to shuffles\n",
      "test 870 time correct 5 time, you accuracy is 0.57 percentage\n"
     ]
    }
   ],
   "source": [
    "GloVe_syn_acc = acc_test(syntactic_word, GloVe_syntactic)"
   ]
  },
  {
   "cell_type": "code",
   "execution_count": 59,
   "metadata": {},
   "outputs": [
    {
     "name": "stdout",
     "output_type": "stream",
     "text": [
      "the correct word is : \n",
      "Algeria is to dinar as Macedonia to denar\n",
      "Algeria is to dinar as Nigeria to naira\n",
      "Argentina is to peso as Angola to kwanza\n",
      "Argentina is to peso as brothers to sisters\n",
      "Argentina is to peso as policeman to policewoman\n",
      "Armenia is to dram as Macedonia to denar\n",
      "Canada is to dollar as Nigeria to naira\n",
      "Croatia is to kuna as stepbrother to stepsister\n",
      "Hungary is to forint as Mexico to peso\n",
      "Malaysia is to ringgit as Thailand to baht\n",
      "Nigeria is to naira as policeman to policewoman\n",
      "Russia is to ruble as father to mother\n",
      "Russia is to ruble as son to daughter\n",
      "Sweden is to krona as Croatia to kuna\n",
      "Ukraine is to hryvnia as Mexico to peso\n",
      "USA is to dollar as Nigeria to naira\n",
      "Vietnam is to dong as Mexico to peso\n",
      "boy is to girl as brothers to sisters\n",
      "boy is to girl as father to mother\n",
      "dad is to mom as Mexico to peso\n",
      "grandfather is to grandmother as Iran to rial\n",
      "grandpa is to grandma as policeman to policewoman\n",
      "grandson is to granddaughter as Croatia to kuna\n",
      "he is to she as Iran to rial\n",
      "he is to she as Macedonia to denar\n",
      "he is to she as Nigeria to naira\n",
      "husband is to wife as Bulgaria to lev\n",
      "husband is to wife as father to mother\n",
      "man is to woman as Thailand to baht\n",
      "policeman is to policewoman as brothers to sisters\n",
      "prince is to princess as Poland to zloty\n",
      "sons is to daughters as Bulgaria to lev\n",
      "sons is to daughters as Russia to ruble\n",
      "sons is to daughters as father to mother\n",
      "sons is to daughters as son to daughter\n",
      "stepbrother is to stepsister as Sweden to krona\n",
      "test 2756 time correct 36 time, you accuracy is 1.31 percentage\n"
     ]
    }
   ],
   "source": [
    "GloVe_sem_acc = acc_test(semantic_word, GloVe_sementic)"
   ]
  },
  {
   "attachments": {},
   "cell_type": "markdown",
   "metadata": {},
   "source": [
    "# Corelation"
   ]
  },
  {
   "attachments": {
    "image.png": {
     "image/png": "[encoded data removed]"
    }
   },
   "cell_type": "markdown",
   "metadata": {},
   "source": [
    "![image.png](attachment:image.png)"
   ]
  },
  {
   "attachments": {},
   "cell_type": "markdown",
   "metadata": {},
   "source": [
    "in this paper the researcher use spearman quation to calculate corelation about similarity score between human and model, so i introduce the spearman equation"
   ]
  },
  {
   "attachments": {},
   "cell_type": "markdown",
   "metadata": {},
   "source": [
    "###  $\\rho_s = 1 - \\frac{6 \\sum d_i^2}{n(n^2-1)}$                         "
   ]
  },
  {
   "cell_type": "code",
   "execution_count": 60,
   "metadata": {},
   "outputs": [],
   "source": [
    "# Write the equation with numpy\n",
    "def spearman(x, y):\n",
    "    # convert input lists to numpy arrays\n",
    "    x = np.array(x)\n",
    "    y = np.array(y)\n",
    "    # calculate rank of x and y\n",
    "    x_rank = np.argsort(np.argsort(x)) + 1\n",
    "    y_rank = np.argsort(np.argsort(y)) + 1\n",
    "    # calculate difference between rank of x and y\n",
    "    diff = x_rank - y_rank\n",
    "    # calculate the square of the difference\n",
    "    diff_sq = diff**2\n",
    "    # calculate the sum of the square of the difference\n",
    "    diff_sum = diff_sq.sum()\n",
    "    # calculate the Spearman rank correlation coefficient\n",
    "    n = len(x)\n",
    "    spearman = 1 - ((6*diff_sum) / (n*(n**2 - 1)))\n",
    "    return spearman"
   ]
  },
  {
   "cell_type": "code",
   "execution_count": 79,
   "metadata": {},
   "outputs": [],
   "source": [
    "data = pd.read_csv(\"wordsim_similarity_goldstandard.txt\", sep='\\t', names=[\"word1\", \"word2\", \"human_score\"])\n",
    "models = [CBOW,Skipgram,Skip_Neg,Glove_model]\n",
    "corre = []\n",
    "for i in range(4):\n",
    "    sim_array = []\n",
    "    humar_array = []\n",
    "    \n",
    "    # data is the dataframe containing the word pairs and human-assigned similarity scores\n",
    "    for index,row in data.iterrows():\n",
    "        word1 = row[\"word1\"]\n",
    "        word2 = row[\"word2\"]\n",
    "        human_score = row[\"human_score\"]\n",
    "        if word1 in vocabs and word2 in vocabs:\n",
    "\n",
    "            center_embeds = get_embed(word1,models[i]) # [batch_size, 1, emb_size]\n",
    "            target_embeds = get_embed(word2,models[i]) # [batch_size, 1, emb_size]\n",
    "    #         # Calculate cosin_similarity\n",
    "            similarity = cosine_similarity(center_embeds,target_embeds)\n",
    "            sim_array.append(similarity)\n",
    "            humar_array.append(human_score)\n",
    "\n",
    "    # # Calculate corelation with spearman Equation\n",
    "    correlation = spearman(humar_array, sim_array)\n",
    "    corre.append(correlation)"
   ]
  },
  {
   "cell_type": "code",
   "execution_count": 81,
   "metadata": {},
   "outputs": [
    {
     "name": "stdout",
     "output_type": "stream",
     "text": [
      "+----+-------------------+------------+-------------+---------------+\n",
      "|    | Name              |   Semantic |   Syntactic |   Correlation |\n",
      "|----+-------------------+------------+-------------+---------------|\n",
      "|  0 | CBOW              |   0.943396 |    1.03448  |           0   |\n",
      "|  1 | Skipgram          |   2.39478  |    3.44828  |           0.4 |\n",
      "|  2 | Skipgram_Negative |   0.580552 |    2.06897  |          -0.4 |\n",
      "|  3 | GloVe             |   1.30624  |    0.574713 |           1   |\n",
      "+----+-------------------+------------+-------------+---------------+\n"
     ]
    }
   ],
   "source": [
    "from tabulate import tabulate\n",
    "model_name = [\"CBOW\",\"Skipgram\",\"Skipgram_Negative\",\"GloVe\"]\n",
    "# creating a DataFrame\n",
    "dict = {'Name':model_name,\n",
    "        'Semantic':[CBOW_sem_acc,skipgram_sem_acc,Neg_sem_acc,GloVe_sem_acc],\n",
    "        'Syntactic':[CBOW_syn_acc,skipgram_syn_acc,Neg_syn_acc,GloVe_syn_acc],\n",
    "        'Correlation':corre}\n",
    "df = pd.DataFrame(dict)\n",
    "\n",
    "# displaying the DataFrame\n",
    "print(tabulate(df, headers = 'keys', tablefmt = 'psql'))"
   ]
  }
 ],
 "metadata": {
  "kernelspec": {
   "display_name": "Python 3",
   "language": "python",
   "name": "python3"
  },
  "language_info": {
   "codemirror_mode": {
    "name": "ipython",
    "version": 3
   },
   "file_extension": ".py",
   "mimetype": "text/x-python",
   "name": "python",
   "nbconvert_exporter": "python",
   "pygments_lexer": "ipython3",
   "version": "3.9.0"
  },
  "orig_nbformat": 4,
  "vscode": {
   "interpreter": {
    "hash": "3dc66c11351b0102d9b13bb868253b81f2002b43c320e9088049bbc4e6917ed6"
   }
  }
 },
 "nbformat": 4,
 "nbformat_minor": 2
}

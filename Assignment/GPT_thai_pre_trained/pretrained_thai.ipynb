{
  "cells": [
    {
      "attachments": {},
      "cell_type": "markdown",
      "metadata": {},
      "source": [
        "# Thai Story Generator with pretrained model"
      ]
    },
    {
      "cell_type": "code",
      "execution_count": null,
      "metadata": {
        "colab": {
          "base_uri": "https://localhost:8080/"
        },
        "id": "vWpXGvWMoQTF",
        "outputId": "dce7ad7e-fcf7-4b25-9a32-7e085b1997ec"
      },
      "outputs": [],
      "source": [
        "# !pip install datasets"
      ]
    },
    {
      "attachments": {},
      "cell_type": "markdown",
      "metadata": {},
      "source": [
        "## Import datasets"
      ]
    },
    {
      "cell_type": "code",
      "execution_count": 1,
      "metadata": {
        "colab": {
          "base_uri": "https://localhost:8080/"
        },
        "id": "KOGlSaWXoEdj",
        "outputId": "0ec2019a-559b-46b3-f4ee-7584057d1480"
      },
      "outputs": [
        {
          "name": "stderr",
          "output_type": "stream",
          "text": [
            "Reusing dataset thaisum (/home/i7g7-1080ti/.cache/huggingface/datasets/thaisum/thaisum/1.0.0/347b33c852af4d796e1224e00e15142d626608a9fa3e07ad6d19dfd8fcae5423)\n"
          ]
        }
      ],
      "source": [
        "from datasets import load_dataset\n",
        "ds_train = load_dataset(\"thaisum\", split=\"train\")\n"
      ]
    },
    {
      "cell_type": "code",
      "execution_count": 2,
      "metadata": {
        "id": "o3GdVUHssu4i"
      },
      "outputs": [
        {
          "name": "stderr",
          "output_type": "stream",
          "text": [
            "Reusing dataset thaisum (/home/i7g7-1080ti/.cache/huggingface/datasets/thaisum/thaisum/1.0.0/347b33c852af4d796e1224e00e15142d626608a9fa3e07ad6d19dfd8fcae5423)\n"
          ]
        }
      ],
      "source": [
        "ds_valid = load_dataset(\"thaisum\", split=\"validation\")"
      ]
    },
    {
      "cell_type": "code",
      "execution_count": 3,
      "metadata": {
        "id": "r4Vfy1-ZrLHr"
      },
      "outputs": [],
      "source": [
        "from datasets import DatasetDict"
      ]
    },
    {
      "cell_type": "code",
      "execution_count": 4,
      "metadata": {
        "id": "Xvp_x7M3rD_c"
      },
      "outputs": [],
      "source": [
        "raw_datasets = DatasetDict(\n",
        "    {\n",
        "        \"train\": ds_train.shuffle().select(range(50000)),\n",
        "        \"valid\": ds_valid.shuffle().select(range(500))\n",
        "    }\n",
        ")"
      ]
    },
    {
      "cell_type": "code",
      "execution_count": 5,
      "metadata": {
        "colab": {
          "base_uri": "https://localhost:8080/"
        },
        "id": "Hy2VDJIks1J0",
        "outputId": "7b7ef336-286e-4089-f6a5-c3b0a2a34e45"
      },
      "outputs": [
        {
          "name": "stdout",
          "output_type": "stream",
          "text": [
            "TITLE: จนท.ทหารสนธิกำลังจับ อดีต ส.จ.น่าน ขับกระบะลอบขนไม้สักทองในอช.ศรีน่าน\n",
            "BODY: เมื่อวันที่ 8 ธันวาคม 59 เวลาประมาณ 05.30 น. พ.อ.รุศมนตรี จิณเสน ผอ.กอ.รมน.จ.น่าน, นายดงพล รุจิธรรมธัช นายอำเภอเวียงสา, นายเจริญ โพธิรินท์ ผู้ช่วยหัวหน้าอุทยานแห่งชาติศรีน่าน ได้สนธิกำลัง จนท.ทหาร ชก.\n",
            "SUMMARY: ทหาร-จนท.ปกครอง จ.น่าน สนธิกำลังรวบอดีต ส.จ.2 สมัย ดัดแปลงรถขนไม้สักทอง บริเวณในเขตอุทยานแห่งชาติศรีน่าน นำตัวส่งสภ.น้ำมวบ ดำเนินคดี พร้อมยื่นคัดค้านการประกันตัว เนื่องจากเป็นผู้มีอิทธิพลในพื้นที่\n",
            "TYPE: ข่าว,ทั่วไทย\n",
            "TAGS: อุทยานแห่งชาติศรีน่าน,ชนาประทิน อุ่นถา,น่าน,ลักลอบขนไม้สัก,อดีต ส.จ.\n",
            "URL: https://www.thairath.co.th/news/local/805797\n"
          ]
        }
      ],
      "source": [
        "for key in raw_datasets[\"train\"][0]:\n",
        "    print(f\"{key.upper()}: {raw_datasets['train'][0][key][:200]}\")"
      ]
    },
    {
      "attachments": {},
      "cell_type": "markdown",
      "metadata": {
        "id": "UCCmDb-5tIVe"
      },
      "source": [
        "## Preprocessing"
      ]
    },
    {
      "cell_type": "code",
      "execution_count": 6,
      "metadata": {
        "colab": {
          "base_uri": "https://localhost:8080/"
        },
        "id": "g1zpg4fRp4Ao",
        "outputId": "73e5a30c-617d-4401-d3ec-f66401f7ab83"
      },
      "outputs": [
        {
          "name": "stdout",
          "output_type": "stream",
          "text": [
            "Input IDs length: 18\n",
            "Input chunk lengths: [128, 128, 128, 128, 128, 52, 128, 128, 128, 128, 128, 128, 128, 128, 128, 128, 128, 124]\n",
            "Chunk mapping: [0, 0, 0, 0, 0, 0, 1, 1, 1, 1, 1, 1, 1, 1, 1, 1, 1, 1]\n"
          ]
        }
      ],
      "source": [
        "from transformers import AutoTokenizer\n",
        "\n",
        "context_length = 128\n",
        "tokenizer = AutoTokenizer.from_pretrained(\"flax-community/gpt2-base-thai\")\n",
        "\n",
        "outputs = tokenizer(\n",
        "    raw_datasets[\"train\"][:2][\"body\"],\n",
        "    truncation=True,\n",
        "    max_length=context_length,\n",
        "    return_overflowing_tokens=True,\n",
        "    return_length=True,\n",
        ")\n",
        "\n",
        "print(f\"Input IDs length: {len(outputs['input_ids'])}\")\n",
        "print(f\"Input chunk lengths: {(outputs['length'])}\")\n",
        "print(f\"Chunk mapping: {outputs['overflow_to_sample_mapping']}\")"
      ]
    },
    {
      "cell_type": "code",
      "execution_count": 7,
      "metadata": {
        "colab": {
          "base_uri": "https://localhost:8080/",
          "height": 201,
          "referenced_widgets": [
            "1a25cb8f78ff42c5a0d43cc1b58d26e5",
            "85f79716c97b44c4b3a7a30db79d84e5",
            "c3ef28c076db408b86a19f7917546285",
            "435226b26e5a4bdfac09adc07fd9d296",
            "2e53288ac3804d5485201123f875dea3",
            "1c9d700504d74dce9f9e5ba46ddc11e1",
            "122433957f364bb8afa13c7684ec5545",
            "543fde11e04a490f9ff36e26b790c680",
            "6dc0c2656d3742d5815816d381314180",
            "0bca854c14464c90aa58c8dfc0886d3c",
            "e20af15e8ee24db79fb7cdf57176861d",
            "7de2967f36c4417aa5c6023c761df296",
            "8b8362ce719243ad8089a6992becf32d",
            "09ecf61b2a3b42b386ee38d0fd17efcc",
            "e311301ed4214e00ad421ad235862392",
            "97ebac08b1494ff48f53fee4b45e612b",
            "0cdfed10bd324255823805b0a56a1557",
            "a6fb138a2ce948168f8c7b8194885dd7",
            "957ca56c95084eccbc63efc9922f32ba",
            "26e5d83f2f444a429123dd5f92f74856",
            "dedb2901c4d7440bb6bdd8a76634ba6c",
            "a6785197d2e543c3a2ead8db12cf1480"
          ]
        },
        "id": "H4oOhEOVtxlr",
        "outputId": "92c243f5-4f5f-4d63-fe9c-86c262359410"
      },
      "outputs": [
        {
          "data": {
            "application/vnd.jupyter.widget-view+json": {
              "model_id": "7bad59b46c28434894c1eccb274ead8a",
              "version_major": 2,
              "version_minor": 0
            },
            "text/plain": [
              "  0%|          | 0/50 [00:00<?, ?ba/s]"
            ]
          },
          "metadata": {},
          "output_type": "display_data"
        },
        {
          "data": {
            "application/vnd.jupyter.widget-view+json": {
              "model_id": "14e4ee29167147e68b40b9a0793df4dc",
              "version_major": 2,
              "version_minor": 0
            },
            "text/plain": [
              "  0%|          | 0/1 [00:00<?, ?ba/s]"
            ]
          },
          "metadata": {},
          "output_type": "display_data"
        },
        {
          "data": {
            "text/plain": [
              "DatasetDict({\n",
              "    train: Dataset({\n",
              "        features: ['input_ids'],\n",
              "        num_rows: 463424\n",
              "    })\n",
              "    valid: Dataset({\n",
              "        features: ['input_ids'],\n",
              "        num_rows: 6972\n",
              "    })\n",
              "})"
            ]
          },
          "execution_count": 7,
          "metadata": {},
          "output_type": "execute_result"
        }
      ],
      "source": [
        "def tokenize(element):\n",
        "    outputs = tokenizer(\n",
        "        element[\"body\"],\n",
        "        truncation=True,\n",
        "        max_length=context_length,\n",
        "        return_overflowing_tokens=True,\n",
        "        return_length=True,\n",
        "    )\n",
        "    input_batch = []\n",
        "    for length, input_ids in zip(outputs[\"length\"], outputs[\"input_ids\"]):\n",
        "        if length == context_length:\n",
        "            input_batch.append(input_ids)\n",
        "    return {\"input_ids\": input_batch}\n",
        "\n",
        "\n",
        "tokenized_datasets = raw_datasets.map(\n",
        "    tokenize, batched=True, remove_columns=raw_datasets[\"train\"].column_names\n",
        ")\n",
        "tokenized_datasets"
      ]
    },
    {
      "cell_type": "code",
      "execution_count": 8,
      "metadata": {
        "colab": {
          "base_uri": "https://localhost:8080/",
          "height": 49,
          "referenced_widgets": [
            "502c66e15ec145feb5224fe5c0059aeb",
            "aa1f9c4c89ed4ac58a177cb4e78dbe0c",
            "59156e303d894950aafab21269e7cd02",
            "7caba9c586a44e099a8867eefe93b82d",
            "af5239f1746749038868adf1fcfa66de",
            "c5ca97bd0da147ce819de3f0f6bd123a",
            "c1e5b88c883c4a228e9331485a4dc60b",
            "6f0008f640244f05b36e4948377ab628",
            "8743c3ee67e84b8fba97a6563a0e5f84",
            "0dde32c1911d4135a4c22b5e87f821be",
            "f1b5c2706c104c20bf9a29ea9e6047ca"
          ]
        },
        "id": "OI6NIGlct6qz",
        "outputId": "6e745fb1-d426-4947-8f7c-b136584162f0"
      },
      "outputs": [],
      "source": [
        "from transformers import AutoTokenizer, GPT2LMHeadModel, AutoConfig\n",
        "\n",
        "config = AutoConfig.from_pretrained(\n",
        "    \"flax-community/gpt2-base-thai\",\n",
        "    vocab_size=len(tokenizer),\n",
        "    n_ctx=context_length,\n",
        "    bos_token_id=tokenizer.bos_token_id,\n",
        "    eos_token_id=tokenizer.eos_token_id,\n",
        ")"
      ]
    },
    {
      "cell_type": "code",
      "execution_count": 9,
      "metadata": {
        "colab": {
          "base_uri": "https://localhost:8080/"
        },
        "id": "Moj71XilvK9g",
        "outputId": "9bc4d3c7-c31a-4b2b-ff8e-628a71f468b6"
      },
      "outputs": [
        {
          "name": "stdout",
          "output_type": "stream",
          "text": [
            "GPT-2 size: 124.4M parameters\n"
          ]
        }
      ],
      "source": [
        "model = GPT2LMHeadModel(config)\n",
        "model_size = sum(t.numel() for t in model.parameters())\n",
        "print(f\"GPT-2 size: {model_size/1000**2:.1f}M parameters\")"
      ]
    },
    {
      "cell_type": "code",
      "execution_count": 10,
      "metadata": {
        "colab": {
          "base_uri": "https://localhost:8080/"
        },
        "id": "Ykb-mlMnvRJX",
        "outputId": "4e6ddd78-618e-46c4-c2c0-d3edf49e2714"
      },
      "outputs": [
        {
          "name": "stdout",
          "output_type": "stream",
          "text": [
            "Keyword has not single token: สวัสดี\n",
            "Keyword has not single token: กิน\n",
            "Keyword has not single token: รัก\n",
            "Keyword has not single token: อร่อย\n",
            "Keyword has not single token: ตู่\n",
            "Keyword has not single token: คิดถึง\n",
            "Keyword has not single token: คิดถึงจังอิ\n"
          ]
        }
      ],
      "source": [
        "keytoken_ids = []\n",
        "for keyword in [\n",
        "    \"สวัสดี\",\n",
        "    \"ผม\",\n",
        "    \"ชอบ\",\n",
        "    \"กิน\",\n",
        "    \"รัก\",\n",
        "    \"อร่อย\",\n",
        "    \"หอม\",\n",
        "    \"ตู่\",\n",
        "    \"ถาม\",\n",
        "    \"คิดถึง\",\n",
        "    \"คิดถึงจังอิ\",\n",
        "]:\n",
        "    ids = tokenizer([keyword]).input_ids[0]\n",
        "    if len(ids) == 1:\n",
        "        keytoken_ids.append(ids[0])\n",
        "    else:\n",
        "        print(f\"Keyword has not single token: {keyword}\")"
      ]
    },
    {
      "cell_type": "code",
      "execution_count": 11,
      "metadata": {
        "id": "OlPxSWXNvulF"
      },
      "outputs": [],
      "source": [
        "from torch.nn import CrossEntropyLoss\n",
        "import torch\n",
        "\n",
        "def keytoken_weighted_loss(inputs, logits, keytoken_ids, alpha=1.0):\n",
        "    # Shift so that tokens < n predict n\n",
        "    shift_labels = inputs[..., 1:].contiguous()\n",
        "    shift_logits = logits[..., :-1, :].contiguous()\n",
        "    # Calculate per-token loss\n",
        "    loss_fct = CrossEntropyLoss(reduce=False) #change to reduction=None\n",
        "    loss = loss_fct(shift_logits.view(-1, shift_logits.size(-1)), shift_labels.view(-1))\n",
        "    # Resize and average loss per sample\n",
        "    loss_per_sample = loss.view(shift_logits.size(0), shift_logits.size(1)).mean(axis=1)\n",
        "    # Calculate and scale weighting\n",
        "    weights = torch.stack([(inputs == kt).float() for kt in keytoken_ids]).sum(\n",
        "        axis=[0, 2]\n",
        "    )\n",
        "    weights = alpha * (1.0 + weights)\n",
        "    # Calculate weighted average\n",
        "    weighted_loss = (loss_per_sample * weights).mean()\n",
        "    return weighted_loss"
      ]
    },
    {
      "cell_type": "code",
      "execution_count": 12,
      "metadata": {
        "id": "Pp_nGqRQwk4Y"
      },
      "outputs": [],
      "source": [
        "from torch.utils.data.dataloader import DataLoader\n",
        "\n",
        "tokenized_datasets.set_format(\"torch\")\n",
        "train_dataloader = DataLoader(tokenized_datasets[\"train\"], batch_size=16 ,shuffle=True)\n",
        "eval_dataloader  = DataLoader(tokenized_datasets[\"valid\"], batch_size=16)"
      ]
    },
    {
      "cell_type": "code",
      "execution_count": 13,
      "metadata": {
        "id": "Fcc5gH6fwpcB"
      },
      "outputs": [],
      "source": [
        "weight_decay = 0.1\n",
        "\n",
        "\n",
        "def get_grouped_params(model, no_decay=[\"bias\", \"LayerNorm.weight\"]):\n",
        "    params_with_wd, params_without_wd = [], []\n",
        "    for n, p in model.named_parameters():\n",
        "        if any(nd in n for nd in no_decay):\n",
        "            params_without_wd.append(p)\n",
        "        else:\n",
        "            params_with_wd.append(p)\n",
        "    return [\n",
        "        {\"params\": params_with_wd, \"weight_decay\": weight_decay},\n",
        "        {\"params\": params_without_wd, \"weight_decay\": 0.0},\n",
        "    ]"
      ]
    },
    {
      "cell_type": "code",
      "execution_count": 14,
      "metadata": {
        "id": "nvKirYO9wrsV"
      },
      "outputs": [],
      "source": [
        "def evaluate():\n",
        "    model.eval()\n",
        "    losses = []\n",
        "    for step, batch in enumerate(eval_dataloader):\n",
        "        with torch.no_grad():\n",
        "            outputs = model(batch[\"input_ids\"], labels=batch[\"input_ids\"])\n",
        "            outputs.loss = outputs.loss.reshape(1)\n",
        "        losses.append(accelerator.gather(outputs.loss))        \n",
        "    loss = torch.mean(torch.cat(losses))\n",
        "    try:\n",
        "        perplexity = torch.exp(loss)\n",
        "    except OverflowError:\n",
        "        perplexity = float(\"inf\")\n",
        "    return loss.item(), perplexity.item()"
      ]
    },
    {
      "cell_type": "code",
      "execution_count": 15,
      "metadata": {
        "id": "m8AiiQFkwt1M"
      },
      "outputs": [],
      "source": [
        "model = GPT2LMHeadModel(config)"
      ]
    },
    {
      "cell_type": "code",
      "execution_count": 16,
      "metadata": {
        "id": "IY4lbzVcw4wr"
      },
      "outputs": [],
      "source": [
        "from torch.optim import AdamW\n",
        "\n",
        "optimizer = AdamW(get_grouped_params(model), lr=5e-4)"
      ]
    },
    {
      "attachments": {},
      "cell_type": "markdown",
      "metadata": {
        "id": "o_zB9BQBw8Vf"
      },
      "source": [
        "## Accelerator\n",
        "\n",
        "Now let’s prepare the model, optimizer, and dataloaders so we can start training:"
      ]
    },
    {
      "cell_type": "code",
      "execution_count": null,
      "metadata": {
        "colab": {
          "base_uri": "https://localhost:8080/"
        },
        "id": "LPRCdRb6xCtW",
        "outputId": "3eee7170-a270-4d25-8d19-bac2ef31796d"
      },
      "outputs": [],
      "source": [
        "# !pip install accelerate"
      ]
    },
    {
      "cell_type": "code",
      "execution_count": 17,
      "metadata": {
        "id": "sDN70k7cw70D"
      },
      "outputs": [],
      "source": [
        "from accelerate import Accelerator\n",
        "\n",
        "accelerator = Accelerator(mixed_precision='fp16')\n",
        "\n",
        "model, optimizer, train_dataloader, eval_dataloader = accelerator.prepare(\n",
        "    model, optimizer, train_dataloader, eval_dataloader\n",
        ")"
      ]
    },
    {
      "cell_type": "code",
      "execution_count": 18,
      "metadata": {
        "id": "CJuFdVCwxLvw"
      },
      "outputs": [],
      "source": [
        "from transformers import get_scheduler\n",
        "\n",
        "num_train_epochs = 1\n",
        "num_update_steps_per_epoch = len(train_dataloader)\n",
        "num_training_steps = num_train_epochs * num_update_steps_per_epoch\n",
        "\n",
        "lr_scheduler = get_scheduler(\n",
        "    name=\"linear\",\n",
        "    optimizer=optimizer,\n",
        "    num_warmup_steps=1_000,\n",
        "    num_training_steps=num_training_steps,\n",
        ")"
      ]
    },
    {
      "attachments": {},
      "cell_type": "markdown",
      "metadata": {},
      "source": [
        "Login to huggingface"
      ]
    },
    {
      "cell_type": "code",
      "execution_count": 19,
      "metadata": {
        "colab": {
          "base_uri": "https://localhost:8080/",
          "height": 331,
          "referenced_widgets": [
            "8f906130eb2449ca9bfb81ace350f339",
            "cade6e32431c4d28b1dd663c1d3d448a",
            "aab6efcfde334d898d2da315e20aef4e",
            "d35b2dc98330461caa3c0038b92cb357",
            "94e6678d2996463e911137a77a429f62",
            "210905dff569409bb721d7cacb636ccd",
            "30f6a4d377334eafa0942b76507b1284",
            "b2885e3b15df40cf84bdcf39deabae95",
            "025eca967cea49f29653b44e91198afd",
            "5f1598627e654663bcafc57a9a3d2742",
            "afb659fa3cff43a991ff9982c1839dde",
            "c79930d843cc4839bc478b2691301cf6",
            "36b22802e39a45ab8396627494c31c06",
            "1c38af33a4064601b6577ba4d3f405eb",
            "3270db7d4a384f588b8452a5d06cdff7",
            "912b07bd2c9e4804be9073cfa5554398",
            "e671b6b211bd4a0c8d2bd2498e40a907"
          ]
        },
        "id": "gfE3LwAoxOu4",
        "outputId": "8fd3dfc6-7762-4455-9c3c-7bde064ca920"
      },
      "outputs": [
        {
          "name": "stdout",
          "output_type": "stream",
          "text": [
            "Login successful\n",
            "Your token has been saved to /home/i7g7-1080ti/.huggingface/token\n"
          ]
        }
      ],
      "source": [
        "from huggingface_hub import notebook_login\n",
        "\n",
        "notebook_login()"
      ]
    },
    {
      "cell_type": "code",
      "execution_count": 20,
      "metadata": {
        "colab": {
          "base_uri": "https://localhost:8080/",
          "height": 36
        },
        "id": "Ha5wCWb9xdC4",
        "outputId": "9300084f-8f2e-494a-817d-7f52ccb18eb4"
      },
      "outputs": [
        {
          "data": {
            "text/plain": [
              "'Earth1221/GPT_Thai'"
            ]
          },
          "execution_count": 20,
          "metadata": {},
          "output_type": "execute_result"
        }
      ],
      "source": [
        "from huggingface_hub import Repository, get_full_repo_name\n",
        "\n",
        "model_name = \"GPT_Thai\"\n",
        "repo_name = get_full_repo_name(model_name)\n",
        "repo_name"
      ]
    },
    {
      "cell_type": "code",
      "execution_count": 22,
      "metadata": {
        "colab": {
          "base_uri": "https://localhost:8080/"
        },
        "id": "Bl3mBXTMyFu1",
        "outputId": "54548142-e1f6-4699-9d2c-f61bdb2155da"
      },
      "outputs": [
        {
          "name": "stderr",
          "output_type": "stream",
          "text": [
            "Cloning https://huggingface.co/Earth1221/GPT_Thai into local empty directory.\n"
          ]
        }
      ],
      "source": [
        "import  os\n",
        "os.environ[\"TOKENIZERS_PARALLELISM\"] = \"true\"\n",
        "\n",
        "output_dir = \"GPT_Thai\"\n",
        "repo = Repository(output_dir, clone_from=repo_name)"
      ]
    },
    {
      "cell_type": "code",
      "execution_count": 23,
      "metadata": {
        "colab": {
          "base_uri": "https://localhost:8080/"
        },
        "id": "8dxlQk85yO1R",
        "outputId": "1458b79b-423b-46e9-b650-41657305f3c5"
      },
      "outputs": [
        {
          "data": {
            "text/plain": [
              "(11.026223182678223, 61464.99609375)"
            ]
          },
          "execution_count": 23,
          "metadata": {},
          "output_type": "execute_result"
        }
      ],
      "source": [
        "evaluate()"
      ]
    },
    {
      "cell_type": "code",
      "execution_count": 24,
      "metadata": {
        "colab": {
          "base_uri": "https://localhost:8080/",
          "height": 1000,
          "referenced_widgets": [
            "9b5a409273b94df695e7f33c43604fd3",
            "aff82d548e34440c9d614358d88f4961",
            "8a5fed066b4844adac4374b413c437a1",
            "1c29a8ca8fba419080c9094e4dfeb438",
            "3cd8f46dddf54828a0dc59bdab7fb3ad",
            "bc44225910364af38de157f702f5b56f",
            "c9aaf6a953994b97bd3033b235a79d9c",
            "0f6a261f4da04603af440bc876a4a9cc",
            "6e7e5734258641f899dceac1e2d27f7a",
            "8facaa3c5ead4197ae8b5e951e06c55a",
            "c2beb0ddfc7d4439a94453c9e384d555"
          ]
        },
        "id": "XzLl97pFzNDg",
        "outputId": "0deba7e4-bcd6-4b9f-aaa1-3d09ca2152b3"
      },
      "outputs": [
        {
          "data": {
            "application/vnd.jupyter.widget-view+json": {
              "model_id": "389271694027406fbfc32a6513633dc8",
              "version_major": 2,
              "version_minor": 0
            },
            "text/plain": [
              "  0%|          | 0/28964 [00:00<?, ?it/s]"
            ]
          },
          "metadata": {},
          "output_type": "display_data"
        },
        {
          "name": "stderr",
          "output_type": "stream",
          "text": [
            "/home/i7g7-1080ti/.local/lib/python3.6/site-packages/torch/nn/_reduction.py:42: UserWarning: size_average and reduce args will be deprecated, please use reduction='none' instead.\n",
            "  warnings.warn(warning.format(ret))\n"
          ]
        },
        {
          "name": "stdout",
          "output_type": "stream",
          "text": [
            "{'steps': 12, 'loss/train': 97.81797790527344}\n",
            "{'steps': 24, 'loss/train': 74.01036071777344}\n",
            "{'steps': 37, 'loss/train': 75.79133605957031}\n",
            "{'steps': 49, 'loss/train': 71.50773620605469}\n",
            "{'steps': 62, 'loss/train': 61.85414505004883}\n",
            "{'steps': 74, 'loss/train': 67.1125259399414}\n",
            "{'steps': 87, 'loss/train': 55.62742614746094}\n",
            "{'steps': 99, 'loss/train': 58.50541687011719}\n",
            "{'steps': 112, 'loss/train': 52.93339538574219}\n",
            "{'steps': 124, 'loss/train': 47.67146301269531}\n",
            "{'steps': 137, 'loss/train': 44.43110656738281}\n",
            "{'steps': 149, 'loss/train': 41.41243362426758}\n",
            "{'steps': 162, 'loss/train': 40.23468017578125}\n",
            "{'steps': 174, 'loss/train': 47.499568939208984}\n",
            "{'steps': 187, 'loss/train': 40.43970489501953}\n",
            "{'steps': 199, 'loss/train': 46.107749938964844}\n",
            "{'steps': 212, 'loss/train': 40.13477325439453}\n",
            "{'steps': 224, 'loss/train': 39.6888427734375}\n",
            "{'steps': 237, 'loss/train': 38.55208969116211}\n",
            "{'steps': 249, 'loss/train': 37.895843505859375}\n",
            "{'steps': 262, 'loss/train': 39.684967041015625}\n",
            "{'steps': 274, 'loss/train': 33.55760192871094}\n",
            "{'steps': 287, 'loss/train': 35.34747314453125}\n",
            "{'steps': 299, 'loss/train': 35.42134094238281}\n",
            "{'steps': 312, 'loss/train': 34.92645263671875}\n",
            "{'steps': 324, 'loss/train': 33.61033630371094}\n",
            "{'steps': 337, 'loss/train': 32.88513946533203}\n",
            "{'steps': 349, 'loss/train': 39.4207763671875}\n",
            "{'steps': 362, 'loss/train': 32.98445510864258}\n",
            "{'steps': 374, 'loss/train': 44.632720947265625}\n",
            "{'steps': 387, 'loss/train': 31.104129791259766}\n",
            "{'steps': 399, 'loss/train': 31.94489860534668}\n",
            "{'steps': 412, 'loss/train': 29.036636352539062}\n",
            "{'steps': 424, 'loss/train': 31.49419403076172}\n",
            "{'steps': 437, 'loss/train': 33.38435745239258}\n",
            "{'steps': 449, 'loss/train': 32.83656311035156}\n",
            "{'steps': 462, 'loss/train': 30.069931030273438}\n",
            "{'steps': 474, 'loss/train': 30.077497482299805}\n",
            "{'steps': 487, 'loss/train': 32.217796325683594}\n",
            "{'steps': 499, 'loss/train': 29.887466430664062}\n",
            "{'steps': 512, 'loss/train': 30.50374412536621}\n",
            "{'steps': 524, 'loss/train': 29.186111450195312}\n",
            "{'steps': 537, 'loss/train': 33.87233352661133}\n",
            "{'steps': 549, 'loss/train': 33.30120849609375}\n",
            "{'steps': 562, 'loss/train': 25.874507904052734}\n",
            "{'steps': 574, 'loss/train': 30.33527374267578}\n",
            "{'steps': 587, 'loss/train': 30.849666595458984}\n",
            "{'steps': 599, 'loss/train': 33.47858810424805}\n",
            "{'steps': 612, 'loss/train': 31.102542877197266}\n",
            "{'steps': 624, 'loss/train': 28.70126724243164}\n",
            "{'steps': 637, 'loss/train': 25.051898956298828}\n",
            "{'steps': 649, 'loss/train': 27.14311408996582}\n",
            "{'steps': 662, 'loss/train': 27.2110538482666}\n",
            "{'steps': 674, 'loss/train': 29.79491424560547}\n",
            "{'steps': 687, 'loss/train': 38.11505889892578}\n",
            "{'steps': 699, 'loss/train': 27.035839080810547}\n",
            "{'steps': 712, 'loss/train': 25.131757736206055}\n",
            "{'steps': 724, 'loss/train': 27.214763641357422}\n",
            "{'steps': 737, 'loss/train': 24.550067901611328}\n",
            "{'steps': 749, 'loss/train': 34.32475280761719}\n",
            "{'steps': 762, 'loss/train': 26.234607696533203}\n",
            "{'steps': 774, 'loss/train': 23.654827117919922}\n",
            "{'steps': 787, 'loss/train': 29.20353126525879}\n",
            "{'steps': 799, 'loss/train': 25.168296813964844}\n",
            "{'steps': 812, 'loss/train': 23.138412475585938}\n",
            "{'steps': 824, 'loss/train': 26.419198989868164}\n",
            "{'steps': 837, 'loss/train': 25.74140167236328}\n",
            "{'steps': 849, 'loss/train': 27.00617027282715}\n",
            "{'steps': 862, 'loss/train': 23.09160041809082}\n",
            "{'steps': 874, 'loss/train': 24.007497787475586}\n",
            "{'steps': 887, 'loss/train': 28.256710052490234}\n",
            "{'steps': 899, 'loss/train': 26.418437957763672}\n",
            "{'steps': 912, 'loss/train': 25.034503936767578}\n",
            "{'steps': 924, 'loss/train': 25.192163467407227}\n",
            "{'steps': 937, 'loss/train': 25.212871551513672}\n",
            "{'steps': 949, 'loss/train': 26.73990821838379}\n",
            "{'steps': 962, 'loss/train': 25.14508819580078}\n",
            "{'steps': 974, 'loss/train': 24.399412155151367}\n",
            "{'steps': 987, 'loss/train': 23.287450790405273}\n",
            "{'steps': 999, 'loss/train': 27.29018211364746}\n",
            "{'steps': 1012, 'loss/train': 24.106813430786133}\n",
            "{'steps': 1024, 'loss/train': 26.03058433532715}\n",
            "{'steps': 1037, 'loss/train': 24.13500213623047}\n",
            "{'steps': 1049, 'loss/train': 22.402685165405273}\n",
            "{'steps': 1062, 'loss/train': 23.71722984313965}\n",
            "{'steps': 1074, 'loss/train': 22.150859832763672}\n",
            "{'steps': 1087, 'loss/train': 28.760080337524414}\n",
            "{'steps': 1099, 'loss/train': 26.119564056396484}\n",
            "{'steps': 1112, 'loss/train': 22.721092224121094}\n",
            "{'steps': 1124, 'loss/train': 24.310041427612305}\n",
            "{'steps': 1137, 'loss/train': 24.163496017456055}\n",
            "{'steps': 1149, 'loss/train': 27.232803344726562}\n",
            "{'steps': 1162, 'loss/train': 23.837106704711914}\n",
            "{'steps': 1174, 'loss/train': 22.242107391357422}\n",
            "{'steps': 1187, 'loss/train': 27.811445236206055}\n",
            "{'steps': 1199, 'loss/train': 24.440635681152344}\n",
            "{'steps': 1212, 'loss/train': 22.046337127685547}\n",
            "{'steps': 1224, 'loss/train': 27.081493377685547}\n",
            "{'steps': 1237, 'loss/train': 23.330493927001953}\n",
            "{'steps': 1249, 'loss/train': 29.386287689208984}\n",
            "{'steps': 1262, 'loss/train': 23.4914608001709}\n",
            "{'steps': 1274, 'loss/train': 26.53502655029297}\n",
            "{'steps': 1287, 'loss/train': 26.194778442382812}\n",
            "{'steps': 1299, 'loss/train': 23.284122467041016}\n",
            "{'steps': 1312, 'loss/train': 20.722261428833008}\n",
            "{'steps': 1324, 'loss/train': 24.470943450927734}\n",
            "{'steps': 1337, 'loss/train': 23.408470153808594}\n",
            "{'steps': 1349, 'loss/train': 20.96989631652832}\n",
            "{'steps': 1362, 'loss/train': 23.637147903442383}\n",
            "{'steps': 1374, 'loss/train': 23.435184478759766}\n",
            "{'steps': 1387, 'loss/train': 24.114673614501953}\n",
            "{'steps': 1399, 'loss/train': 23.20317268371582}\n",
            "{'steps': 1412, 'loss/train': 25.69484519958496}\n",
            "{'steps': 1424, 'loss/train': 22.984832763671875}\n",
            "{'steps': 1437, 'loss/train': 25.545684814453125}\n",
            "{'steps': 1449, 'loss/train': 20.49616241455078}\n",
            "{'steps': 1462, 'loss/train': 22.101821899414062}\n",
            "{'steps': 1474, 'loss/train': 21.623920440673828}\n",
            "{'steps': 1487, 'loss/train': 21.07434844970703}\n",
            "{'steps': 1499, 'loss/train': 22.224849700927734}\n",
            "{'steps': 1512, 'loss/train': 22.424882888793945}\n",
            "{'steps': 1524, 'loss/train': 21.746910095214844}\n",
            "{'steps': 1537, 'loss/train': 22.202369689941406}\n",
            "{'steps': 1549, 'loss/train': 22.051666259765625}\n",
            "{'steps': 1562, 'loss/train': 22.692771911621094}\n",
            "{'steps': 1574, 'loss/train': 22.7713623046875}\n",
            "{'steps': 1587, 'loss/train': 22.41135025024414}\n",
            "{'steps': 1599, 'loss/train': 22.97939682006836}\n",
            "{'steps': 1612, 'loss/train': 25.38986587524414}\n",
            "{'steps': 1624, 'loss/train': 23.464323043823242}\n",
            "{'steps': 1637, 'loss/train': 26.539649963378906}\n",
            "{'steps': 1649, 'loss/train': 21.82946014404297}\n",
            "{'steps': 1662, 'loss/train': 23.565671920776367}\n",
            "{'steps': 1674, 'loss/train': 25.568008422851562}\n",
            "{'steps': 1687, 'loss/train': 25.689634323120117}\n",
            "{'steps': 1699, 'loss/train': 29.5675048828125}\n",
            "{'steps': 1712, 'loss/train': 21.577611923217773}\n",
            "{'steps': 1724, 'loss/train': 22.49653434753418}\n",
            "{'steps': 1737, 'loss/train': 23.957740783691406}\n",
            "{'steps': 1749, 'loss/train': 22.01207733154297}\n",
            "{'steps': 1762, 'loss/train': 27.404678344726562}\n",
            "{'steps': 1774, 'loss/train': 20.581466674804688}\n",
            "{'steps': 1787, 'loss/train': 20.18290901184082}\n",
            "{'steps': 1799, 'loss/train': 25.68385887145996}\n",
            "{'steps': 1812, 'loss/train': 22.701618194580078}\n",
            "{'steps': 1824, 'loss/train': 20.567224502563477}\n",
            "{'steps': 1837, 'loss/train': 19.75939178466797}\n",
            "{'steps': 1849, 'loss/train': 20.883644104003906}\n",
            "{'steps': 1862, 'loss/train': 20.404067993164062}\n",
            "{'steps': 1874, 'loss/train': 21.256437301635742}\n",
            "{'steps': 1887, 'loss/train': 19.71556854248047}\n",
            "{'steps': 1899, 'loss/train': 20.378629684448242}\n",
            "{'steps': 1912, 'loss/train': 21.189170837402344}\n",
            "{'steps': 1924, 'loss/train': 24.32282257080078}\n",
            "{'steps': 1937, 'loss/train': 19.99425506591797}\n",
            "{'steps': 1949, 'loss/train': 19.982942581176758}\n",
            "{'steps': 1962, 'loss/train': 24.18924903869629}\n",
            "{'steps': 1974, 'loss/train': 20.83720588684082}\n",
            "{'steps': 1987, 'loss/train': 26.57387351989746}\n",
            "{'steps': 1999, 'loss/train': 29.429208755493164}\n",
            "{'steps': 2012, 'loss/train': 18.523954391479492}\n",
            "{'steps': 2024, 'loss/train': 22.690244674682617}\n",
            "{'steps': 2037, 'loss/train': 24.685325622558594}\n",
            "{'steps': 2049, 'loss/train': 22.010473251342773}\n",
            "{'steps': 2062, 'loss/train': 21.17652130126953}\n",
            "{'steps': 2074, 'loss/train': 19.84473419189453}\n",
            "{'steps': 2087, 'loss/train': 22.481647491455078}\n",
            "{'steps': 2099, 'loss/train': 23.13467025756836}\n",
            "{'steps': 2112, 'loss/train': 21.66028594970703}\n",
            "{'steps': 2124, 'loss/train': 21.437633514404297}\n",
            "{'steps': 2137, 'loss/train': 19.44184112548828}\n",
            "{'steps': 2149, 'loss/train': 20.44225311279297}\n",
            "{'steps': 2162, 'loss/train': 24.725563049316406}\n",
            "{'steps': 2174, 'loss/train': 18.902347564697266}\n",
            "{'steps': 2187, 'loss/train': 20.183242797851562}\n",
            "{'steps': 2199, 'loss/train': 25.087100982666016}\n",
            "{'steps': 2212, 'loss/train': 17.82442855834961}\n",
            "{'steps': 2224, 'loss/train': 21.67355728149414}\n",
            "{'steps': 2237, 'loss/train': 20.82150650024414}\n",
            "{'steps': 2249, 'loss/train': 23.426036834716797}\n",
            "{'steps': 2262, 'loss/train': 22.446115493774414}\n",
            "{'steps': 2274, 'loss/train': 19.311527252197266}\n",
            "{'steps': 2287, 'loss/train': 20.00700569152832}\n",
            "{'steps': 2299, 'loss/train': 23.859594345092773}\n",
            "{'steps': 2312, 'loss/train': 25.0321044921875}\n",
            "{'steps': 2324, 'loss/train': 21.89499855041504}\n",
            "{'steps': 2337, 'loss/train': 22.402210235595703}\n",
            "{'steps': 2349, 'loss/train': 19.230777740478516}\n",
            "{'steps': 2362, 'loss/train': 21.874006271362305}\n",
            "{'steps': 2374, 'loss/train': 18.40913200378418}\n",
            "{'steps': 2387, 'loss/train': 22.136056900024414}\n",
            "{'steps': 2399, 'loss/train': 22.587797164916992}\n",
            "{'steps': 2412, 'loss/train': 29.35673713684082}\n",
            "{'steps': 2424, 'loss/train': 17.576860427856445}\n",
            "{'steps': 2437, 'loss/train': 20.91059112548828}\n",
            "{'steps': 2449, 'loss/train': 24.41814422607422}\n",
            "{'steps': 2462, 'loss/train': 23.04557991027832}\n",
            "{'steps': 2474, 'loss/train': 22.600173950195312}\n",
            "{'steps': 2487, 'loss/train': 20.08319664001465}\n",
            "{'steps': 2499, 'loss/train': 21.610197067260742}\n",
            "{'steps': 2512, 'loss/train': 21.917566299438477}\n",
            "{'steps': 2524, 'loss/train': 20.984067916870117}\n",
            "{'steps': 2537, 'loss/train': 20.058467864990234}\n",
            "{'steps': 2549, 'loss/train': 23.952434539794922}\n",
            "{'steps': 2562, 'loss/train': 18.84484100341797}\n",
            "{'steps': 2574, 'loss/train': 17.743762969970703}\n",
            "{'steps': 2587, 'loss/train': 21.933284759521484}\n",
            "{'steps': 2599, 'loss/train': 22.392955780029297}\n",
            "{'steps': 2612, 'loss/train': 20.012744903564453}\n",
            "{'steps': 2624, 'loss/train': 21.597904205322266}\n",
            "{'steps': 2637, 'loss/train': 20.600914001464844}\n",
            "{'steps': 2649, 'loss/train': 21.550281524658203}\n",
            "{'steps': 2662, 'loss/train': 22.721118927001953}\n",
            "{'steps': 2674, 'loss/train': 20.446548461914062}\n",
            "{'steps': 2687, 'loss/train': 24.464004516601562}\n",
            "{'steps': 2699, 'loss/train': 24.278484344482422}\n",
            "{'steps': 2712, 'loss/train': 20.775596618652344}\n",
            "{'steps': 2724, 'loss/train': 20.56995964050293}\n",
            "{'steps': 2737, 'loss/train': 21.783985137939453}\n",
            "{'steps': 2749, 'loss/train': 21.42925453186035}\n",
            "{'steps': 2762, 'loss/train': 21.011280059814453}\n",
            "{'steps': 2774, 'loss/train': 27.670352935791016}\n",
            "{'steps': 2787, 'loss/train': 21.99184226989746}\n",
            "{'steps': 2799, 'loss/train': 21.03730010986328}\n",
            "{'steps': 2812, 'loss/train': 19.27851104736328}\n",
            "{'steps': 2824, 'loss/train': 18.022872924804688}\n",
            "{'steps': 2837, 'loss/train': 23.29984474182129}\n",
            "{'steps': 2849, 'loss/train': 25.254596710205078}\n",
            "{'steps': 2862, 'loss/train': 20.444942474365234}\n",
            "{'steps': 2874, 'loss/train': 24.188766479492188}\n",
            "{'steps': 2887, 'loss/train': 24.851802825927734}\n",
            "{'steps': 2899, 'loss/train': 19.658945083618164}\n",
            "{'steps': 2912, 'loss/train': 20.236339569091797}\n",
            "{'steps': 2924, 'loss/train': 19.02606964111328}\n",
            "{'steps': 2937, 'loss/train': 18.07230567932129}\n",
            "{'steps': 2949, 'loss/train': 19.4852294921875}\n",
            "{'steps': 2962, 'loss/train': 19.060405731201172}\n",
            "{'steps': 2974, 'loss/train': 21.072206497192383}\n",
            "{'steps': 2987, 'loss/train': 21.38525390625}\n",
            "{'steps': 2999, 'loss/train': 24.401142120361328}\n",
            "{'steps': 3012, 'loss/train': 17.14248275756836}\n",
            "{'steps': 3024, 'loss/train': 20.274307250976562}\n",
            "{'steps': 3037, 'loss/train': 23.64725112915039}\n",
            "{'steps': 3049, 'loss/train': 20.370851516723633}\n",
            "{'steps': 3062, 'loss/train': 20.361705780029297}\n",
            "{'steps': 3074, 'loss/train': 19.091938018798828}\n",
            "{'steps': 3087, 'loss/train': 19.211307525634766}\n",
            "{'steps': 3099, 'loss/train': 22.7843017578125}\n",
            "{'steps': 3112, 'loss/train': 21.408775329589844}\n",
            "{'steps': 3124, 'loss/train': 21.205432891845703}\n",
            "{'steps': 3137, 'loss/train': 18.56145477294922}\n",
            "{'steps': 3149, 'loss/train': 19.841718673706055}\n",
            "{'steps': 3162, 'loss/train': 20.159626007080078}\n",
            "{'steps': 3174, 'loss/train': 20.4033203125}\n",
            "{'steps': 3187, 'loss/train': 22.679462432861328}\n",
            "{'steps': 3199, 'loss/train': 19.195219039916992}\n",
            "{'steps': 3212, 'loss/train': 18.70911407470703}\n",
            "{'steps': 3224, 'loss/train': 20.257125854492188}\n",
            "{'steps': 3237, 'loss/train': 19.87984275817871}\n",
            "{'steps': 3249, 'loss/train': 20.698307037353516}\n",
            "{'steps': 3262, 'loss/train': 19.83241081237793}\n",
            "{'steps': 3274, 'loss/train': 19.33599853515625}\n",
            "{'steps': 3287, 'loss/train': 24.065753936767578}\n",
            "{'steps': 3299, 'loss/train': 18.07693099975586}\n",
            "{'steps': 3312, 'loss/train': 18.310749053955078}\n",
            "{'steps': 3324, 'loss/train': 18.798995971679688}\n",
            "{'steps': 3337, 'loss/train': 20.695178985595703}\n",
            "{'steps': 3349, 'loss/train': 20.766361236572266}\n",
            "{'steps': 3362, 'loss/train': 21.478290557861328}\n",
            "{'steps': 3374, 'loss/train': 24.662126541137695}\n",
            "{'steps': 3387, 'loss/train': 20.78601837158203}\n",
            "{'steps': 3399, 'loss/train': 27.012184143066406}\n",
            "{'steps': 3412, 'loss/train': 20.36707305908203}\n",
            "{'steps': 3424, 'loss/train': 18.96975326538086}\n",
            "{'steps': 3437, 'loss/train': 16.858989715576172}\n",
            "{'steps': 3449, 'loss/train': 20.10189437866211}\n",
            "{'steps': 3462, 'loss/train': 17.932193756103516}\n",
            "{'steps': 3474, 'loss/train': 21.25271224975586}\n",
            "{'steps': 3487, 'loss/train': 17.814353942871094}\n",
            "{'steps': 3499, 'loss/train': 19.15929412841797}\n",
            "{'steps': 3512, 'loss/train': 21.645854949951172}\n",
            "{'steps': 3524, 'loss/train': 20.24909210205078}\n",
            "{'steps': 3537, 'loss/train': 20.1137752532959}\n",
            "{'steps': 3549, 'loss/train': 20.24661636352539}\n",
            "{'steps': 3562, 'loss/train': 19.279468536376953}\n",
            "{'steps': 3574, 'loss/train': 18.69045066833496}\n",
            "{'steps': 3587, 'loss/train': 19.94338035583496}\n",
            "{'steps': 3599, 'loss/train': 19.58042335510254}\n",
            "{'steps': 3612, 'loss/train': 24.754980087280273}\n"
          ]
        }
      ],
      "source": [
        "from tqdm.notebook import tqdm\n",
        "\n",
        "gradient_accumulation_steps = 8\n",
        "eval_steps = 5_000\n",
        "\n",
        "model.train()\n",
        "completed_steps = 0\n",
        "for epoch in range(num_train_epochs):\n",
        "    for step, batch in tqdm(\n",
        "        enumerate(train_dataloader, start=1), total=num_training_steps\n",
        "    ):\n",
        "        logits = model(batch[\"input_ids\"]).logits\n",
        "        loss = keytoken_weighted_loss(batch[\"input_ids\"], logits, keytoken_ids)\n",
        "        if step % 100 == 0:\n",
        "            accelerator.print(\n",
        "                {\n",
        "                    \"steps\": completed_steps,\n",
        "                    \"loss/train\": loss.item() * gradient_accumulation_steps,\n",
        "                }\n",
        "            )\n",
        "        loss = loss / gradient_accumulation_steps\n",
        "        accelerator.backward(loss)\n",
        "        if step % gradient_accumulation_steps == 0:\n",
        "            accelerator.clip_grad_norm_(model.parameters(), 1.0)\n",
        "            optimizer.step()\n",
        "            lr_scheduler.step()\n",
        "            optimizer.zero_grad()\n",
        "            completed_steps += 1\n",
        "        if (step % (eval_steps * gradient_accumulation_steps)) == 0:\n",
        "            eval_loss, perplexity = evaluate()\n",
        "            accelerator.print({\"loss/eval\": eval_loss, \"perplexity\": perplexity})\n",
        "            model.train()\n",
        "            accelerator.wait_for_everyone()\n",
        "            unwrapped_model = accelerator.unwrap_model(model)\n",
        "            unwrapped_model.save_pretrained(output_dir, save_function=accelerator.save)\n",
        "            if accelerator.is_main_process:\n",
        "                tokenizer.save_pretrained(output_dir)\n",
        "                repo.push_to_hub(\n",
        "                    commit_message=f\"Training in progress step {step}\", blocking=False\n",
        "                )"
      ]
    },
    {
      "cell_type": "code",
      "execution_count": 38,
      "metadata": {},
      "outputs": [],
      "source": [
        "#model.save_pretrained(output_dir)\n",
        "repo.push_to_hub(commit_message=f\"Update model\", blocking=False)"
      ]
    },
    {
      "cell_type": "code",
      "execution_count": 39,
      "metadata": {
        "colab": {
          "base_uri": "https://localhost:8080/",
          "height": 1000
        },
        "id": "SGvTdqlL2g0n",
        "outputId": "8a9bff4d-e7fe-45af-da40-78586ed26938"
      },
      "outputs": [
        {
          "data": {
            "application/vnd.jupyter.widget-view+json": {
              "model_id": "9395642712fa40deab278a6abff7af29",
              "version_major": 2,
              "version_minor": 0
            },
            "text/plain": [
              "Downloading:   0%|          | 0.00/966 [00:00<?, ?B/s]"
            ]
          },
          "metadata": {},
          "output_type": "display_data"
        },
        {
          "data": {
            "application/vnd.jupyter.widget-view+json": {
              "model_id": "f34c7e8c61b646cf97130a070f257af2",
              "version_major": 2,
              "version_minor": 0
            },
            "text/plain": [
              "Downloading:   0%|          | 0.00/487M [00:00<?, ?B/s]"
            ]
          },
          "metadata": {},
          "output_type": "display_data"
        },
        {
          "data": {
            "application/vnd.jupyter.widget-view+json": {
              "model_id": "83a0c2764e7d4247b12d396c6fac1366",
              "version_major": 2,
              "version_minor": 0
            },
            "text/plain": [
              "Downloading:   0%|          | 0.00/235 [00:00<?, ?B/s]"
            ]
          },
          "metadata": {},
          "output_type": "display_data"
        },
        {
          "data": {
            "application/vnd.jupyter.widget-view+json": {
              "model_id": "c9821baab3614ac7a88d6edaf39b310b",
              "version_major": 2,
              "version_minor": 0
            },
            "text/plain": [
              "Downloading:   0%|          | 0.00/1.19M [00:00<?, ?B/s]"
            ]
          },
          "metadata": {},
          "output_type": "display_data"
        },
        {
          "data": {
            "application/vnd.jupyter.widget-view+json": {
              "model_id": "4a33d372d97d42de8df1183d74fd2319",
              "version_major": 2,
              "version_minor": 0
            },
            "text/plain": [
              "Downloading:   0%|          | 0.00/881k [00:00<?, ?B/s]"
            ]
          },
          "metadata": {},
          "output_type": "display_data"
        },
        {
          "data": {
            "application/vnd.jupyter.widget-view+json": {
              "model_id": "d9dd9206f95e47b2a1c61805fa7f098a",
              "version_major": 2,
              "version_minor": 0
            },
            "text/plain": [
              "Downloading:   0%|          | 0.00/2.86M [00:00<?, ?B/s]"
            ]
          },
          "metadata": {},
          "output_type": "display_data"
        },
        {
          "data": {
            "application/vnd.jupyter.widget-view+json": {
              "model_id": "2e30d29ecc3842ebb9bf25ad902d0f54",
              "version_major": 2,
              "version_minor": 0
            },
            "text/plain": [
              "Downloading:   0%|          | 0.00/24.0 [00:00<?, ?B/s]"
            ]
          },
          "metadata": {},
          "output_type": "display_data"
        },
        {
          "data": {
            "application/vnd.jupyter.widget-view+json": {
              "model_id": "35c454a553914a2290f28b40df003957",
              "version_major": 2,
              "version_minor": 0
            },
            "text/plain": [
              "Downloading:   0%|          | 0.00/90.0 [00:00<?, ?B/s]"
            ]
          },
          "metadata": {},
          "output_type": "display_data"
        }
      ],
      "source": [
        "# import torch\n",
        "# from transformers import pipeline\n",
        "\n",
        "# pipe = pipeline(\"text-generation\", max_length=100, pad_token_id=0, eos_token_id=0, model=\"Earth1221/GPT_Thai\", tokenizer=\"Earth1221/GPT_Thai\")"
      ]
    },
    {
      "cell_type": "code",
      "execution_count": 44,
      "metadata": {
        "id": "9C2a9Pty2iK2"
      },
      "outputs": [
        {
          "name": "stdout",
          "output_type": "stream",
          "text": [
            "ลุงและห้องเก็บสุนัขจัดป่าสัตว์ และแม้ว่า จะทำให้เกิดบุคคลผิดกฎหมายและเป็นเจ้าพนักงานปฏิบัติหรือละเว้น แต่ยังจำคุกอีกนับไม่แน่ชัดจะยื่นตีพิเศษในวันพรุ่งนี้ อีกทั้งได้ให้\n"
          ]
        }
      ],
      "source": [
        "# txt = \"ลุง\"\n",
        "# print(pipe(txt, num_return_sequences=1)[0][\"generated_text\"])"
      ]
    },
    {
      "attachments": {},
      "cell_type": "markdown",
      "metadata": {},
      "source": [
        "## Try many search algorithms"
      ]
    },
    {
      "cell_type": "code",
      "execution_count": 1,
      "metadata": {},
      "outputs": [],
      "source": [
        "from transformers import GPT2LMHeadModel, GPT2Tokenizer\n",
        "\n",
        "\n",
        "tokenizer = GPT2Tokenizer.from_pretrained('Earth1221/GPT_Thai')\n",
        "\n",
        "# add the EOS token as PAD token to avoid warnings\n",
        "model = GPT2LMHeadModel.from_pretrained(\"Earth1221/GPT_Thai\", pad_token_id=tokenizer.eos_token_id)"
      ]
    },
    {
      "cell_type": "code",
      "execution_count": 12,
      "metadata": {},
      "outputs": [],
      "source": [
        "input_ids = tokenizer.encode('ลุงตู่', return_tensors='pt')"
      ]
    },
    {
      "cell_type": "code",
      "execution_count": 13,
      "metadata": {},
      "outputs": [],
      "source": [
        "import torch\n",
        "torch.manual_seed(0)"
      ]
    },
    {
      "attachments": {},
      "cell_type": "markdown",
      "metadata": {},
      "source": [
        "### Greedy"
      ]
    },
    {
      "cell_type": "code",
      "execution_count": 17,
      "metadata": {},
      "outputs": [
        {
          "name": "stderr",
          "output_type": "stream",
          "text": [
            "The attention mask and the pad token id were not set. As a consequence, you may observe unexpected behavior. Please pass your input's `attention_mask` to obtain reliable results.\n",
            "Setting `pad_token_id` to `eos_token_id`:50265 for open-end generation.\n"
          ]
        },
        {
          "name": "stdout",
          "output_type": "stream",
          "text": [
            "Output:\n",
            "----------------------------------------------------------------------------------------------------\n",
            "ลุงตู่,ทั้งนี้ นายวิรัตน์ ก็ยังไม่ได้รับการร้องเรียนจากเจ้าหน้าที่ตำรวจว่า นายวิรัตน์\n"
          ]
        }
      ],
      "source": [
        "greedy_output = model.generate(input_ids, max_length=50)\n",
        "\n",
        "print(\"Output:\\n\" + 100 * '-')\n",
        "print(tokenizer.decode(greedy_output[0], skip_special_tokens=True))"
      ]
    },
    {
      "attachments": {},
      "cell_type": "markdown",
      "metadata": {},
      "source": [
        "### Beam search"
      ]
    },
    {
      "cell_type": "code",
      "execution_count": 20,
      "metadata": {},
      "outputs": [
        {
          "name": "stderr",
          "output_type": "stream",
          "text": [
            "The attention mask and the pad token id were not set. As a consequence, you may observe unexpected behavior. Please pass your input's `attention_mask` to obtain reliable results.\n",
            "Setting `pad_token_id` to `eos_token_id`:50265 for open-end generation.\n"
          ]
        },
        {
          "name": "stdout",
          "output_type": "stream",
          "text": [
            "Output:\n",
            "----------------------------------------------------------------------------------------------------\n",
            "ลุงตู่มีลักษณะคล้ายกับแม่น้ำเจ้าพระยาจึงได้มีการขุดค้นพบแม่น้ำเจ้าพระยาจึงได้มี\n"
          ]
        }
      ],
      "source": [
        "beam_output = model.generate(\n",
        "    input_ids,  \n",
        "    max_length=50, \n",
        "    num_beams=2, \n",
        "    early_stopping=True\n",
        ")\n",
        "\n",
        "print(\"Output:\\n\" + 100 * '-')\n",
        "print(tokenizer.decode(beam_output[0], skip_special_tokens=True))"
      ]
    },
    {
      "attachments": {},
      "cell_type": "markdown",
      "metadata": {},
      "source": [
        "### Sampling"
      ]
    },
    {
      "cell_type": "code",
      "execution_count": 16,
      "metadata": {},
      "outputs": [
        {
          "name": "stderr",
          "output_type": "stream",
          "text": [
            "The attention mask and the pad token id were not set. As a consequence, you may observe unexpected behavior. Please pass your input's `attention_mask` to obtain reliable results.\n",
            "Setting `pad_token_id` to `eos_token_id`:50265 for open-end generation.\n"
          ]
        },
        {
          "name": "stdout",
          "output_type": "stream",
          "text": [
            "Output:\n",
            "----------------------------------------------------------------------------------------------------\n",
            "ลุงตู่ในอำนาจ และอุดมการณ์เดียวกัน บังเอิญให้กำลังใจ กิ่งอายุ ค่อนข้างชันใดบังเอิญ,ความคืบหน้าล่าส\n"
          ]
        }
      ],
      "source": [
        "sample_output = model.generate(\n",
        "    input_ids, \n",
        "    do_sample=True, \n",
        "    max_length=50, \n",
        "    top_k=0\n",
        ")\n",
        "\n",
        "print(\"Output:\\n\" + 100 * '-')\n",
        "print(tokenizer.decode(sample_output[0], skip_special_tokens=True))"
      ]
    },
    {
      "attachments": {},
      "cell_type": "markdown",
      "metadata": {},
      "source": [
        "### Top-p (nucleus) sampling"
      ]
    },
    {
      "cell_type": "code",
      "execution_count": 14,
      "metadata": {},
      "outputs": [
        {
          "name": "stderr",
          "output_type": "stream",
          "text": [
            "The attention mask and the pad token id were not set. As a consequence, you may observe unexpected behavior. Please pass your input's `attention_mask` to obtain reliable results.\n",
            "Setting `pad_token_id` to `eos_token_id`:50265 for open-end generation.\n"
          ]
        },
        {
          "name": "stdout",
          "output_type": "stream",
          "text": [
            "Output:\n",
            "----------------------------------------------------------------------------------------------------\n",
            "ลุงตู่ เสียหลักชนเส้นเลียบเข้าท่วมเช่นนั้น นายศุกรพลเกษียณอายุกับ น.ส.ชรัฏฐิยานุช โคตรเหล็\n"
          ]
        }
      ],
      "source": [
        "\n",
        "\n",
        "# set top_k to 50\n",
        "sample_output = model.generate(\n",
        "    input_ids, \n",
        "    do_sample=True, \n",
        "    max_length=50, \n",
        "    top_p=0.92, \n",
        "    top_k=0\n",
        ")\n",
        "\n",
        "print(\"Output:\\n\" + 100 * '-')\n",
        "print(tokenizer.decode(sample_output[0], skip_special_tokens=True))\n"
      ]
    }
  ],
  "metadata": {
    "accelerator": "GPU",
    "colab": {
      "provenance": []
    },
    "gpuClass": "standard",
    "kernelspec": {
      "display_name": "Python 3",
      "name": "python3"
    },
    "language_info": {
      "codemirror_mode": {
        "name": "ipython",
        "version": 3
      },
      "file_extension": ".py",
      "mimetype": "text/x-python",
      "name": "python",
      "nbconvert_exporter": "python",
      "pygments_lexer": "ipython3",
      "version": "3.7.11"
    },
    "widgets": {
      "application/vnd.jupyter.widget-state+json": {
        "025eca967cea49f29653b44e91198afd": {
          "model_module": "@jupyter-widgets/controls",
          "model_module_version": "1.5.0",
          "model_name": "DescriptionStyleModel",
          "state": {
            "_model_module": "@jupyter-widgets/controls",
            "_model_module_version": "1.5.0",
            "_model_name": "DescriptionStyleModel",
            "_view_count": null,
            "_view_module": "@jupyter-widgets/base",
            "_view_module_version": "1.2.0",
            "_view_name": "StyleView",
            "description_width": ""
          }
        },
        "09ecf61b2a3b42b386ee38d0fd17efcc": {
          "model_module": "@jupyter-widgets/controls",
          "model_module_version": "1.5.0",
          "model_name": "FloatProgressModel",
          "state": {
            "_dom_classes": [],
            "_model_module": "@jupyter-widgets/controls",
            "_model_module_version": "1.5.0",
            "_model_name": "FloatProgressModel",
            "_view_count": null,
            "_view_module": "@jupyter-widgets/controls",
            "_view_module_version": "1.5.0",
            "_view_name": "ProgressView",
            "bar_style": "",
            "description": "",
            "description_tooltip": null,
            "layout": "IPY_MODEL_957ca56c95084eccbc63efc9922f32ba",
            "max": 500,
            "min": 0,
            "orientation": "horizontal",
            "style": "IPY_MODEL_26e5d83f2f444a429123dd5f92f74856",
            "value": 500
          }
        },
        "0bca854c14464c90aa58c8dfc0886d3c": {
          "model_module": "@jupyter-widgets/base",
          "model_module_version": "1.2.0",
          "model_name": "LayoutModel",
          "state": {
            "_model_module": "@jupyter-widgets/base",
            "_model_module_version": "1.2.0",
            "_model_name": "LayoutModel",
            "_view_count": null,
            "_view_module": "@jupyter-widgets/base",
            "_view_module_version": "1.2.0",
            "_view_name": "LayoutView",
            "align_content": null,
            "align_items": null,
            "align_self": null,
            "border": null,
            "bottom": null,
            "display": null,
            "flex": null,
            "flex_flow": null,
            "grid_area": null,
            "grid_auto_columns": null,
            "grid_auto_flow": null,
            "grid_auto_rows": null,
            "grid_column": null,
            "grid_gap": null,
            "grid_row": null,
            "grid_template_areas": null,
            "grid_template_columns": null,
            "grid_template_rows": null,
            "height": null,
            "justify_content": null,
            "justify_items": null,
            "left": null,
            "margin": null,
            "max_height": null,
            "max_width": null,
            "min_height": null,
            "min_width": null,
            "object_fit": null,
            "object_position": null,
            "order": null,
            "overflow": null,
            "overflow_x": null,
            "overflow_y": null,
            "padding": null,
            "right": null,
            "top": null,
            "visibility": null,
            "width": null
          }
        },
        "0cdfed10bd324255823805b0a56a1557": {
          "model_module": "@jupyter-widgets/base",
          "model_module_version": "1.2.0",
          "model_name": "LayoutModel",
          "state": {
            "_model_module": "@jupyter-widgets/base",
            "_model_module_version": "1.2.0",
            "_model_name": "LayoutModel",
            "_view_count": null,
            "_view_module": "@jupyter-widgets/base",
            "_view_module_version": "1.2.0",
            "_view_name": "LayoutView",
            "align_content": null,
            "align_items": null,
            "align_self": null,
            "border": null,
            "bottom": null,
            "display": null,
            "flex": null,
            "flex_flow": null,
            "grid_area": null,
            "grid_auto_columns": null,
            "grid_auto_flow": null,
            "grid_auto_rows": null,
            "grid_column": null,
            "grid_gap": null,
            "grid_row": null,
            "grid_template_areas": null,
            "grid_template_columns": null,
            "grid_template_rows": null,
            "height": null,
            "justify_content": null,
            "justify_items": null,
            "left": null,
            "margin": null,
            "max_height": null,
            "max_width": null,
            "min_height": null,
            "min_width": null,
            "object_fit": null,
            "object_position": null,
            "order": null,
            "overflow": null,
            "overflow_x": null,
            "overflow_y": null,
            "padding": null,
            "right": null,
            "top": null,
            "visibility": null,
            "width": null
          }
        },
        "0dde32c1911d4135a4c22b5e87f821be": {
          "model_module": "@jupyter-widgets/base",
          "model_module_version": "1.2.0",
          "model_name": "LayoutModel",
          "state": {
            "_model_module": "@jupyter-widgets/base",
            "_model_module_version": "1.2.0",
            "_model_name": "LayoutModel",
            "_view_count": null,
            "_view_module": "@jupyter-widgets/base",
            "_view_module_version": "1.2.0",
            "_view_name": "LayoutView",
            "align_content": null,
            "align_items": null,
            "align_self": null,
            "border": null,
            "bottom": null,
            "display": null,
            "flex": null,
            "flex_flow": null,
            "grid_area": null,
            "grid_auto_columns": null,
            "grid_auto_flow": null,
            "grid_auto_rows": null,
            "grid_column": null,
            "grid_gap": null,
            "grid_row": null,
            "grid_template_areas": null,
            "grid_template_columns": null,
            "grid_template_rows": null,
            "height": null,
            "justify_content": null,
            "justify_items": null,
            "left": null,
            "margin": null,
            "max_height": null,
            "max_width": null,
            "min_height": null,
            "min_width": null,
            "object_fit": null,
            "object_position": null,
            "order": null,
            "overflow": null,
            "overflow_x": null,
            "overflow_y": null,
            "padding": null,
            "right": null,
            "top": null,
            "visibility": null,
            "width": null
          }
        },
        "0f6a261f4da04603af440bc876a4a9cc": {
          "model_module": "@jupyter-widgets/base",
          "model_module_version": "1.2.0",
          "model_name": "LayoutModel",
          "state": {
            "_model_module": "@jupyter-widgets/base",
            "_model_module_version": "1.2.0",
            "_model_name": "LayoutModel",
            "_view_count": null,
            "_view_module": "@jupyter-widgets/base",
            "_view_module_version": "1.2.0",
            "_view_name": "LayoutView",
            "align_content": null,
            "align_items": null,
            "align_self": null,
            "border": null,
            "bottom": null,
            "display": null,
            "flex": null,
            "flex_flow": null,
            "grid_area": null,
            "grid_auto_columns": null,
            "grid_auto_flow": null,
            "grid_auto_rows": null,
            "grid_column": null,
            "grid_gap": null,
            "grid_row": null,
            "grid_template_areas": null,
            "grid_template_columns": null,
            "grid_template_rows": null,
            "height": null,
            "justify_content": null,
            "justify_items": null,
            "left": null,
            "margin": null,
            "max_height": null,
            "max_width": null,
            "min_height": null,
            "min_width": null,
            "object_fit": null,
            "object_position": null,
            "order": null,
            "overflow": null,
            "overflow_x": null,
            "overflow_y": null,
            "padding": null,
            "right": null,
            "top": null,
            "visibility": null,
            "width": null
          }
        },
        "122433957f364bb8afa13c7684ec5545": {
          "model_module": "@jupyter-widgets/controls",
          "model_module_version": "1.5.0",
          "model_name": "DescriptionStyleModel",
          "state": {
            "_model_module": "@jupyter-widgets/controls",
            "_model_module_version": "1.5.0",
            "_model_name": "DescriptionStyleModel",
            "_view_count": null,
            "_view_module": "@jupyter-widgets/base",
            "_view_module_version": "1.2.0",
            "_view_name": "StyleView",
            "description_width": ""
          }
        },
        "1a25cb8f78ff42c5a0d43cc1b58d26e5": {
          "model_module": "@jupyter-widgets/controls",
          "model_module_version": "1.5.0",
          "model_name": "HBoxModel",
          "state": {
            "_dom_classes": [],
            "_model_module": "@jupyter-widgets/controls",
            "_model_module_version": "1.5.0",
            "_model_name": "HBoxModel",
            "_view_count": null,
            "_view_module": "@jupyter-widgets/controls",
            "_view_module_version": "1.5.0",
            "_view_name": "HBoxView",
            "box_style": "",
            "children": [
              "IPY_MODEL_85f79716c97b44c4b3a7a30db79d84e5",
              "IPY_MODEL_c3ef28c076db408b86a19f7917546285",
              "IPY_MODEL_435226b26e5a4bdfac09adc07fd9d296"
            ],
            "layout": "IPY_MODEL_2e53288ac3804d5485201123f875dea3"
          }
        },
        "1c29a8ca8fba419080c9094e4dfeb438": {
          "model_module": "@jupyter-widgets/controls",
          "model_module_version": "1.5.0",
          "model_name": "HTMLModel",
          "state": {
            "_dom_classes": [],
            "_model_module": "@jupyter-widgets/controls",
            "_model_module_version": "1.5.0",
            "_model_name": "HTMLModel",
            "_view_count": null,
            "_view_module": "@jupyter-widgets/controls",
            "_view_module_version": "1.5.0",
            "_view_name": "HTMLView",
            "description": "",
            "description_tooltip": null,
            "layout": "IPY_MODEL_8facaa3c5ead4197ae8b5e951e06c55a",
            "placeholder": "​",
            "style": "IPY_MODEL_c2beb0ddfc7d4439a94453c9e384d555",
            "value": " 14416/14416 [1:37:23&lt;00:00,  2.72it/s]"
          }
        },
        "1c38af33a4064601b6577ba4d3f405eb": {
          "model_module": "@jupyter-widgets/base",
          "model_module_version": "1.2.0",
          "model_name": "LayoutModel",
          "state": {
            "_model_module": "@jupyter-widgets/base",
            "_model_module_version": "1.2.0",
            "_model_name": "LayoutModel",
            "_view_count": null,
            "_view_module": "@jupyter-widgets/base",
            "_view_module_version": "1.2.0",
            "_view_name": "LayoutView",
            "align_content": null,
            "align_items": null,
            "align_self": null,
            "border": null,
            "bottom": null,
            "display": null,
            "flex": null,
            "flex_flow": null,
            "grid_area": null,
            "grid_auto_columns": null,
            "grid_auto_flow": null,
            "grid_auto_rows": null,
            "grid_column": null,
            "grid_gap": null,
            "grid_row": null,
            "grid_template_areas": null,
            "grid_template_columns": null,
            "grid_template_rows": null,
            "height": null,
            "justify_content": null,
            "justify_items": null,
            "left": null,
            "margin": null,
            "max_height": null,
            "max_width": null,
            "min_height": null,
            "min_width": null,
            "object_fit": null,
            "object_position": null,
            "order": null,
            "overflow": null,
            "overflow_x": null,
            "overflow_y": null,
            "padding": null,
            "right": null,
            "top": null,
            "visibility": null,
            "width": null
          }
        },
        "1c9d700504d74dce9f9e5ba46ddc11e1": {
          "model_module": "@jupyter-widgets/base",
          "model_module_version": "1.2.0",
          "model_name": "LayoutModel",
          "state": {
            "_model_module": "@jupyter-widgets/base",
            "_model_module_version": "1.2.0",
            "_model_name": "LayoutModel",
            "_view_count": null,
            "_view_module": "@jupyter-widgets/base",
            "_view_module_version": "1.2.0",
            "_view_name": "LayoutView",
            "align_content": null,
            "align_items": null,
            "align_self": null,
            "border": null,
            "bottom": null,
            "display": null,
            "flex": null,
            "flex_flow": null,
            "grid_area": null,
            "grid_auto_columns": null,
            "grid_auto_flow": null,
            "grid_auto_rows": null,
            "grid_column": null,
            "grid_gap": null,
            "grid_row": null,
            "grid_template_areas": null,
            "grid_template_columns": null,
            "grid_template_rows": null,
            "height": null,
            "justify_content": null,
            "justify_items": null,
            "left": null,
            "margin": null,
            "max_height": null,
            "max_width": null,
            "min_height": null,
            "min_width": null,
            "object_fit": null,
            "object_position": null,
            "order": null,
            "overflow": null,
            "overflow_x": null,
            "overflow_y": null,
            "padding": null,
            "right": null,
            "top": null,
            "visibility": null,
            "width": null
          }
        },
        "210905dff569409bb721d7cacb636ccd": {
          "model_module": "@jupyter-widgets/controls",
          "model_module_version": "1.5.0",
          "model_name": "HTMLModel",
          "state": {
            "_dom_classes": [],
            "_model_module": "@jupyter-widgets/controls",
            "_model_module_version": "1.5.0",
            "_model_name": "HTMLModel",
            "_view_count": null,
            "_view_module": "@jupyter-widgets/controls",
            "_view_module_version": "1.5.0",
            "_view_name": "HTMLView",
            "description": "",
            "description_tooltip": null,
            "layout": "IPY_MODEL_912b07bd2c9e4804be9073cfa5554398",
            "placeholder": "​",
            "style": "IPY_MODEL_e671b6b211bd4a0c8d2bd2498e40a907",
            "value": "\n<b>Pro Tip:</b> If you don't already have one, you can create a dedicated\n'notebooks' token with 'write' access, that you can then easily reuse for all\nnotebooks. </center>"
          }
        },
        "26e5d83f2f444a429123dd5f92f74856": {
          "model_module": "@jupyter-widgets/controls",
          "model_module_version": "1.5.0",
          "model_name": "ProgressStyleModel",
          "state": {
            "_model_module": "@jupyter-widgets/controls",
            "_model_module_version": "1.5.0",
            "_model_name": "ProgressStyleModel",
            "_view_count": null,
            "_view_module": "@jupyter-widgets/base",
            "_view_module_version": "1.2.0",
            "_view_name": "StyleView",
            "bar_color": null,
            "description_width": ""
          }
        },
        "2e53288ac3804d5485201123f875dea3": {
          "model_module": "@jupyter-widgets/base",
          "model_module_version": "1.2.0",
          "model_name": "LayoutModel",
          "state": {
            "_model_module": "@jupyter-widgets/base",
            "_model_module_version": "1.2.0",
            "_model_name": "LayoutModel",
            "_view_count": null,
            "_view_module": "@jupyter-widgets/base",
            "_view_module_version": "1.2.0",
            "_view_name": "LayoutView",
            "align_content": null,
            "align_items": null,
            "align_self": null,
            "border": null,
            "bottom": null,
            "display": null,
            "flex": null,
            "flex_flow": null,
            "grid_area": null,
            "grid_auto_columns": null,
            "grid_auto_flow": null,
            "grid_auto_rows": null,
            "grid_column": null,
            "grid_gap": null,
            "grid_row": null,
            "grid_template_areas": null,
            "grid_template_columns": null,
            "grid_template_rows": null,
            "height": null,
            "justify_content": null,
            "justify_items": null,
            "left": null,
            "margin": null,
            "max_height": null,
            "max_width": null,
            "min_height": null,
            "min_width": null,
            "object_fit": null,
            "object_position": null,
            "order": null,
            "overflow": null,
            "overflow_x": null,
            "overflow_y": null,
            "padding": null,
            "right": null,
            "top": null,
            "visibility": "hidden",
            "width": null
          }
        },
        "30f6a4d377334eafa0942b76507b1284": {
          "model_module": "@jupyter-widgets/base",
          "model_module_version": "1.2.0",
          "model_name": "LayoutModel",
          "state": {
            "_model_module": "@jupyter-widgets/base",
            "_model_module_version": "1.2.0",
            "_model_name": "LayoutModel",
            "_view_count": null,
            "_view_module": "@jupyter-widgets/base",
            "_view_module_version": "1.2.0",
            "_view_name": "LayoutView",
            "align_content": null,
            "align_items": "center",
            "align_self": null,
            "border": null,
            "bottom": null,
            "display": "flex",
            "flex": null,
            "flex_flow": "column",
            "grid_area": null,
            "grid_auto_columns": null,
            "grid_auto_flow": null,
            "grid_auto_rows": null,
            "grid_column": null,
            "grid_gap": null,
            "grid_row": null,
            "grid_template_areas": null,
            "grid_template_columns": null,
            "grid_template_rows": null,
            "height": null,
            "justify_content": null,
            "justify_items": null,
            "left": null,
            "margin": null,
            "max_height": null,
            "max_width": null,
            "min_height": null,
            "min_width": null,
            "object_fit": null,
            "object_position": null,
            "order": null,
            "overflow": null,
            "overflow_x": null,
            "overflow_y": null,
            "padding": null,
            "right": null,
            "top": null,
            "visibility": null,
            "width": "50%"
          }
        },
        "3270db7d4a384f588b8452a5d06cdff7": {
          "model_module": "@jupyter-widgets/controls",
          "model_module_version": "1.5.0",
          "model_name": "ButtonStyleModel",
          "state": {
            "_model_module": "@jupyter-widgets/controls",
            "_model_module_version": "1.5.0",
            "_model_name": "ButtonStyleModel",
            "_view_count": null,
            "_view_module": "@jupyter-widgets/base",
            "_view_module_version": "1.2.0",
            "_view_name": "StyleView",
            "button_color": null,
            "font_weight": ""
          }
        },
        "36b22802e39a45ab8396627494c31c06": {
          "model_module": "@jupyter-widgets/controls",
          "model_module_version": "1.5.0",
          "model_name": "DescriptionStyleModel",
          "state": {
            "_model_module": "@jupyter-widgets/controls",
            "_model_module_version": "1.5.0",
            "_model_name": "DescriptionStyleModel",
            "_view_count": null,
            "_view_module": "@jupyter-widgets/base",
            "_view_module_version": "1.2.0",
            "_view_name": "StyleView",
            "description_width": ""
          }
        },
        "3cd8f46dddf54828a0dc59bdab7fb3ad": {
          "model_module": "@jupyter-widgets/base",
          "model_module_version": "1.2.0",
          "model_name": "LayoutModel",
          "state": {
            "_model_module": "@jupyter-widgets/base",
            "_model_module_version": "1.2.0",
            "_model_name": "LayoutModel",
            "_view_count": null,
            "_view_module": "@jupyter-widgets/base",
            "_view_module_version": "1.2.0",
            "_view_name": "LayoutView",
            "align_content": null,
            "align_items": null,
            "align_self": null,
            "border": null,
            "bottom": null,
            "display": null,
            "flex": null,
            "flex_flow": null,
            "grid_area": null,
            "grid_auto_columns": null,
            "grid_auto_flow": null,
            "grid_auto_rows": null,
            "grid_column": null,
            "grid_gap": null,
            "grid_row": null,
            "grid_template_areas": null,
            "grid_template_columns": null,
            "grid_template_rows": null,
            "height": null,
            "justify_content": null,
            "justify_items": null,
            "left": null,
            "margin": null,
            "max_height": null,
            "max_width": null,
            "min_height": null,
            "min_width": null,
            "object_fit": null,
            "object_position": null,
            "order": null,
            "overflow": null,
            "overflow_x": null,
            "overflow_y": null,
            "padding": null,
            "right": null,
            "top": null,
            "visibility": null,
            "width": null
          }
        },
        "435226b26e5a4bdfac09adc07fd9d296": {
          "model_module": "@jupyter-widgets/controls",
          "model_module_version": "1.5.0",
          "model_name": "HTMLModel",
          "state": {
            "_dom_classes": [],
            "_model_module": "@jupyter-widgets/controls",
            "_model_module_version": "1.5.0",
            "_model_name": "HTMLModel",
            "_view_count": null,
            "_view_module": "@jupyter-widgets/controls",
            "_view_module_version": "1.5.0",
            "_view_name": "HTMLView",
            "description": "",
            "description_tooltip": null,
            "layout": "IPY_MODEL_0bca854c14464c90aa58c8dfc0886d3c",
            "placeholder": "​",
            "style": "IPY_MODEL_e20af15e8ee24db79fb7cdf57176861d",
            "value": " 50000/50000 [03:31&lt;00:00, 250.36 examples/s]"
          }
        },
        "502c66e15ec145feb5224fe5c0059aeb": {
          "model_module": "@jupyter-widgets/controls",
          "model_module_version": "1.5.0",
          "model_name": "HBoxModel",
          "state": {
            "_dom_classes": [],
            "_model_module": "@jupyter-widgets/controls",
            "_model_module_version": "1.5.0",
            "_model_name": "HBoxModel",
            "_view_count": null,
            "_view_module": "@jupyter-widgets/controls",
            "_view_module_version": "1.5.0",
            "_view_name": "HBoxView",
            "box_style": "",
            "children": [
              "IPY_MODEL_aa1f9c4c89ed4ac58a177cb4e78dbe0c",
              "IPY_MODEL_59156e303d894950aafab21269e7cd02",
              "IPY_MODEL_7caba9c586a44e099a8867eefe93b82d"
            ],
            "layout": "IPY_MODEL_af5239f1746749038868adf1fcfa66de"
          }
        },
        "543fde11e04a490f9ff36e26b790c680": {
          "model_module": "@jupyter-widgets/base",
          "model_module_version": "1.2.0",
          "model_name": "LayoutModel",
          "state": {
            "_model_module": "@jupyter-widgets/base",
            "_model_module_version": "1.2.0",
            "_model_name": "LayoutModel",
            "_view_count": null,
            "_view_module": "@jupyter-widgets/base",
            "_view_module_version": "1.2.0",
            "_view_name": "LayoutView",
            "align_content": null,
            "align_items": null,
            "align_self": null,
            "border": null,
            "bottom": null,
            "display": null,
            "flex": null,
            "flex_flow": null,
            "grid_area": null,
            "grid_auto_columns": null,
            "grid_auto_flow": null,
            "grid_auto_rows": null,
            "grid_column": null,
            "grid_gap": null,
            "grid_row": null,
            "grid_template_areas": null,
            "grid_template_columns": null,
            "grid_template_rows": null,
            "height": null,
            "justify_content": null,
            "justify_items": null,
            "left": null,
            "margin": null,
            "max_height": null,
            "max_width": null,
            "min_height": null,
            "min_width": null,
            "object_fit": null,
            "object_position": null,
            "order": null,
            "overflow": null,
            "overflow_x": null,
            "overflow_y": null,
            "padding": null,
            "right": null,
            "top": null,
            "visibility": null,
            "width": null
          }
        },
        "59156e303d894950aafab21269e7cd02": {
          "model_module": "@jupyter-widgets/controls",
          "model_module_version": "1.5.0",
          "model_name": "FloatProgressModel",
          "state": {
            "_dom_classes": [],
            "_model_module": "@jupyter-widgets/controls",
            "_model_module_version": "1.5.0",
            "_model_name": "FloatProgressModel",
            "_view_count": null,
            "_view_module": "@jupyter-widgets/controls",
            "_view_module_version": "1.5.0",
            "_view_name": "ProgressView",
            "bar_style": "success",
            "description": "",
            "description_tooltip": null,
            "layout": "IPY_MODEL_6f0008f640244f05b36e4948377ab628",
            "max": 864,
            "min": 0,
            "orientation": "horizontal",
            "style": "IPY_MODEL_8743c3ee67e84b8fba97a6563a0e5f84",
            "value": 864
          }
        },
        "5f1598627e654663bcafc57a9a3d2742": {
          "model_module": "@jupyter-widgets/base",
          "model_module_version": "1.2.0",
          "model_name": "LayoutModel",
          "state": {
            "_model_module": "@jupyter-widgets/base",
            "_model_module_version": "1.2.0",
            "_model_name": "LayoutModel",
            "_view_count": null,
            "_view_module": "@jupyter-widgets/base",
            "_view_module_version": "1.2.0",
            "_view_name": "LayoutView",
            "align_content": null,
            "align_items": null,
            "align_self": null,
            "border": null,
            "bottom": null,
            "display": null,
            "flex": null,
            "flex_flow": null,
            "grid_area": null,
            "grid_auto_columns": null,
            "grid_auto_flow": null,
            "grid_auto_rows": null,
            "grid_column": null,
            "grid_gap": null,
            "grid_row": null,
            "grid_template_areas": null,
            "grid_template_columns": null,
            "grid_template_rows": null,
            "height": null,
            "justify_content": null,
            "justify_items": null,
            "left": null,
            "margin": null,
            "max_height": null,
            "max_width": null,
            "min_height": null,
            "min_width": null,
            "object_fit": null,
            "object_position": null,
            "order": null,
            "overflow": null,
            "overflow_x": null,
            "overflow_y": null,
            "padding": null,
            "right": null,
            "top": null,
            "visibility": null,
            "width": null
          }
        },
        "6dc0c2656d3742d5815816d381314180": {
          "model_module": "@jupyter-widgets/controls",
          "model_module_version": "1.5.0",
          "model_name": "ProgressStyleModel",
          "state": {
            "_model_module": "@jupyter-widgets/controls",
            "_model_module_version": "1.5.0",
            "_model_name": "ProgressStyleModel",
            "_view_count": null,
            "_view_module": "@jupyter-widgets/base",
            "_view_module_version": "1.2.0",
            "_view_name": "StyleView",
            "bar_color": null,
            "description_width": ""
          }
        },
        "6e7e5734258641f899dceac1e2d27f7a": {
          "model_module": "@jupyter-widgets/controls",
          "model_module_version": "1.5.0",
          "model_name": "ProgressStyleModel",
          "state": {
            "_model_module": "@jupyter-widgets/controls",
            "_model_module_version": "1.5.0",
            "_model_name": "ProgressStyleModel",
            "_view_count": null,
            "_view_module": "@jupyter-widgets/base",
            "_view_module_version": "1.2.0",
            "_view_name": "StyleView",
            "bar_color": null,
            "description_width": ""
          }
        },
        "6f0008f640244f05b36e4948377ab628": {
          "model_module": "@jupyter-widgets/base",
          "model_module_version": "1.2.0",
          "model_name": "LayoutModel",
          "state": {
            "_model_module": "@jupyter-widgets/base",
            "_model_module_version": "1.2.0",
            "_model_name": "LayoutModel",
            "_view_count": null,
            "_view_module": "@jupyter-widgets/base",
            "_view_module_version": "1.2.0",
            "_view_name": "LayoutView",
            "align_content": null,
            "align_items": null,
            "align_self": null,
            "border": null,
            "bottom": null,
            "display": null,
            "flex": null,
            "flex_flow": null,
            "grid_area": null,
            "grid_auto_columns": null,
            "grid_auto_flow": null,
            "grid_auto_rows": null,
            "grid_column": null,
            "grid_gap": null,
            "grid_row": null,
            "grid_template_areas": null,
            "grid_template_columns": null,
            "grid_template_rows": null,
            "height": null,
            "justify_content": null,
            "justify_items": null,
            "left": null,
            "margin": null,
            "max_height": null,
            "max_width": null,
            "min_height": null,
            "min_width": null,
            "object_fit": null,
            "object_position": null,
            "order": null,
            "overflow": null,
            "overflow_x": null,
            "overflow_y": null,
            "padding": null,
            "right": null,
            "top": null,
            "visibility": null,
            "width": null
          }
        },
        "7caba9c586a44e099a8867eefe93b82d": {
          "model_module": "@jupyter-widgets/controls",
          "model_module_version": "1.5.0",
          "model_name": "HTMLModel",
          "state": {
            "_dom_classes": [],
            "_model_module": "@jupyter-widgets/controls",
            "_model_module_version": "1.5.0",
            "_model_name": "HTMLModel",
            "_view_count": null,
            "_view_module": "@jupyter-widgets/controls",
            "_view_module_version": "1.5.0",
            "_view_name": "HTMLView",
            "description": "",
            "description_tooltip": null,
            "layout": "IPY_MODEL_0dde32c1911d4135a4c22b5e87f821be",
            "placeholder": "​",
            "style": "IPY_MODEL_f1b5c2706c104c20bf9a29ea9e6047ca",
            "value": " 864/864 [00:00&lt;00:00, 19.1kB/s]"
          }
        },
        "7de2967f36c4417aa5c6023c761df296": {
          "model_module": "@jupyter-widgets/controls",
          "model_module_version": "1.5.0",
          "model_name": "HBoxModel",
          "state": {
            "_dom_classes": [],
            "_model_module": "@jupyter-widgets/controls",
            "_model_module_version": "1.5.0",
            "_model_name": "HBoxModel",
            "_view_count": null,
            "_view_module": "@jupyter-widgets/controls",
            "_view_module_version": "1.5.0",
            "_view_name": "HBoxView",
            "box_style": "",
            "children": [
              "IPY_MODEL_8b8362ce719243ad8089a6992becf32d",
              "IPY_MODEL_09ecf61b2a3b42b386ee38d0fd17efcc",
              "IPY_MODEL_e311301ed4214e00ad421ad235862392"
            ],
            "layout": "IPY_MODEL_97ebac08b1494ff48f53fee4b45e612b"
          }
        },
        "85f79716c97b44c4b3a7a30db79d84e5": {
          "model_module": "@jupyter-widgets/controls",
          "model_module_version": "1.5.0",
          "model_name": "HTMLModel",
          "state": {
            "_dom_classes": [],
            "_model_module": "@jupyter-widgets/controls",
            "_model_module_version": "1.5.0",
            "_model_name": "HTMLModel",
            "_view_count": null,
            "_view_module": "@jupyter-widgets/controls",
            "_view_module_version": "1.5.0",
            "_view_name": "HTMLView",
            "description": "",
            "description_tooltip": null,
            "layout": "IPY_MODEL_1c9d700504d74dce9f9e5ba46ddc11e1",
            "placeholder": "​",
            "style": "IPY_MODEL_122433957f364bb8afa13c7684ec5545",
            "value": "Map: 100%"
          }
        },
        "8743c3ee67e84b8fba97a6563a0e5f84": {
          "model_module": "@jupyter-widgets/controls",
          "model_module_version": "1.5.0",
          "model_name": "ProgressStyleModel",
          "state": {
            "_model_module": "@jupyter-widgets/controls",
            "_model_module_version": "1.5.0",
            "_model_name": "ProgressStyleModel",
            "_view_count": null,
            "_view_module": "@jupyter-widgets/base",
            "_view_module_version": "1.2.0",
            "_view_name": "StyleView",
            "bar_color": null,
            "description_width": ""
          }
        },
        "8a5fed066b4844adac4374b413c437a1": {
          "model_module": "@jupyter-widgets/controls",
          "model_module_version": "1.5.0",
          "model_name": "FloatProgressModel",
          "state": {
            "_dom_classes": [],
            "_model_module": "@jupyter-widgets/controls",
            "_model_module_version": "1.5.0",
            "_model_name": "FloatProgressModel",
            "_view_count": null,
            "_view_module": "@jupyter-widgets/controls",
            "_view_module_version": "1.5.0",
            "_view_name": "ProgressView",
            "bar_style": "success",
            "description": "",
            "description_tooltip": null,
            "layout": "IPY_MODEL_0f6a261f4da04603af440bc876a4a9cc",
            "max": 14416,
            "min": 0,
            "orientation": "horizontal",
            "style": "IPY_MODEL_6e7e5734258641f899dceac1e2d27f7a",
            "value": 14416
          }
        },
        "8b8362ce719243ad8089a6992becf32d": {
          "model_module": "@jupyter-widgets/controls",
          "model_module_version": "1.5.0",
          "model_name": "HTMLModel",
          "state": {
            "_dom_classes": [],
            "_model_module": "@jupyter-widgets/controls",
            "_model_module_version": "1.5.0",
            "_model_name": "HTMLModel",
            "_view_count": null,
            "_view_module": "@jupyter-widgets/controls",
            "_view_module_version": "1.5.0",
            "_view_name": "HTMLView",
            "description": "",
            "description_tooltip": null,
            "layout": "IPY_MODEL_0cdfed10bd324255823805b0a56a1557",
            "placeholder": "​",
            "style": "IPY_MODEL_a6fb138a2ce948168f8c7b8194885dd7",
            "value": "Map: 100%"
          }
        },
        "8f906130eb2449ca9bfb81ace350f339": {
          "model_module": "@jupyter-widgets/controls",
          "model_module_version": "1.5.0",
          "model_name": "VBoxModel",
          "state": {
            "_dom_classes": [],
            "_model_module": "@jupyter-widgets/controls",
            "_model_module_version": "1.5.0",
            "_model_name": "VBoxModel",
            "_view_count": null,
            "_view_module": "@jupyter-widgets/controls",
            "_view_module_version": "1.5.0",
            "_view_name": "VBoxView",
            "box_style": "",
            "children": [
              "IPY_MODEL_cade6e32431c4d28b1dd663c1d3d448a",
              "IPY_MODEL_aab6efcfde334d898d2da315e20aef4e",
              "IPY_MODEL_d35b2dc98330461caa3c0038b92cb357",
              "IPY_MODEL_94e6678d2996463e911137a77a429f62",
              "IPY_MODEL_210905dff569409bb721d7cacb636ccd"
            ],
            "layout": "IPY_MODEL_30f6a4d377334eafa0942b76507b1284"
          }
        },
        "8facaa3c5ead4197ae8b5e951e06c55a": {
          "model_module": "@jupyter-widgets/base",
          "model_module_version": "1.2.0",
          "model_name": "LayoutModel",
          "state": {
            "_model_module": "@jupyter-widgets/base",
            "_model_module_version": "1.2.0",
            "_model_name": "LayoutModel",
            "_view_count": null,
            "_view_module": "@jupyter-widgets/base",
            "_view_module_version": "1.2.0",
            "_view_name": "LayoutView",
            "align_content": null,
            "align_items": null,
            "align_self": null,
            "border": null,
            "bottom": null,
            "display": null,
            "flex": null,
            "flex_flow": null,
            "grid_area": null,
            "grid_auto_columns": null,
            "grid_auto_flow": null,
            "grid_auto_rows": null,
            "grid_column": null,
            "grid_gap": null,
            "grid_row": null,
            "grid_template_areas": null,
            "grid_template_columns": null,
            "grid_template_rows": null,
            "height": null,
            "justify_content": null,
            "justify_items": null,
            "left": null,
            "margin": null,
            "max_height": null,
            "max_width": null,
            "min_height": null,
            "min_width": null,
            "object_fit": null,
            "object_position": null,
            "order": null,
            "overflow": null,
            "overflow_x": null,
            "overflow_y": null,
            "padding": null,
            "right": null,
            "top": null,
            "visibility": null,
            "width": null
          }
        },
        "912b07bd2c9e4804be9073cfa5554398": {
          "model_module": "@jupyter-widgets/base",
          "model_module_version": "1.2.0",
          "model_name": "LayoutModel",
          "state": {
            "_model_module": "@jupyter-widgets/base",
            "_model_module_version": "1.2.0",
            "_model_name": "LayoutModel",
            "_view_count": null,
            "_view_module": "@jupyter-widgets/base",
            "_view_module_version": "1.2.0",
            "_view_name": "LayoutView",
            "align_content": null,
            "align_items": null,
            "align_self": null,
            "border": null,
            "bottom": null,
            "display": null,
            "flex": null,
            "flex_flow": null,
            "grid_area": null,
            "grid_auto_columns": null,
            "grid_auto_flow": null,
            "grid_auto_rows": null,
            "grid_column": null,
            "grid_gap": null,
            "grid_row": null,
            "grid_template_areas": null,
            "grid_template_columns": null,
            "grid_template_rows": null,
            "height": null,
            "justify_content": null,
            "justify_items": null,
            "left": null,
            "margin": null,
            "max_height": null,
            "max_width": null,
            "min_height": null,
            "min_width": null,
            "object_fit": null,
            "object_position": null,
            "order": null,
            "overflow": null,
            "overflow_x": null,
            "overflow_y": null,
            "padding": null,
            "right": null,
            "top": null,
            "visibility": null,
            "width": null
          }
        },
        "94e6678d2996463e911137a77a429f62": {
          "model_module": "@jupyter-widgets/controls",
          "model_module_version": "1.5.0",
          "model_name": "ButtonModel",
          "state": {
            "_dom_classes": [],
            "_model_module": "@jupyter-widgets/controls",
            "_model_module_version": "1.5.0",
            "_model_name": "ButtonModel",
            "_view_count": null,
            "_view_module": "@jupyter-widgets/controls",
            "_view_module_version": "1.5.0",
            "_view_name": "ButtonView",
            "button_style": "",
            "description": "Login",
            "disabled": false,
            "icon": "",
            "layout": "IPY_MODEL_1c38af33a4064601b6577ba4d3f405eb",
            "style": "IPY_MODEL_3270db7d4a384f588b8452a5d06cdff7",
            "tooltip": ""
          }
        },
        "957ca56c95084eccbc63efc9922f32ba": {
          "model_module": "@jupyter-widgets/base",
          "model_module_version": "1.2.0",
          "model_name": "LayoutModel",
          "state": {
            "_model_module": "@jupyter-widgets/base",
            "_model_module_version": "1.2.0",
            "_model_name": "LayoutModel",
            "_view_count": null,
            "_view_module": "@jupyter-widgets/base",
            "_view_module_version": "1.2.0",
            "_view_name": "LayoutView",
            "align_content": null,
            "align_items": null,
            "align_self": null,
            "border": null,
            "bottom": null,
            "display": null,
            "flex": null,
            "flex_flow": null,
            "grid_area": null,
            "grid_auto_columns": null,
            "grid_auto_flow": null,
            "grid_auto_rows": null,
            "grid_column": null,
            "grid_gap": null,
            "grid_row": null,
            "grid_template_areas": null,
            "grid_template_columns": null,
            "grid_template_rows": null,
            "height": null,
            "justify_content": null,
            "justify_items": null,
            "left": null,
            "margin": null,
            "max_height": null,
            "max_width": null,
            "min_height": null,
            "min_width": null,
            "object_fit": null,
            "object_position": null,
            "order": null,
            "overflow": null,
            "overflow_x": null,
            "overflow_y": null,
            "padding": null,
            "right": null,
            "top": null,
            "visibility": null,
            "width": null
          }
        },
        "97ebac08b1494ff48f53fee4b45e612b": {
          "model_module": "@jupyter-widgets/base",
          "model_module_version": "1.2.0",
          "model_name": "LayoutModel",
          "state": {
            "_model_module": "@jupyter-widgets/base",
            "_model_module_version": "1.2.0",
            "_model_name": "LayoutModel",
            "_view_count": null,
            "_view_module": "@jupyter-widgets/base",
            "_view_module_version": "1.2.0",
            "_view_name": "LayoutView",
            "align_content": null,
            "align_items": null,
            "align_self": null,
            "border": null,
            "bottom": null,
            "display": null,
            "flex": null,
            "flex_flow": null,
            "grid_area": null,
            "grid_auto_columns": null,
            "grid_auto_flow": null,
            "grid_auto_rows": null,
            "grid_column": null,
            "grid_gap": null,
            "grid_row": null,
            "grid_template_areas": null,
            "grid_template_columns": null,
            "grid_template_rows": null,
            "height": null,
            "justify_content": null,
            "justify_items": null,
            "left": null,
            "margin": null,
            "max_height": null,
            "max_width": null,
            "min_height": null,
            "min_width": null,
            "object_fit": null,
            "object_position": null,
            "order": null,
            "overflow": null,
            "overflow_x": null,
            "overflow_y": null,
            "padding": null,
            "right": null,
            "top": null,
            "visibility": "hidden",
            "width": null
          }
        },
        "9b5a409273b94df695e7f33c43604fd3": {
          "model_module": "@jupyter-widgets/controls",
          "model_module_version": "1.5.0",
          "model_name": "HBoxModel",
          "state": {
            "_dom_classes": [],
            "_model_module": "@jupyter-widgets/controls",
            "_model_module_version": "1.5.0",
            "_model_name": "HBoxModel",
            "_view_count": null,
            "_view_module": "@jupyter-widgets/controls",
            "_view_module_version": "1.5.0",
            "_view_name": "HBoxView",
            "box_style": "",
            "children": [
              "IPY_MODEL_aff82d548e34440c9d614358d88f4961",
              "IPY_MODEL_8a5fed066b4844adac4374b413c437a1",
              "IPY_MODEL_1c29a8ca8fba419080c9094e4dfeb438"
            ],
            "layout": "IPY_MODEL_3cd8f46dddf54828a0dc59bdab7fb3ad"
          }
        },
        "a6785197d2e543c3a2ead8db12cf1480": {
          "model_module": "@jupyter-widgets/controls",
          "model_module_version": "1.5.0",
          "model_name": "DescriptionStyleModel",
          "state": {
            "_model_module": "@jupyter-widgets/controls",
            "_model_module_version": "1.5.0",
            "_model_name": "DescriptionStyleModel",
            "_view_count": null,
            "_view_module": "@jupyter-widgets/base",
            "_view_module_version": "1.2.0",
            "_view_name": "StyleView",
            "description_width": ""
          }
        },
        "a6fb138a2ce948168f8c7b8194885dd7": {
          "model_module": "@jupyter-widgets/controls",
          "model_module_version": "1.5.0",
          "model_name": "DescriptionStyleModel",
          "state": {
            "_model_module": "@jupyter-widgets/controls",
            "_model_module_version": "1.5.0",
            "_model_name": "DescriptionStyleModel",
            "_view_count": null,
            "_view_module": "@jupyter-widgets/base",
            "_view_module_version": "1.2.0",
            "_view_name": "StyleView",
            "description_width": ""
          }
        },
        "aa1f9c4c89ed4ac58a177cb4e78dbe0c": {
          "model_module": "@jupyter-widgets/controls",
          "model_module_version": "1.5.0",
          "model_name": "HTMLModel",
          "state": {
            "_dom_classes": [],
            "_model_module": "@jupyter-widgets/controls",
            "_model_module_version": "1.5.0",
            "_model_name": "HTMLModel",
            "_view_count": null,
            "_view_module": "@jupyter-widgets/controls",
            "_view_module_version": "1.5.0",
            "_view_name": "HTMLView",
            "description": "",
            "description_tooltip": null,
            "layout": "IPY_MODEL_c5ca97bd0da147ce819de3f0f6bd123a",
            "placeholder": "​",
            "style": "IPY_MODEL_c1e5b88c883c4a228e9331485a4dc60b",
            "value": "Downloading (…)lve/main/config.json: 100%"
          }
        },
        "aab6efcfde334d898d2da315e20aef4e": {
          "model_module": "@jupyter-widgets/controls",
          "model_module_version": "1.5.0",
          "model_name": "PasswordModel",
          "state": {
            "_dom_classes": [],
            "_model_module": "@jupyter-widgets/controls",
            "_model_module_version": "1.5.0",
            "_model_name": "PasswordModel",
            "_view_count": null,
            "_view_module": "@jupyter-widgets/controls",
            "_view_module_version": "1.5.0",
            "_view_name": "PasswordView",
            "continuous_update": true,
            "description": "Token:",
            "description_tooltip": null,
            "disabled": false,
            "layout": "IPY_MODEL_5f1598627e654663bcafc57a9a3d2742",
            "placeholder": "​",
            "style": "IPY_MODEL_afb659fa3cff43a991ff9982c1839dde",
            "value": ""
          }
        },
        "af5239f1746749038868adf1fcfa66de": {
          "model_module": "@jupyter-widgets/base",
          "model_module_version": "1.2.0",
          "model_name": "LayoutModel",
          "state": {
            "_model_module": "@jupyter-widgets/base",
            "_model_module_version": "1.2.0",
            "_model_name": "LayoutModel",
            "_view_count": null,
            "_view_module": "@jupyter-widgets/base",
            "_view_module_version": "1.2.0",
            "_view_name": "LayoutView",
            "align_content": null,
            "align_items": null,
            "align_self": null,
            "border": null,
            "bottom": null,
            "display": null,
            "flex": null,
            "flex_flow": null,
            "grid_area": null,
            "grid_auto_columns": null,
            "grid_auto_flow": null,
            "grid_auto_rows": null,
            "grid_column": null,
            "grid_gap": null,
            "grid_row": null,
            "grid_template_areas": null,
            "grid_template_columns": null,
            "grid_template_rows": null,
            "height": null,
            "justify_content": null,
            "justify_items": null,
            "left": null,
            "margin": null,
            "max_height": null,
            "max_width": null,
            "min_height": null,
            "min_width": null,
            "object_fit": null,
            "object_position": null,
            "order": null,
            "overflow": null,
            "overflow_x": null,
            "overflow_y": null,
            "padding": null,
            "right": null,
            "top": null,
            "visibility": null,
            "width": null
          }
        },
        "afb659fa3cff43a991ff9982c1839dde": {
          "model_module": "@jupyter-widgets/controls",
          "model_module_version": "1.5.0",
          "model_name": "DescriptionStyleModel",
          "state": {
            "_model_module": "@jupyter-widgets/controls",
            "_model_module_version": "1.5.0",
            "_model_name": "DescriptionStyleModel",
            "_view_count": null,
            "_view_module": "@jupyter-widgets/base",
            "_view_module_version": "1.2.0",
            "_view_name": "StyleView",
            "description_width": ""
          }
        },
        "aff82d548e34440c9d614358d88f4961": {
          "model_module": "@jupyter-widgets/controls",
          "model_module_version": "1.5.0",
          "model_name": "HTMLModel",
          "state": {
            "_dom_classes": [],
            "_model_module": "@jupyter-widgets/controls",
            "_model_module_version": "1.5.0",
            "_model_name": "HTMLModel",
            "_view_count": null,
            "_view_module": "@jupyter-widgets/controls",
            "_view_module_version": "1.5.0",
            "_view_name": "HTMLView",
            "description": "",
            "description_tooltip": null,
            "layout": "IPY_MODEL_bc44225910364af38de157f702f5b56f",
            "placeholder": "​",
            "style": "IPY_MODEL_c9aaf6a953994b97bd3033b235a79d9c",
            "value": "100%"
          }
        },
        "b2885e3b15df40cf84bdcf39deabae95": {
          "model_module": "@jupyter-widgets/base",
          "model_module_version": "1.2.0",
          "model_name": "LayoutModel",
          "state": {
            "_model_module": "@jupyter-widgets/base",
            "_model_module_version": "1.2.0",
            "_model_name": "LayoutModel",
            "_view_count": null,
            "_view_module": "@jupyter-widgets/base",
            "_view_module_version": "1.2.0",
            "_view_name": "LayoutView",
            "align_content": null,
            "align_items": null,
            "align_self": null,
            "border": null,
            "bottom": null,
            "display": null,
            "flex": null,
            "flex_flow": null,
            "grid_area": null,
            "grid_auto_columns": null,
            "grid_auto_flow": null,
            "grid_auto_rows": null,
            "grid_column": null,
            "grid_gap": null,
            "grid_row": null,
            "grid_template_areas": null,
            "grid_template_columns": null,
            "grid_template_rows": null,
            "height": null,
            "justify_content": null,
            "justify_items": null,
            "left": null,
            "margin": null,
            "max_height": null,
            "max_width": null,
            "min_height": null,
            "min_width": null,
            "object_fit": null,
            "object_position": null,
            "order": null,
            "overflow": null,
            "overflow_x": null,
            "overflow_y": null,
            "padding": null,
            "right": null,
            "top": null,
            "visibility": null,
            "width": null
          }
        },
        "bc44225910364af38de157f702f5b56f": {
          "model_module": "@jupyter-widgets/base",
          "model_module_version": "1.2.0",
          "model_name": "LayoutModel",
          "state": {
            "_model_module": "@jupyter-widgets/base",
            "_model_module_version": "1.2.0",
            "_model_name": "LayoutModel",
            "_view_count": null,
            "_view_module": "@jupyter-widgets/base",
            "_view_module_version": "1.2.0",
            "_view_name": "LayoutView",
            "align_content": null,
            "align_items": null,
            "align_self": null,
            "border": null,
            "bottom": null,
            "display": null,
            "flex": null,
            "flex_flow": null,
            "grid_area": null,
            "grid_auto_columns": null,
            "grid_auto_flow": null,
            "grid_auto_rows": null,
            "grid_column": null,
            "grid_gap": null,
            "grid_row": null,
            "grid_template_areas": null,
            "grid_template_columns": null,
            "grid_template_rows": null,
            "height": null,
            "justify_content": null,
            "justify_items": null,
            "left": null,
            "margin": null,
            "max_height": null,
            "max_width": null,
            "min_height": null,
            "min_width": null,
            "object_fit": null,
            "object_position": null,
            "order": null,
            "overflow": null,
            "overflow_x": null,
            "overflow_y": null,
            "padding": null,
            "right": null,
            "top": null,
            "visibility": null,
            "width": null
          }
        },
        "c1e5b88c883c4a228e9331485a4dc60b": {
          "model_module": "@jupyter-widgets/controls",
          "model_module_version": "1.5.0",
          "model_name": "DescriptionStyleModel",
          "state": {
            "_model_module": "@jupyter-widgets/controls",
            "_model_module_version": "1.5.0",
            "_model_name": "DescriptionStyleModel",
            "_view_count": null,
            "_view_module": "@jupyter-widgets/base",
            "_view_module_version": "1.2.0",
            "_view_name": "StyleView",
            "description_width": ""
          }
        },
        "c2beb0ddfc7d4439a94453c9e384d555": {
          "model_module": "@jupyter-widgets/controls",
          "model_module_version": "1.5.0",
          "model_name": "DescriptionStyleModel",
          "state": {
            "_model_module": "@jupyter-widgets/controls",
            "_model_module_version": "1.5.0",
            "_model_name": "DescriptionStyleModel",
            "_view_count": null,
            "_view_module": "@jupyter-widgets/base",
            "_view_module_version": "1.2.0",
            "_view_name": "StyleView",
            "description_width": ""
          }
        },
        "c3ef28c076db408b86a19f7917546285": {
          "model_module": "@jupyter-widgets/controls",
          "model_module_version": "1.5.0",
          "model_name": "FloatProgressModel",
          "state": {
            "_dom_classes": [],
            "_model_module": "@jupyter-widgets/controls",
            "_model_module_version": "1.5.0",
            "_model_name": "FloatProgressModel",
            "_view_count": null,
            "_view_module": "@jupyter-widgets/controls",
            "_view_module_version": "1.5.0",
            "_view_name": "ProgressView",
            "bar_style": "",
            "description": "",
            "description_tooltip": null,
            "layout": "IPY_MODEL_543fde11e04a490f9ff36e26b790c680",
            "max": 50000,
            "min": 0,
            "orientation": "horizontal",
            "style": "IPY_MODEL_6dc0c2656d3742d5815816d381314180",
            "value": 50000
          }
        },
        "c5ca97bd0da147ce819de3f0f6bd123a": {
          "model_module": "@jupyter-widgets/base",
          "model_module_version": "1.2.0",
          "model_name": "LayoutModel",
          "state": {
            "_model_module": "@jupyter-widgets/base",
            "_model_module_version": "1.2.0",
            "_model_name": "LayoutModel",
            "_view_count": null,
            "_view_module": "@jupyter-widgets/base",
            "_view_module_version": "1.2.0",
            "_view_name": "LayoutView",
            "align_content": null,
            "align_items": null,
            "align_self": null,
            "border": null,
            "bottom": null,
            "display": null,
            "flex": null,
            "flex_flow": null,
            "grid_area": null,
            "grid_auto_columns": null,
            "grid_auto_flow": null,
            "grid_auto_rows": null,
            "grid_column": null,
            "grid_gap": null,
            "grid_row": null,
            "grid_template_areas": null,
            "grid_template_columns": null,
            "grid_template_rows": null,
            "height": null,
            "justify_content": null,
            "justify_items": null,
            "left": null,
            "margin": null,
            "max_height": null,
            "max_width": null,
            "min_height": null,
            "min_width": null,
            "object_fit": null,
            "object_position": null,
            "order": null,
            "overflow": null,
            "overflow_x": null,
            "overflow_y": null,
            "padding": null,
            "right": null,
            "top": null,
            "visibility": null,
            "width": null
          }
        },
        "c79930d843cc4839bc478b2691301cf6": {
          "model_module": "@jupyter-widgets/base",
          "model_module_version": "1.2.0",
          "model_name": "LayoutModel",
          "state": {
            "_model_module": "@jupyter-widgets/base",
            "_model_module_version": "1.2.0",
            "_model_name": "LayoutModel",
            "_view_count": null,
            "_view_module": "@jupyter-widgets/base",
            "_view_module_version": "1.2.0",
            "_view_name": "LayoutView",
            "align_content": null,
            "align_items": null,
            "align_self": null,
            "border": null,
            "bottom": null,
            "display": null,
            "flex": null,
            "flex_flow": null,
            "grid_area": null,
            "grid_auto_columns": null,
            "grid_auto_flow": null,
            "grid_auto_rows": null,
            "grid_column": null,
            "grid_gap": null,
            "grid_row": null,
            "grid_template_areas": null,
            "grid_template_columns": null,
            "grid_template_rows": null,
            "height": null,
            "justify_content": null,
            "justify_items": null,
            "left": null,
            "margin": null,
            "max_height": null,
            "max_width": null,
            "min_height": null,
            "min_width": null,
            "object_fit": null,
            "object_position": null,
            "order": null,
            "overflow": null,
            "overflow_x": null,
            "overflow_y": null,
            "padding": null,
            "right": null,
            "top": null,
            "visibility": null,
            "width": null
          }
        },
        "c9aaf6a953994b97bd3033b235a79d9c": {
          "model_module": "@jupyter-widgets/controls",
          "model_module_version": "1.5.0",
          "model_name": "DescriptionStyleModel",
          "state": {
            "_model_module": "@jupyter-widgets/controls",
            "_model_module_version": "1.5.0",
            "_model_name": "DescriptionStyleModel",
            "_view_count": null,
            "_view_module": "@jupyter-widgets/base",
            "_view_module_version": "1.2.0",
            "_view_name": "StyleView",
            "description_width": ""
          }
        },
        "cade6e32431c4d28b1dd663c1d3d448a": {
          "model_module": "@jupyter-widgets/controls",
          "model_module_version": "1.5.0",
          "model_name": "HTMLModel",
          "state": {
            "_dom_classes": [],
            "_model_module": "@jupyter-widgets/controls",
            "_model_module_version": "1.5.0",
            "_model_name": "HTMLModel",
            "_view_count": null,
            "_view_module": "@jupyter-widgets/controls",
            "_view_module_version": "1.5.0",
            "_view_name": "HTMLView",
            "description": "",
            "description_tooltip": null,
            "layout": "IPY_MODEL_b2885e3b15df40cf84bdcf39deabae95",
            "placeholder": "​",
            "style": "IPY_MODEL_025eca967cea49f29653b44e91198afd",
            "value": "<center> <img\nsrc=https://huggingface.co/front/assets/huggingface_logo-noborder.svg\nalt='Hugging Face'> <br> Copy a token from <a\nhref=\"https://huggingface.co/settings/tokens\" target=\"_blank\">your Hugging Face\ntokens page</a> and paste it below. <br> Immediately click login after copying\nyour token or it might be stored in plain text in this notebook file. </center>"
          }
        },
        "d35b2dc98330461caa3c0038b92cb357": {
          "model_module": "@jupyter-widgets/controls",
          "model_module_version": "1.5.0",
          "model_name": "CheckboxModel",
          "state": {
            "_dom_classes": [],
            "_model_module": "@jupyter-widgets/controls",
            "_model_module_version": "1.5.0",
            "_model_name": "CheckboxModel",
            "_view_count": null,
            "_view_module": "@jupyter-widgets/controls",
            "_view_module_version": "1.5.0",
            "_view_name": "CheckboxView",
            "description": "Add token as git credential?",
            "description_tooltip": null,
            "disabled": false,
            "indent": true,
            "layout": "IPY_MODEL_c79930d843cc4839bc478b2691301cf6",
            "style": "IPY_MODEL_36b22802e39a45ab8396627494c31c06",
            "value": true
          }
        },
        "dedb2901c4d7440bb6bdd8a76634ba6c": {
          "model_module": "@jupyter-widgets/base",
          "model_module_version": "1.2.0",
          "model_name": "LayoutModel",
          "state": {
            "_model_module": "@jupyter-widgets/base",
            "_model_module_version": "1.2.0",
            "_model_name": "LayoutModel",
            "_view_count": null,
            "_view_module": "@jupyter-widgets/base",
            "_view_module_version": "1.2.0",
            "_view_name": "LayoutView",
            "align_content": null,
            "align_items": null,
            "align_self": null,
            "border": null,
            "bottom": null,
            "display": null,
            "flex": null,
            "flex_flow": null,
            "grid_area": null,
            "grid_auto_columns": null,
            "grid_auto_flow": null,
            "grid_auto_rows": null,
            "grid_column": null,
            "grid_gap": null,
            "grid_row": null,
            "grid_template_areas": null,
            "grid_template_columns": null,
            "grid_template_rows": null,
            "height": null,
            "justify_content": null,
            "justify_items": null,
            "left": null,
            "margin": null,
            "max_height": null,
            "max_width": null,
            "min_height": null,
            "min_width": null,
            "object_fit": null,
            "object_position": null,
            "order": null,
            "overflow": null,
            "overflow_x": null,
            "overflow_y": null,
            "padding": null,
            "right": null,
            "top": null,
            "visibility": null,
            "width": null
          }
        },
        "e20af15e8ee24db79fb7cdf57176861d": {
          "model_module": "@jupyter-widgets/controls",
          "model_module_version": "1.5.0",
          "model_name": "DescriptionStyleModel",
          "state": {
            "_model_module": "@jupyter-widgets/controls",
            "_model_module_version": "1.5.0",
            "_model_name": "DescriptionStyleModel",
            "_view_count": null,
            "_view_module": "@jupyter-widgets/base",
            "_view_module_version": "1.2.0",
            "_view_name": "StyleView",
            "description_width": ""
          }
        },
        "e311301ed4214e00ad421ad235862392": {
          "model_module": "@jupyter-widgets/controls",
          "model_module_version": "1.5.0",
          "model_name": "HTMLModel",
          "state": {
            "_dom_classes": [],
            "_model_module": "@jupyter-widgets/controls",
            "_model_module_version": "1.5.0",
            "_model_name": "HTMLModel",
            "_view_count": null,
            "_view_module": "@jupyter-widgets/controls",
            "_view_module_version": "1.5.0",
            "_view_name": "HTMLView",
            "description": "",
            "description_tooltip": null,
            "layout": "IPY_MODEL_dedb2901c4d7440bb6bdd8a76634ba6c",
            "placeholder": "​",
            "style": "IPY_MODEL_a6785197d2e543c3a2ead8db12cf1480",
            "value": " 500/500 [00:02&lt;00:00, 186.71 examples/s]"
          }
        },
        "e671b6b211bd4a0c8d2bd2498e40a907": {
          "model_module": "@jupyter-widgets/controls",
          "model_module_version": "1.5.0",
          "model_name": "DescriptionStyleModel",
          "state": {
            "_model_module": "@jupyter-widgets/controls",
            "_model_module_version": "1.5.0",
            "_model_name": "DescriptionStyleModel",
            "_view_count": null,
            "_view_module": "@jupyter-widgets/base",
            "_view_module_version": "1.2.0",
            "_view_name": "StyleView",
            "description_width": ""
          }
        },
        "f1b5c2706c104c20bf9a29ea9e6047ca": {
          "model_module": "@jupyter-widgets/controls",
          "model_module_version": "1.5.0",
          "model_name": "DescriptionStyleModel",
          "state": {
            "_model_module": "@jupyter-widgets/controls",
            "_model_module_version": "1.5.0",
            "_model_name": "DescriptionStyleModel",
            "_view_count": null,
            "_view_module": "@jupyter-widgets/base",
            "_view_module_version": "1.2.0",
            "_view_name": "StyleView",
            "description_width": ""
          }
        }
      }
    }
  },
  "nbformat": 4,
  "nbformat_minor": 0
}

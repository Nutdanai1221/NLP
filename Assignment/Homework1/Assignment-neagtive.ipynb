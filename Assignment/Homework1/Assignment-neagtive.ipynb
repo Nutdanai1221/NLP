{
 "cells": [
  {
   "attachments": {},
   "cell_type": "markdown",
   "metadata": {},
   "source": [
    "# word2vec (Skpigram vs Negative sampling skipgram)"
   ]
  },
  {
   "attachments": {},
   "cell_type": "markdown",
   "metadata": {},
   "source": [
    "## 1.Load data"
   ]
  },
  {
   "attachments": {},
   "cell_type": "markdown",
   "metadata": {},
   "source": [
    "### import library"
   ]
  },
  {
   "cell_type": "code",
   "execution_count": 1,
   "metadata": {},
   "outputs": [],
   "source": [
    "import numpy as np \n",
    "import torch\n",
    "import torch.nn as nn\n",
    "from collections import Counter\n",
    "import torch.optim as optim \n",
    "import matplotlib.pyplot as plt \n",
    "import spacy\n",
    "import pandas as pd \n",
    "import time\n",
    "import random\n",
    "from numpy import dot\n",
    "from numpy.linalg import norm\n",
    "import itertools\n",
    "nlp = spacy.load(\"en_core_web_sm\") #imprement spacy to tokenized data"
   ]
  },
  {
   "attachments": {},
   "cell_type": "markdown",
   "metadata": {},
   "source": [
    "### Load corpus data from CSV File"
   ]
  },
  {
   "cell_type": "code",
   "execution_count": 2,
   "metadata": {},
   "outputs": [],
   "source": [
    "df = pd.read_csv('corpus.csv') #load data from CSV\n",
    "all_text = df.text #get data from \"text\" column"
   ]
  },
  {
   "attachments": {},
   "cell_type": "markdown",
   "metadata": {},
   "source": [
    "## 2.Tokenized"
   ]
  },
  {
   "cell_type": "code",
   "execution_count": 3,
   "metadata": {},
   "outputs": [],
   "source": [
    "corpus_tokenized_str = []\n",
    "for doc in all_text :\n",
    "    for token in nlp(doc) :\n",
    "        corpus_tokenized_str.append(str(token))"
   ]
  },
  {
   "cell_type": "code",
   "execution_count": 4,
   "metadata": {},
   "outputs": [
    {
     "data": {
      "text/plain": [
       "[' ', 'Stuning', 'even', 'for', 'the', 'non', '-', 'gamer', ':', 'This']"
      ]
     },
     "execution_count": 4,
     "metadata": {},
     "output_type": "execute_result"
    }
   ],
   "source": [
    "corpus_tokenized_str[:10]"
   ]
  },
  {
   "cell_type": "code",
   "execution_count": 5,
   "metadata": {},
   "outputs": [
    {
     "data": {
      "text/plain": [
       "['WM',\n",
       " 'noticed',\n",
       " 'short',\n",
       " 'beginning',\n",
       " 'forget',\n",
       " 'what',\n",
       " 'volume',\n",
       " 'Burning',\n",
       " 'world',\n",
       " 'haze']"
      ]
     },
     "execution_count": 5,
     "metadata": {},
     "output_type": "execute_result"
    }
   ],
   "source": [
    "vocabs = list(set(corpus_tokenized_str))\n",
    "vocabs[:10]"
   ]
  },
  {
   "attachments": {},
   "cell_type": "markdown",
   "metadata": {},
   "source": [
    "## 3.Numerization"
   ]
  },
  {
   "cell_type": "code",
   "execution_count": 6,
   "metadata": {},
   "outputs": [],
   "source": [
    "word_2_idx = {v: idx for idx, v in enumerate(vocabs)} #"
   ]
  },
  {
   "cell_type": "code",
   "execution_count": 7,
   "metadata": {},
   "outputs": [
    {
     "name": "stdout",
     "output_type": "stream",
     "text": [
      "258\n"
     ]
    }
   ],
   "source": [
    "print(word_2_idx[\"Japan\"]) #See index of word \"Japan\""
   ]
  },
  {
   "cell_type": "code",
   "execution_count": 8,
   "metadata": {},
   "outputs": [],
   "source": [
    "vocabs.append('<UNK>')\n",
    "word_2_idx['<UNK>'] = len(word_2_idx) "
   ]
  },
  {
   "cell_type": "code",
   "execution_count": 9,
   "metadata": {},
   "outputs": [
    {
     "data": {
      "text/plain": [
       "{'WM': 0,\n",
       " 'noticed': 1,\n",
       " 'short': 2,\n",
       " 'beginning': 3,\n",
       " 'forget': 4,\n",
       " 'what': 5,\n",
       " 'volume': 6,\n",
       " 'Burning': 7,\n",
       " 'world': 8,\n",
       " 'haze': 9}"
      ]
     },
     "execution_count": 9,
     "metadata": {},
     "output_type": "execute_result"
    }
   ],
   "source": [
    "dict(itertools.islice(word_2_idx.items(), 10)) #show example of numerization krub"
   ]
  },
  {
   "attachments": {},
   "cell_type": "markdown",
   "metadata": {},
   "source": [
    "## 4.Prepare data"
   ]
  },
  {
   "cell_type": "code",
   "execution_count": 10,
   "metadata": {},
   "outputs": [],
   "source": [
    "def random_batch(batch_size, corpus_tokenized_str):\n",
    "    skipgrams = []\n",
    "    #for each corpus\n",
    "    for sent in corpus_tokenized_str:\n",
    "        try :\n",
    "            for i in range(2, len(sent) - 2): #start from 2 to third last\n",
    "                center_word = word_2_idx[sent[i]]\n",
    "                outside_words = [word_2_idx[sent[i-2]], word_2_idx[sent[i-1]], word_2_idx[sent[i+1]], word_2_idx[sent[i+2]]]  #window size of two \n",
    "                for sub_outside in outside_words:\n",
    "                    skipgrams.append([center_word, sub_outside]) #use center word to predict outside word \n",
    "        except :\n",
    "            pass               \n",
    "    #only get a batch, not the entire list\n",
    "    random_inputs, random_labels = [], []   \n",
    "    random_index = np.random.choice(range(len(skipgrams)), batch_size, replace=False)\n",
    "             \n",
    "    #appending some list of inputs and labels\n",
    "    \n",
    "    for index in random_index:\n",
    "        random_inputs.append([skipgrams[index][0]])  #center words, this will be a shape of (1, ) --> (1, 1) for modeling\n",
    "        random_labels.append([skipgrams[index][1]])\n",
    "        \n",
    "    return np.array(random_inputs), np.array(random_labels)"
   ]
  },
  {
   "attachments": {},
   "cell_type": "markdown",
   "metadata": {},
   "source": [
    "## 5.Negative sampling"
   ]
  },
  {
   "cell_type": "code",
   "execution_count": 11,
   "metadata": {},
   "outputs": [],
   "source": [
    "Z = 0.001\n",
    "unigram_table = []"
   ]
  },
  {
   "cell_type": "code",
   "execution_count": 12,
   "metadata": {},
   "outputs": [],
   "source": [
    "word_count = Counter(corpus_tokenized_str)\n",
    "num_total_words = sum([c for w, c in word_count.items()])\n",
    "for vo in vocabs:\n",
    "    unigram_table.extend([vo] * int(((word_count[vo]/num_total_words)**0.75)/Z))"
   ]
  },
  {
   "cell_type": "code",
   "execution_count": 13,
   "metadata": {},
   "outputs": [
    {
     "data": {
      "text/plain": [
       "{'WM': 1,\n",
       " 'noticed': 1,\n",
       " 'short': 2,\n",
       " 'beginning': 2,\n",
       " 'forget': 1,\n",
       " 'what': 8,\n",
       " 'volume': 1,\n",
       " 'Burning': 1,\n",
       " 'world': 2,\n",
       " 'haze': 1}"
      ]
     },
     "execution_count": 13,
     "metadata": {},
     "output_type": "execute_result"
    }
   ],
   "source": [
    "aa = Counter(unigram_table) #define unigram table\n",
    "dict(itertools.islice(aa.items(), 10))"
   ]
  },
  {
   "cell_type": "code",
   "execution_count": 14,
   "metadata": {},
   "outputs": [],
   "source": [
    "def prepare_sequence(seq, word2index):\n",
    "    idxs = list(map(lambda w: word2index[w] if word2index.get(w) is not None else word2index[\"<UNK>\"], seq))\n",
    "    return torch.LongTensor(idxs)\n",
    "\n",
    "def negative_sampling(targets, unigram_table, k):\n",
    "    batch_size = targets.size(0)\n",
    "    neg_samples = []\n",
    "    for i in range(batch_size):\n",
    "        nsample = []\n",
    "        target_index = targets[i].item()\n",
    "        while len(nsample) < k: # num of sampling\n",
    "            neg = random.choice(unigram_table)\n",
    "            if word_2_idx[neg] == target_index:\n",
    "                continue\n",
    "            nsample.append(neg)\n",
    "        neg_samples.append(prepare_sequence(nsample, word_2_idx).view(1, -1))\n",
    "    \n",
    "    return torch.cat(neg_samples)"
   ]
  },
  {
   "attachments": {},
   "cell_type": "markdown",
   "metadata": {},
   "source": [
    "## 6.Model"
   ]
  },
  {
   "cell_type": "code",
   "execution_count": 15,
   "metadata": {},
   "outputs": [],
   "source": [
    "class SkipgramNegSampling(nn.Module):\n",
    "    \n",
    "    def __init__(self, vocab_size, emb_size):\n",
    "        super(SkipgramNegSampling, self).__init__()\n",
    "        self.embedding_v = nn.Embedding(vocab_size, emb_size) # center embedding\n",
    "        self.embedding_u = nn.Embedding(vocab_size, emb_size) # out embedding\n",
    "        self.logsigmoid = nn.LogSigmoid()\n",
    "                    \n",
    "    def forward(self, center_words, target_words, negative_words):\n",
    "        center_embeds = self.embedding_v(center_words) \n",
    "        target_embeds = self.embedding_u(target_words) \n",
    "        neg_embeds    = -self.embedding_u(negative_words) \n",
    "        \n",
    "        positive_score = target_embeds.bmm(center_embeds.transpose(1, 2)).squeeze(2)\n",
    "        negative_score = neg_embeds.bmm(center_embeds.transpose(1, 2))\n",
    "        \n",
    "        loss = self.logsigmoid(positive_score) + torch.sum(self.logsigmoid(negative_score), 1) #Loss Function\n",
    "                \n",
    "        return -torch.mean(loss)\n",
    "    \n",
    "    def prediction(self, inputs):\n",
    "        embeds = self.embedding_v(inputs)\n",
    "        \n",
    "        return embeds"
   ]
  },
  {
   "cell_type": "code",
   "execution_count": 16,
   "metadata": {},
   "outputs": [],
   "source": [
    "class Skipgram(nn.Module):\n",
    "    \n",
    "    def __init__(self, voc_size, emb_size):\n",
    "        super(Skipgram, self).__init__()\n",
    "        self.embedding_center_word  = nn.Embedding(voc_size, emb_size)  #is a lookup table mapping all ids in voc_size, into some vector of size emb_size\n",
    "        self.embedding_outside_word = nn.Embedding(voc_size, emb_size)\n",
    "    \n",
    "    def forward(self, center_word, outside_word, all_vocabs):\n",
    "        #convert them into embedding\n",
    "        center_word_embed  = self.embedding_center_word(center_word)     \n",
    "        outside_word_embed = self.embedding_outside_word(outside_word)   \n",
    "        all_vocabs_embed   = self.embedding_outside_word(all_vocabs)     \n",
    "        \n",
    "        #bmm is basically @ or .dot , but across batches (i.e., ignore the batch dimension)\n",
    "        top_term = outside_word_embed.bmm(center_word_embed.transpose(1, 2)).squeeze(2)\n",
    "        top_term_exp = torch.exp(top_term)  #exp(uo vc)\n",
    "        #(batch_size, 1)\n",
    "        lower_term = all_vocabs_embed.bmm(center_word_embed.transpose(1, 2)).squeeze(2)\n",
    "         #(batch_size, voc_size, emb_size) @ (batch_size, emb_size, 1) = (batch_size, voc_size, 1) = (batch_size, voc_size)\n",
    "        lower_term_sum = torch.sum(torch.exp(lower_term), 1) #sum exp(uw vc)\n",
    "        #(batch_size, 1)\n",
    "        loss_fn = -torch.mean(torch.log(top_term_exp / lower_term_sum))\n",
    "        #(batch_size, 1) / (batch_size, 1) ==mean==> scalar\n",
    "        \n",
    "        return loss_fn"
   ]
  },
  {
   "attachments": {},
   "cell_type": "markdown",
   "metadata": {},
   "source": [
    "## 7.train"
   ]
  },
  {
   "cell_type": "code",
   "execution_count": 17,
   "metadata": {},
   "outputs": [],
   "source": [
    "batch_size     = 2 # mini-batch size\n",
    "voc_size = len(vocabs)\n",
    "embedding_size = 2 # embeding size of 2\n",
    "num_neg        = 10 # num of negative sampling\n",
    "num_epochs = 5000"
   ]
  },
  {
   "cell_type": "code",
   "execution_count": 18,
   "metadata": {},
   "outputs": [],
   "source": [
    "model_Neg = SkipgramNegSampling(voc_size, embedding_size)\n",
    "model_normal = Skipgram(voc_size, embedding_size)\n",
    "optimizer_Neg = optim.Adam(model_Neg.parameters(), lr=0.00095)\n",
    "optimizer_normal = optim.Adam(model_normal.parameters(), lr=0.00095)"
   ]
  },
  {
   "cell_type": "code",
   "execution_count": 19,
   "metadata": {},
   "outputs": [
    {
     "data": {
      "text/plain": [
       "torch.Size([2, 1600])"
      ]
     },
     "execution_count": 19,
     "metadata": {},
     "output_type": "execute_result"
    }
   ],
   "source": [
    "def prepare_sequence(seq, word2index):\n",
    "    #map(function, list of something)\n",
    "    #map will look at each of element in this list, and apply this function\n",
    "    idxs = list(map(lambda w: word2index[w] if word2index.get(w) is not None else word2index[\"<UNK>\"], seq))\n",
    "    return torch.LongTensor(idxs)\n",
    "\n",
    "all_vocabs = prepare_sequence(list(vocabs), word_2_idx).expand(batch_size, voc_size)\n",
    "all_vocabs.shape #Shape of all vocabs"
   ]
  },
  {
   "cell_type": "code",
   "execution_count": 22,
   "metadata": {},
   "outputs": [],
   "source": [
    "def epoch_time(start_time, end_time):\n",
    "    elapsed_time = (end_time - start_time)\n",
    "    return elapsed_time"
   ]
  },
  {
   "cell_type": "code",
   "execution_count": 23,
   "metadata": {},
   "outputs": [
    {
     "name": "stdout",
     "output_type": "stream",
     "text": [
      "Epoch 1000 | Loss: 2.872351 | Time: 4.4263\n",
      "Epoch 2000 | Loss: 0.603789 | Time: 3.9113\n",
      "Epoch 3000 | Loss: 0.711816 | Time: 3.8653\n",
      "Epoch 4000 | Loss: 1.062218 | Time: 3.8093\n",
      "Epoch 5000 | Loss: 0.753919 | Time: 3.7473\n",
      "time when run 5000 epoch is : 19.759438514709473 s\n"
     ]
    }
   ],
   "source": [
    "#No negative Training Loop\n",
    "run_time_normal = 0\n",
    "sum_time_normal = 0\n",
    "#for epoch\n",
    "for epoch in range(num_epochs):\n",
    "    start = time.time()\n",
    "\n",
    "    #get random batch\n",
    "    input_batch, label_batch = random_batch(batch_size, corpus_tokenized_str)\n",
    "    input_batch = torch.LongTensor(input_batch)\n",
    "    label_batch = torch.LongTensor(label_batch)\n",
    "    \n",
    "    # print(input_batch.shape, label_batch.shape, all_vocabs.shape)\n",
    "    \n",
    "    #loss = model\n",
    "    loss = model_normal(input_batch, label_batch, all_vocabs)\n",
    "    #backpropagate\n",
    "    loss.backward()\n",
    "    \n",
    "    #update alpha\n",
    "    optimizer_normal.step()\n",
    "    end = time.time()\n",
    "    run_time_normal = run_time_normal + epoch_time(start, end)\n",
    "\n",
    "    \n",
    "    #print epoch loss\n",
    "    if (epoch + 1) % 1000 == 0:\n",
    "        sum_time_normal += run_time_normal\n",
    "        print(f\"Epoch {epoch+1} | Loss: {loss:.6f} | Time: {run_time_normal:.4f} s\")\n",
    "        run_time_normal = 0\n",
    "print(f\"time when run {num_epochs} epoch is : {sum_time_normal} s\")        "
   ]
  },
  {
   "cell_type": "code",
   "execution_count": 36,
   "metadata": {},
   "outputs": [
    {
     "name": "stdout",
     "output_type": "stream",
     "text": [
      "Epoch: 1000 | loss: 6.697902 | time: 1.3751027584075928 s\n",
      "Epoch: 2000 | loss: 2.882289 | time: 1.2921011447906494 s\n",
      "Epoch: 3000 | loss: 2.255446 | time: 1.2990844249725342 s\n",
      "Epoch: 4000 | loss: 1.493658 | time: 1.3140859603881836 s\n",
      "Epoch: 5000 | loss: 2.683238 | time: 1.2690927982330322 s\n",
      "time when run 5000 epoch is : 6.549467086791992 s\n"
     ]
    }
   ],
   "source": [
    "# Training for negative\n",
    "import time \n",
    "run_time_negative = 0\n",
    "sum_time_negative = 0\n",
    "\n",
    "\n",
    "for epoch in range(num_epochs):\n",
    "    \n",
    "    start = time.time()\n",
    "    input_batch, target_batch = random_batch(batch_size, corpus_tokenized_str)\n",
    "    input_batch = torch.LongTensor(input_batch)\n",
    "    target_batch = torch.LongTensor(target_batch)\n",
    "    negs_batch = negative_sampling(target_batch, unigram_table, num_neg)\n",
    "    optimizer_Neg.zero_grad()\n",
    "    loss = model_Neg(input_batch, target_batch, negs_batch)\n",
    "    # epoch_mins, epoch_secs = epoch_time(start, end)\n",
    "    loss.backward()\n",
    "    optimizer_Neg.step()\n",
    "    end = time.time()\n",
    "    run_time_negative = run_time_negative + epoch_time(start, end)\n",
    "\n",
    "    if (epoch + 1) % 1000 == 0:\n",
    "        sum_time_negative += run_time_negative\n",
    "        print(f\"Epoch: {epoch + 1} | loss: {loss:.6f} | time: {run_time_negative} s\")\n",
    "        run_time_negative = 0\n",
    "print(f\"time when run {num_epochs} epoch is : {sum_time_negative} s\")     "
   ]
  },
  {
   "attachments": {},
   "cell_type": "markdown",
   "metadata": {},
   "source": [
    "when compare the term of time of normal version of skipgrams is 19.76 sec and for negative sampling version is 6.55 sec . In summary negative sampling faster than normal version 13.21 sec!!! ."
   ]
  },
  {
   "attachments": {},
   "cell_type": "markdown",
   "metadata": {},
   "source": [
    "## 8.Inferance"
   ]
  },
  {
   "cell_type": "code",
   "execution_count": 25,
   "metadata": {},
   "outputs": [],
   "source": [
    "def get_embed_normal(word): #No negative\n",
    "    try:\n",
    "        index = word_2_idx[word]\n",
    "    except:\n",
    "        index = word_2_idx['<UNK>']\n",
    "    word = torch.LongTensor([index])\n",
    "    center_embed  = model_normal.embedding_center_word(word)\n",
    "    outside_embed = model_normal.embedding_outside_word(word)\n",
    "    embed = (center_embed + outside_embed) / 2\n",
    "    return  embed[0][0].item(), embed[0][1].item()\n"
   ]
  },
  {
   "cell_type": "code",
   "execution_count": 26,
   "metadata": {},
   "outputs": [],
   "source": [
    "def get_embed_negative(word): #Negative\n",
    "    id_tensor = torch.LongTensor([word_2_idx[word]])\n",
    "    v_embed = model_Neg.embedding_v(id_tensor)\n",
    "    u_embed = model_Neg.embedding_u(id_tensor) \n",
    "    word_embed = (v_embed + u_embed) / 2 \n",
    "    x, y = word_embed[0][0].item(), word_embed[0][1].item()\n",
    "\n",
    "    return x, y"
   ]
  },
  {
   "attachments": {},
   "cell_type": "markdown",
   "metadata": {},
   "source": [
    "### plot the data"
   ]
  },
  {
   "attachments": {},
   "cell_type": "markdown",
   "metadata": {},
   "source": [
    "#### normal version of skipgrams"
   ]
  },
  {
   "cell_type": "code",
   "execution_count": 27,
   "metadata": {},
   "outputs": [
    {
     "data": {
      "image/png": "[encoded data removed]",
      "text/plain": [
       "<Figure size 720x432 with 1 Axes>"
      ]
     },
     "metadata": {
      "needs_background": "light"
     },
     "output_type": "display_data"
    }
   ],
   "source": [
    "# for no negative sampling\n",
    "plt.figure(figsize=(10,6))\n",
    "for i, word in enumerate(vocabs[:20]): #loop each unique vocab\n",
    "    x, y = get_embed_normal(word)\n",
    "    plt.scatter(x, y)\n",
    "    plt.annotate(word, xy=(x, y), xytext=(5, 2), textcoords='offset points')\n",
    "plt.show()"
   ]
  },
  {
   "attachments": {},
   "cell_type": "markdown",
   "metadata": {},
   "source": [
    "#### negative sampling version of skipgrams"
   ]
  },
  {
   "cell_type": "code",
   "execution_count": 37,
   "metadata": {},
   "outputs": [
    {
     "data": {
      "image/png": "[encoded data removed]",
      "text/plain": [
       "<Figure size 720x432 with 1 Axes>"
      ]
     },
     "metadata": {
      "needs_background": "light"
     },
     "output_type": "display_data"
    }
   ],
   "source": [
    "#for negative sampling model\n",
    "plt.figure(figsize=(10,6))\n",
    "for i, word in enumerate(vocabs[:20]): #loop each unique vocab\n",
    "    x, y = get_embed_negative(word)\n",
    "    plt.scatter(x, y)\n",
    "    plt.annotate(word, xy=(x, y), xytext=(5, 2), textcoords='offset points')\n",
    "plt.show()"
   ]
  },
  {
   "attachments": {},
   "cell_type": "markdown",
   "metadata": {},
   "source": [
    "### Similarity test"
   ]
  },
  {
   "cell_type": "code",
   "execution_count": 29,
   "metadata": {},
   "outputs": [],
   "source": [
    "cos_sim = lambda a,b : dot(a, b)/(norm(a)*norm(b)) #Define cosine similarity function to check how similarity of two word"
   ]
  },
  {
   "cell_type": "code",
   "execution_count": 31,
   "metadata": {},
   "outputs": [],
   "source": [
    "def test_senario_normal(a1 , a2) :\n",
    "    tester1 = get_embed_normal(a1)\n",
    "    teater2 = get_embed_normal(a2)\n",
    "    print(f\"{a1} similarity to {a2} = {cos_sim(tester1 , teater2)}\")"
   ]
  },
  {
   "cell_type": "code",
   "execution_count": 30,
   "metadata": {},
   "outputs": [],
   "source": [
    "def test_senario_Negative(a1 , a2) : #define test function \n",
    "    tester1 = get_embed_negative(a1)\n",
    "    teater2 = get_embed_negative(a2)\n",
    "    print(f\"{a1} similarity to {a2} = {cos_sim(tester1 , teater2)}\")"
   ]
  },
  {
   "cell_type": "code",
   "execution_count": 35,
   "metadata": {},
   "outputs": [
    {
     "name": "stdout",
     "output_type": "stream",
     "text": [
      "Japan similarity to English = 0.9898521492593471\n",
      "price similarity to price = 0.9999999999999999\n",
      "forget similarity to Japan = 0.9986266872546342\n"
     ]
    }
   ],
   "source": [
    "test_senario_normal(\"Japan\",\"English\")\n",
    "test_senario_normal(\"price\",\"price\")\n",
    "test_senario_normal(\"forget\",\"Japan\") "
   ]
  },
  {
   "cell_type": "code",
   "execution_count": 38,
   "metadata": {},
   "outputs": [
    {
     "name": "stdout",
     "output_type": "stream",
     "text": [
      "Japan similarity to English = 0.41393476241304344\n",
      "price similarity to price = 1.0\n",
      "store similarity to several = 0.11574518249635636\n"
     ]
    }
   ],
   "source": [
    "test_senario_Negative(\"Japan\",\"English\")\n",
    "test_senario_Negative(\"price\",\"price\")\n",
    "test_senario_Negative(\"store\",\"several\")"
   ]
  },
  {
   "cell_type": "code",
   "execution_count": null,
   "metadata": {},
   "outputs": [],
   "source": []
  }
 ],
 "metadata": {
  "kernelspec": {
   "display_name": "Python 3",
   "language": "python",
   "name": "python3"
  },
  "language_info": {
   "codemirror_mode": {
    "name": "ipython",
    "version": 3
   },
   "file_extension": ".py",
   "mimetype": "text/x-python",
   "name": "python",
   "nbconvert_exporter": "python",
   "pygments_lexer": "ipython3",
   "version": "3.9.0"
  },
  "orig_nbformat": 4,
  "vscode": {
   "interpreter": {
    "hash": "3dc66c11351b0102d9b13bb868253b81f2002b43c320e9088049bbc4e6917ed6"
   }
  }
 },
 "nbformat": 4,
 "nbformat_minor": 2
}

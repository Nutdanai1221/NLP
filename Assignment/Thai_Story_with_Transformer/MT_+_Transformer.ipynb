{
  "cells": [
    {
      "cell_type": "markdown",
      "metadata": {
        "id": "it0TL5nJXLa6"
      },
      "source": [
        "# MT + Transformer"
      ]
    },
    {
      "cell_type": "code",
      "execution_count": 1,
      "metadata": {
        "id": "D6IsI-oIXLa-"
      },
      "outputs": [],
      "source": [
        "# !pip install datasets\n",
        "# !pip install pythainlp"
      ]
    },
    {
      "cell_type": "code",
      "source": [
        "!pip install torchdata"
      ],
      "metadata": {
        "colab": {
          "base_uri": "https://localhost:8080/"
        },
        "id": "tJpGkGTCX-zI",
        "outputId": "19d17561-4b15-4779-be1e-8fe9eaaf81cf"
      },
      "execution_count": 2,
      "outputs": [
        {
          "output_type": "stream",
          "name": "stdout",
          "text": [
            "Looking in indexes: https://pypi.org/simple, https://us-python.pkg.dev/colab-wheels/public/simple/\n",
            "Requirement already satisfied: torchdata in /usr/local/lib/python3.9/dist-packages (0.5.1)\n",
            "Requirement already satisfied: urllib3>=1.25 in /usr/local/lib/python3.9/dist-packages (from torchdata) (1.26.14)\n",
            "Requirement already satisfied: portalocker>=2.0.0 in /usr/local/lib/python3.9/dist-packages (from torchdata) (2.7.0)\n",
            "Requirement already satisfied: torch==1.13.1 in /usr/local/lib/python3.9/dist-packages (from torchdata) (1.13.1+cu116)\n",
            "Requirement already satisfied: requests in /usr/local/lib/python3.9/dist-packages (from torchdata) (2.25.1)\n",
            "Requirement already satisfied: typing-extensions in /usr/local/lib/python3.9/dist-packages (from torch==1.13.1->torchdata) (4.5.0)\n",
            "Requirement already satisfied: idna<3,>=2.5 in /usr/local/lib/python3.9/dist-packages (from requests->torchdata) (2.10)\n",
            "Requirement already satisfied: chardet<5,>=3.0.2 in /usr/local/lib/python3.9/dist-packages (from requests->torchdata) (4.0.0)\n",
            "Requirement already satisfied: certifi>=2017.4.17 in /usr/local/lib/python3.9/dist-packages (from requests->torchdata) (2022.12.7)\n"
          ]
        }
      ]
    },
    {
      "cell_type": "code",
      "execution_count": 3,
      "metadata": {
        "colab": {
          "base_uri": "https://localhost:8080/"
        },
        "id": "PX97NI3nXLbA",
        "outputId": "39b069c6-86b3-4f03-cced-af79dc88392b"
      },
      "outputs": [
        {
          "output_type": "stream",
          "name": "stdout",
          "text": [
            "cuda\n"
          ]
        }
      ],
      "source": [
        "import torch, torchdata, torchtext\n",
        "from torch import nn\n",
        "import torch.nn.functional as F\n",
        "from pythainlp.tokenize import word_tokenize\n",
        "import random, math, time\n",
        "from datasets import load_dataset\n",
        "\n",
        "device = torch.device('cuda' if torch.cuda.is_available() else 'cpu')\n",
        "print(device)\n",
        "\n",
        "#make our work comparable if restarted the kernel\n",
        "SEED = 1234\n",
        "torch.manual_seed(SEED)\n",
        "torch.backends.cudnn.deterministic = True"
      ]
    },
    {
      "cell_type": "code",
      "execution_count": 4,
      "metadata": {
        "colab": {
          "base_uri": "https://localhost:8080/",
          "height": 35
        },
        "id": "eNLZEcbWXLbB",
        "outputId": "4f2f3fb4-a30d-4261-9bb4-452e62826269"
      },
      "outputs": [
        {
          "output_type": "execute_result",
          "data": {
            "text/plain": [
              "'Tesla T4'"
            ],
            "application/vnd.google.colaboratory.intrinsic+json": {
              "type": "string"
            }
          },
          "metadata": {},
          "execution_count": 4
        }
      ],
      "source": [
        "torch.cuda.get_device_name(0)"
      ]
    },
    {
      "cell_type": "code",
      "execution_count": 5,
      "metadata": {
        "colab": {
          "base_uri": "https://localhost:8080/",
          "height": 35
        },
        "id": "D5ib4CLFXLbC",
        "outputId": "12256ce0-d0fa-4c92-eba2-864c76a5c5be"
      },
      "outputs": [
        {
          "output_type": "execute_result",
          "data": {
            "text/plain": [
              "'1.13.1+cu116'"
            ],
            "application/vnd.google.colaboratory.intrinsic+json": {
              "type": "string"
            }
          },
          "metadata": {},
          "execution_count": 5
        }
      ],
      "source": [
        "torch.__version__"
      ]
    },
    {
      "cell_type": "code",
      "execution_count": 6,
      "metadata": {
        "colab": {
          "base_uri": "https://localhost:8080/",
          "height": 35
        },
        "id": "bVOgGJ0bXLbC",
        "outputId": "9ce33817-213f-408e-b285-dc5bc5290f74"
      },
      "outputs": [
        {
          "output_type": "execute_result",
          "data": {
            "text/plain": [
              "'0.14.1'"
            ],
            "application/vnd.google.colaboratory.intrinsic+json": {
              "type": "string"
            }
          },
          "metadata": {},
          "execution_count": 6
        }
      ],
      "source": [
        "torchtext.__version__"
      ]
    },
    {
      "cell_type": "markdown",
      "metadata": {
        "jp-MarkdownHeadingCollapsed": true,
        "tags": [],
        "id": "xVxGB7rQXLbC"
      },
      "source": [
        "## 1. ETL: Loading the dataset\n",
        "\n",
        "**Note**: Here I chose to translate English to German, simply it is easier for myself, since I don't understand German so it is difficult for me to imagine a sentence during inference."
      ]
    },
    {
      "cell_type": "code",
      "execution_count": 7,
      "metadata": {
        "colab": {
          "base_uri": "https://localhost:8080/",
          "height": 67,
          "referenced_widgets": [
            "e817a4d26e99433294eee61ae17b7d85",
            "8cee5dce98a8431ca2ab2f5aa162c33d",
            "d07d554fd7d94f438c106f7c790aea22",
            "b943630aca8c4ad3a2754ce393a2a516",
            "700ada48b3924686966bdff03ed63533",
            "4d3e09fbad3f4ec2b5f50194e0cf6804",
            "30f0a84104274d6284f8761bac37e1bc",
            "80a4dbff84d1430ebc0fcd5ec4ae5e7b",
            "e4d96ee06fe74419a6885569886aa9e9",
            "5d250f9e81314f6ab6954fedba4f5772",
            "4a71e2f8db774d599f11f427802b2f96"
          ]
        },
        "id": "Ev9KwJv6XLbD",
        "outputId": "164ef105-d714-4026-8206-6d5be4195412"
      },
      "outputs": [
        {
          "output_type": "stream",
          "name": "stderr",
          "text": [
            "WARNING:datasets.builder:Found cached dataset thaisum (/root/.cache/huggingface/datasets/thaisum/thaisum/1.0.0/347b33c852af4d796e1224e00e15142d626608a9fa3e07ad6d19dfd8fcae5423)\n"
          ]
        },
        {
          "output_type": "display_data",
          "data": {
            "text/plain": [
              "  0%|          | 0/3 [00:00<?, ?it/s]"
            ],
            "application/vnd.jupyter.widget-view+json": {
              "version_major": 2,
              "version_minor": 0,
              "model_id": "e817a4d26e99433294eee61ae17b7d85"
            }
          },
          "metadata": {}
        }
      ],
      "source": [
        "ds = load_dataset(\"thaisum\")"
      ]
    },
    {
      "cell_type": "code",
      "source": [
        "ds"
      ],
      "metadata": {
        "colab": {
          "base_uri": "https://localhost:8080/"
        },
        "id": "IRYEaC15ChX7",
        "outputId": "d6ea739d-dbab-4984-d345-03c19087e49b"
      },
      "execution_count": 8,
      "outputs": [
        {
          "output_type": "execute_result",
          "data": {
            "text/plain": [
              "DatasetDict({\n",
              "    train: Dataset({\n",
              "        features: ['title', 'body', 'summary', 'type', 'tags', 'url'],\n",
              "        num_rows: 358868\n",
              "    })\n",
              "    validation: Dataset({\n",
              "        features: ['title', 'body', 'summary', 'type', 'tags', 'url'],\n",
              "        num_rows: 11000\n",
              "    })\n",
              "    test: Dataset({\n",
              "        features: ['title', 'body', 'summary', 'type', 'tags', 'url'],\n",
              "        num_rows: 11000\n",
              "    })\n",
              "})"
            ]
          },
          "metadata": {},
          "execution_count": 8
        }
      ]
    },
    {
      "cell_type": "code",
      "source": [
        "from sklearn.model_selection import train_test_split\n"
      ],
      "metadata": {
        "id": "eCLPZCwRgZjQ"
      },
      "execution_count": 9,
      "outputs": []
    },
    {
      "cell_type": "code",
      "source": [
        "from torchtext.vocab import build_vocab_from_iterator"
      ],
      "metadata": {
        "id": "bGbvpqNCgbhD"
      },
      "execution_count": 10,
      "outputs": []
    },
    {
      "cell_type": "code",
      "execution_count": 11,
      "metadata": {
        "colab": {
          "base_uri": "https://localhost:8080/",
          "height": 35
        },
        "id": "zkWKHqiGXLbD",
        "outputId": "5ac94543-9787-426e-cc54-94ea7dd2ed73"
      },
      "outputs": [
        {
          "output_type": "execute_result",
          "data": {
            "text/plain": [
              "'วิษณุ ยันโรดแม็ปตามขั้นตอนเดิม เชื่อ สนช.หยุดพูดขยับเลือกตั้ง ปัดวิจารณ์ ยึดตามกรอบเวลา ย้ำเริ่มนับโรดแม็ปเมื่อ รธน.ประกาศใช้'"
            ],
            "application/vnd.google.colaboratory.intrinsic+json": {
              "type": "string"
            }
          },
          "metadata": {},
          "execution_count": 11
        }
      ],
      "source": [
        "ds[\"train\"][0]['summary']"
      ]
    },
    {
      "cell_type": "code",
      "source": [
        "datasetss = ds[\"train\"]['summary'][:20000]"
      ],
      "metadata": {
        "id": "9HPb-gIIicZE"
      },
      "execution_count": 12,
      "outputs": []
    },
    {
      "cell_type": "code",
      "source": [
        "train = ds[\"train\"]['summary'][:16000]\n",
        "valid = ds[\"train\"]['summary'][len(train):18000]\n",
        "test = ds[\"train\"]['summary'][18000:20000]"
      ],
      "metadata": {
        "id": "Dv2k5TAlf_dq"
      },
      "execution_count": 13,
      "outputs": []
    },
    {
      "cell_type": "code",
      "source": [
        "def yeild_token(data_iter) :\n",
        "  for aa in data_iter :\n",
        "    yield word_tokenize(aa)"
      ],
      "metadata": {
        "id": "zGO8GKSGe99P"
      },
      "execution_count": 14,
      "outputs": []
    },
    {
      "cell_type": "code",
      "source": [
        "tokenized_dataset_train = yeild_token(train)\n",
        "tokenized_dataset_val = yeild_token(valid)\n",
        "tokenized_dataset_test = yeild_token(test)"
      ],
      "metadata": {
        "id": "JYKw1ncBfvTT"
      },
      "execution_count": 15,
      "outputs": []
    },
    {
      "cell_type": "code",
      "source": [
        "# Define special symbols and indices\n",
        "UNK_IDX, PAD_IDX, SOS_IDX, EOS_IDX = 0, 1, 2, 3\n",
        "# Make sure the tokens are in order of their indices to properly insert them in vocab\n",
        "special_symbols = ['<unk>', '<pad>', '<sos>', '<eos>']"
      ],
      "metadata": {
        "id": "JoU4PiewhuMs"
      },
      "execution_count": 16,
      "outputs": []
    },
    {
      "cell_type": "code",
      "source": [
        "vocab_transform = build_vocab_from_iterator(yeild_token(datasetss), \n",
        "                                  min_freq=5,\n",
        "                                  specials=special_symbols,\n",
        "                                  special_first=True)\n",
        "        \n",
        "vocab_transform.set_default_index(UNK_IDX)   \n",
        "print(len(vocab_transform))                         \n",
        "print(vocab_transform.get_itos()[:25])"
      ],
      "metadata": {
        "colab": {
          "base_uri": "https://localhost:8080/"
        },
        "id": "_-0iUzqZisBl",
        "outputId": "2d4900e0-e186-409e-8a94-3409a589ca0f"
      },
      "execution_count": 17,
      "outputs": [
        {
          "output_type": "stream",
          "name": "stdout",
          "text": [
            "11254\n",
            "['<unk>', '<pad>', '<sos>', '<eos>', ' ', 'ที่', 'ใน', 'ไม่', 'และ', 'ของ', 'มี', 'การ', 'ให้', 'เป็น', 'ได้', '-', 'ไป', 'จาก', 'ว่า', 'จะ', 'มา', 'คน', 'ไทย', 'กับ', 'ปี']\n"
          ]
        }
      ]
    },
    {
      "cell_type": "code",
      "source": [
        "vocab_transform"
      ],
      "metadata": {
        "colab": {
          "base_uri": "https://localhost:8080/"
        },
        "id": "J0h6eoLzrL0J",
        "outputId": "5788b5be-3e1a-43c8-9aa9-27a7e9f9b336"
      },
      "execution_count": 18,
      "outputs": [
        {
          "output_type": "execute_result",
          "data": {
            "text/plain": [
              "Vocab()"
            ]
          },
          "metadata": {},
          "execution_count": 18
        }
      ]
    },
    {
      "cell_type": "code",
      "source": [
        "from torch.utils.data   import DataLoader\n",
        "from torch.nn.utils.rnn import pad_sequence\n",
        "\n",
        "pad_idx = vocab_transform['<pad>'] \n",
        "text_pipeline = lambda word: vocab_transform(word_tokenize(word))\n",
        "\n",
        "def collate_batch(batch):\n",
        "    text_list = []\n",
        "    for _text in batch:\n",
        "        processed_text = torch.tensor(text_pipeline(_text), dtype=torch.int64)\n",
        "        text_list.append(processed_text)\n",
        "    return pad_sequence(text_list, padding_value=pad_idx, batch_first=True)"
      ],
      "metadata": {
        "id": "I94PMkZZjmzJ"
      },
      "execution_count": 19,
      "outputs": []
    },
    {
      "cell_type": "code",
      "source": [
        "batch_size = 4\n",
        "\n",
        "train_loader = DataLoader(train, batch_size=batch_size,\n",
        "                              shuffle=True, collate_fn=collate_batch)\n",
        "valid_loader = DataLoader(valid, batch_size=batch_size,\n",
        "                              shuffle=True, collate_fn=collate_batch)\n",
        "test_loader  = DataLoader(test, batch_size=batch_size,\n",
        "                             shuffle=True, collate_fn=collate_batch)"
      ],
      "metadata": {
        "id": "kzuzWxSsknn8"
      },
      "execution_count": 20,
      "outputs": []
    },
    {
      "cell_type": "code",
      "source": [
        "next(iter(test_loader))"
      ],
      "metadata": {
        "colab": {
          "base_uri": "https://localhost:8080/"
        },
        "id": "wj5O_htEkwIQ",
        "outputId": "01a7a9ad-2472-4f81-d16f-8299c9a8b131"
      },
      "execution_count": 21,
      "outputs": [
        {
          "output_type": "execute_result",
          "data": {
            "text/plain": [
              "tensor([[ 1606,   108,  2312,  9678,  1435,     4,     0,     4,  3517,   412,\n",
              "           450,  1703,     4,   841,  5004,     4,   959,  1873,   744,     0,\n",
              "           999,  1370,  2634,  1125,  7191,    15, 10891,     4,    49,  2269,\n",
              "          1962,     4,  1780,     4,    82,     4,   363,    55,     4,    69,\n",
              "             4,   405,     4,     8,  3337,  4533,   473,     4,    27,     4,\n",
              "           133,     4],\n",
              "        [ 1800,   654,    82,     4,     0,     4,    83,   905,     8,     0,\n",
              "            15,   875,     0,     5,    37,    58,    16,   194,  2079,    49,\n",
              "          2364,  7080,     4,  7842,   292,     4,     1,     1,     1,     1,\n",
              "             1,     1,     1,     1,     1,     1,     1,     1,     1,     1,\n",
              "             1,     1,     1,     1,     1,     1,     1,     1,     1,     1,\n",
              "             1,     1],\n",
              "        [  309,     7,  1475,   217,     4,   108,   952,  1481,  7276,     9,\n",
              "          2745,     4,   908,    16,    13,  9812,     5,  1402,     4,   186,\n",
              "             7,   289,  9288,     4,    32,   266,  3069,   173,  1782,     4,\n",
              "            49,    42,     0,   335,   183,    22,     1,     1,     1,     1,\n",
              "             1,     1,     1,     1,     1,     1,     1,     1,     1,     1,\n",
              "             1,     1],\n",
              "        [ 3725,     4,  5751,   752,     4,  2307,     4,    27,     4,   716,\n",
              "             4,   204,     4,  4161,     4,   474,  1922,  2915,   156,     4,\n",
              "           248,    20,  8511,     4,  4781,   947,   965,     4,   412,   812,\n",
              "           407,     4,   365,    77,     4,    27,    15,   465,     4,   256,\n",
              "          2194,  3827,  1594,  2885,     1,     1,     1,     1,     1,     1,\n",
              "             1,     1]])"
            ]
          },
          "metadata": {},
          "execution_count": 21
        }
      ]
    },
    {
      "cell_type": "markdown",
      "metadata": {
        "id": "tvEzqHnEXLbN"
      },
      "source": [
        "## 5. Design the model\n"
      ]
    },
    {
      "cell_type": "markdown",
      "metadata": {
        "id": "eGYjrr5GXLbP"
      },
      "source": [
        "### Mutli Head Attention Layer\n",
        "\n",
        "$$ \\text{Attention}(Q, K, V) = \\text{Softmax} \\big( \\frac{QK^T}{\\sqrt{d_k}} \\big)V $$ \n",
        "\n",
        "This is similar to standard *dot product attention* but is scaled by $d_k$, which the paper states is used to stop the results of the dot products growing large, causing gradients to become too small.\n",
        "\n",
        "$$ \\text{MultiHead}(Q, K, V) = \\text{Concat}(\\text{head}_1,...,\\text{head}_h)W^O $$\n",
        "\n",
        "$$\\text{head}_i = \\text{Attention}(QW_i^Q, KW_i^K, VW_i^V) $$\n",
        "\n",
        "$W^O$ is the linear layer applied at the end of the multi-head attention layer, `fc`. $W^Q, W^K, W^V$ are the linear layers `fc_q`, `fc_k` and `fc_v`."
      ]
    },
    {
      "cell_type": "code",
      "execution_count": 22,
      "metadata": {
        "id": "35Xxamz0XLbP"
      },
      "outputs": [],
      "source": [
        "class MultiHeadAttentionLayer(nn.Module):\n",
        "    def __init__(self, hid_dim, n_heads, dropout, device):\n",
        "        super().__init__()\n",
        "        self.hid_dim = hid_dim\n",
        "        self.n_heads = n_heads\n",
        "        self.head_dim = hid_dim // n_heads #make sure it's divisible....\n",
        "\n",
        "        self.fc_q = nn.Linear(hid_dim,hid_dim) \n",
        "        self.fc_k = nn.Linear(hid_dim,hid_dim) \n",
        "        self.fc_v = nn.Linear(hid_dim,hid_dim) \n",
        "\n",
        "        self.fc = nn.Linear(hid_dim, hid_dim)\n",
        "\n",
        "        self.dropout = nn.Dropout(dropout)\n",
        "        self.scale = torch.sqrt(torch.FloatTensor([self.head_dim])).to(device)\n",
        "\n",
        "    def forward(self, q, k, v, mask = None):\n",
        "        batch_size = q.shape[0]\n",
        "        \n",
        "        Q = self.fc_q(q)\n",
        "        K = self.fc_k(k)\n",
        "        V = self.fc_v(v)\n",
        "        \n",
        "        #Q, K, V = [b, l, h]\n",
        "        #reshape them into head_dim\n",
        "        #reshape them to [b, n_headm, l, head_dim]\n",
        "\n",
        "        Q = Q.view(batch_size, -1, self.n_heads, self.head_dim).permute(0,2,1,3)\n",
        "        K = K.view(batch_size, -1, self.n_heads, self.head_dim).permute(0,2,1,3)\n",
        "        V = V.view(batch_size, -1, self.n_heads, self.head_dim).permute(0,2,1,3)\n",
        "        #Q, K, V = [b, m_head, l, head_dim]\n",
        "\n",
        "        #e = QK/sqrt(dk)\n",
        "        e =  torch.matmul(Q, K.permute(0,1,3,2)) / self.scale\n",
        "        #e = [b, n_heads, ql, kl]\n",
        "        \n",
        "        # torch.Size([64, 8, 50, 50])\n",
        "        # torch.Size([64, 1, 1, 50, 256])\n",
        "\n",
        "        if mask is not None:\n",
        "            e = e.masked_fill(mask == 0, -1e10)\n",
        "\n",
        "        a = torch.softmax(e, dim=-1)\n",
        "        #a = [batch size, n_heads, ql, kl]\n",
        "                    \n",
        "        #eV\n",
        "        x = torch.matmul(self.dropout(a),V)\n",
        "        #x : [b, n_heads, ql, head_di]\n",
        "\n",
        "        x = x.permute(0, 2, 1, 3).contiguous()\n",
        "        #x: [b, ql, n_heads, head_dim]\n",
        "\n",
        "        #concat them together\n",
        "        x = x.view(batch_size, -1, self.hid_dim)\n",
        "        #x = [b, ql, h]\n",
        "\n",
        "        x = self.fc(x)\n",
        "        #x = [b, ql, h]\n",
        "\n",
        "        return x, a"
      ]
    },
    {
      "cell_type": "markdown",
      "metadata": {
        "id": "hPjvLkyJXLbP"
      },
      "source": [
        "### Position-wise Feedforward Layer"
      ]
    },
    {
      "cell_type": "code",
      "execution_count": 23,
      "metadata": {
        "id": "sLu-_YwnXLbP"
      },
      "outputs": [],
      "source": [
        "class PositionwiseFeedforwardLayer(nn.Module):\n",
        "    \n",
        "    def __init__(self, hid_dim, pf_dim, dropout):\n",
        "        super().__init__()\n",
        "        self.fc1 = nn.Linear(hid_dim, pf_dim)\n",
        "        self.fc2 = nn.Linear(pf_dim, hid_dim)\n",
        "        self.dropout = nn.Dropout(dropout)\n",
        "        \n",
        "    def forward(self, x):\n",
        "        return self.fc2(self.dropout(torch.relu(self.fc1(x))))"
      ]
    },
    {
      "cell_type": "markdown",
      "metadata": {
        "tags": [],
        "id": "n1c_2EhVXLbQ"
      },
      "source": [
        "### Decoder"
      ]
    },
    {
      "cell_type": "code",
      "execution_count": 24,
      "metadata": {
        "id": "HyOI1pr7XLbQ"
      },
      "outputs": [],
      "source": [
        "class DecoderLayer(nn.Module):\n",
        "    def __init__(self, hid_dim, n_heads, pf_dim, dropout, device):\n",
        "        super().__init__()\n",
        "\n",
        "        self.norm_ff = nn.LayerNorm(hid_dim) #second yellow box\n",
        "        self.norm_maskedatt = nn.LayerNorm(hid_dim) #first red box\n",
        "        \n",
        "        self.self_attention = MultiHeadAttentionLayer(hid_dim, n_heads, dropout, device)\n",
        "        self.ff = PositionwiseFeedforwardLayer(hid_dim, pf_dim, dropout)\n",
        "        self.dropout = nn.Dropout(dropout)\n",
        "        \n",
        "    def forward(self, trg, trg_mask):\n",
        "        #trg      : [b, l, h]\n",
        "        #enc_src  : [b, sl, h]\n",
        "        #trg_mask : [b, 1, tl, tl]\n",
        "        #src_mask : [b, 1, 1, sl]\n",
        "\n",
        "        #1st box : mask multi, add & norm\n",
        "        _trg, attention = self.self_attention(trg, trg, trg, trg_mask) #Q, K, V\n",
        "        _trg    = self.dropout(_trg)\n",
        "        _trg    = trg + _trg\n",
        "        trg     = self.norm_maskedatt(_trg)\n",
        "\n",
        "        #2rd box : ff, add & norm\n",
        "        _trg    = self.ff(trg)\n",
        "        _trg    = self.dropout(_trg)\n",
        "        _trg    = trg + _trg\n",
        "        trg     = self.norm_ff(_trg)\n",
        "\n",
        "        return trg, attention"
      ]
    },
    {
      "cell_type": "markdown",
      "metadata": {
        "id": "lL9IDr-tXLbQ"
      },
      "source": [
        "### Decoder Layer\n",
        "\n",
        "<img src = \"../figures/transformer-decoder.png\" >\n"
      ]
    },
    {
      "cell_type": "code",
      "execution_count": 25,
      "metadata": {
        "id": "WYerb8xgXLbQ"
      },
      "outputs": [],
      "source": [
        "class Decoder(nn.Module):\n",
        "    def __init__(self, output_dim, hid_dim, n_layers, n_heads,\n",
        "                 pf_dim, dropout, device, src_pad_idx,trg_pad_idx, max_length = 100):\n",
        "        super().__init__()\n",
        "        self.pos_emb = nn.Embedding(max_length, hid_dim)\n",
        "        self.trg_emb = nn.Embedding(output_dim, hid_dim)\n",
        "        self.scale = torch.sqrt(torch.FloatTensor([hid_dim])).to(device)\n",
        "        self.dropout = nn.Dropout(dropout)\n",
        "        self.layers = nn.ModuleList(\n",
        "                            [\n",
        "                            DecoderLayer(hid_dim, n_heads, pf_dim, dropout, device)\n",
        "                            for _ in range(n_layers)\n",
        "                            ]\n",
        "                            )\n",
        "        self.fc = nn.Linear(hid_dim, output_dim)\n",
        "        self.device = device\n",
        "        \n",
        "        self.src_pad_idx = src_pad_idx\n",
        "        self.trg_pad_idx = trg_pad_idx\n",
        "\n",
        "    def make_src_mask(self, src):\n",
        "        #src = [batch size, src len]\n",
        "        src_mask = (src != self.src_pad_idx).unsqueeze(1).unsqueeze(2)\n",
        "        #src_mask = [batch size, 1, 1, src len]\n",
        "        return src_mask\n",
        "    \n",
        "    def make_trg_mask(self, trg):\n",
        "        trg_mask = (trg != self.trg_pad_idx).unsqueeze(1).unsqueeze(2)\n",
        "        #trg_mask : [batch size, 1, 1, trg len]\n",
        "        \n",
        "        trg_len = trg_mask.shape[-1]\n",
        "        \n",
        "        trg_sub_mask = torch.tril(torch.ones((trg_len, trg_len), device =self.device)).bool() #lower triangle\n",
        "        #trg_sub_mask = [trg len, trg len]\n",
        "        trg_mask = trg_mask & trg_sub_mask \n",
        "        #trg_mask : [batch size, 1, trg len, trg len]\n",
        "        return trg_mask     \n",
        "    def decode(self, trg, method='beam-search'):\n",
        "        \n",
        "        \n",
        "        if method == 'beam-search':\n",
        "            return self.beam_decode(trg)\n",
        "        else:\n",
        "            return self.greedy_decode(trg)     \n",
        "    def greedy_decode(self, trg): # Get the best prop? maybe\n",
        "        \n",
        "        prediction= self.forward(trg)\n",
        "        prediction = prediction.squeeze(0)\n",
        "        prediction = prediction.argmax(1) \n",
        "\n",
        "        return prediction\n",
        "    def forward(self, x):\n",
        "        #src : = [batch size, trg len]\n",
        "        #enc_src : hidden state from encoder = [batch size, src len, hid dim]\n",
        "        #trg_mask = [batch size, 1, trg len, trg len]\n",
        "        #src_mask = [batch size, 1, 1, src len]\n",
        "\n",
        "        batch_size = x.shape[0]\n",
        "        trg_len = x.shape[1]\n",
        "        \n",
        "        src_mask = self.make_trg_mask(x)\n",
        "\n",
        "        #pos\n",
        "        pos = torch.arange(0,trg_len).unsqueeze(0).repeat(batch_size, 1).to(self.device)\n",
        "        #pos = [batch size, trg len]\n",
        "\n",
        "        pos_emb = self.pos_emb(pos) #[batch size, trg len, hid dim]\n",
        "        trg_emb = self.trg_emb(x) #[batch size, trg len, hid dim]\n",
        "\n",
        "        x = pos_emb + trg_emb * self.scale #[batch size, trg len, hid dim]\n",
        "        x = self.dropout(x)\n",
        "        \n",
        "        for layer in self.layers: #output, hidden\n",
        "            trg, attention = layer(x, src_mask)\n",
        "        #trg = [batch size, trg len, hid dim]\n",
        "        #attention = [batch size, n heads, trg len, src len]\n",
        "\n",
        "        output = self.fc(trg)\n",
        "        #output = [batch size, trg len, output dim]\n",
        "\n",
        "        return output, attention"
      ]
    },
    {
      "cell_type": "code",
      "execution_count": 26,
      "metadata": {
        "id": "EsrwMeGXXLbR"
      },
      "outputs": [],
      "source": [
        "class DecoderLayer(nn.Module):\n",
        "    def __init__(self, hid_dim, n_heads, pf_dim, dropout, device):\n",
        "        super().__init__()\n",
        "\n",
        "        self.norm_ff = nn.LayerNorm(hid_dim) #second yellow box\n",
        "        self.norm_maskedatt = nn.LayerNorm(hid_dim) #first red box\n",
        "        \n",
        "        self.self_attention = MultiHeadAttentionLayer(hid_dim, n_heads, dropout, device)\n",
        "        self.ff = PositionwiseFeedforwardLayer(hid_dim, pf_dim, dropout)\n",
        "        self.dropout = nn.Dropout(dropout)\n",
        "        \n",
        "    def forward(self, trg, trg_mask):\n",
        "        #trg      : [b, l, h]\n",
        "        #enc_src  : [b, sl, h]\n",
        "        #trg_mask : [b, 1, tl, tl]\n",
        "        #src_mask : [b, 1, 1, sl]\n",
        "\n",
        "        #1st box : mask multi, add & norm\n",
        "        _trg, attention = self.self_attention(trg, trg, trg, trg_mask) #Q, K, V\n",
        "        _trg    = self.dropout(_trg)\n",
        "        _trg    = trg + _trg\n",
        "        trg     = self.norm_maskedatt(_trg)\n",
        "\n",
        "        #2rd box : ff, add & norm\n",
        "        _trg    = self.ff(trg)\n",
        "        _trg    = self.dropout(_trg)\n",
        "        _trg    = trg + _trg\n",
        "        trg     = self.norm_ff(_trg)\n",
        "\n",
        "        return trg, attention"
      ]
    },
    {
      "cell_type": "code",
      "source": [
        "from google.colab import drive\n",
        "drive.mount('/content/drive')"
      ],
      "metadata": {
        "colab": {
          "base_uri": "https://localhost:8080/"
        },
        "id": "_PK_GbiL4ixv",
        "outputId": "f37c025b-d207-4200-dbc3-21cbc3df4bad"
      },
      "execution_count": 27,
      "outputs": [
        {
          "output_type": "stream",
          "name": "stdout",
          "text": [
            "Drive already mounted at /content/drive; to attempt to forcibly remount, call drive.mount(\"/content/drive\", force_remount=True).\n"
          ]
        }
      ]
    },
    {
      "cell_type": "code",
      "source": [
        "class BeamSearchNode(object):\n",
        "    def __init__(self, hiddenstate, previousNode, wordId, logProb, length):\n",
        "        self.h        = hiddenstate  #define the hidden state\n",
        "        self.prevNode = previousNode  #where does it come from\n",
        "        self.wordid   = wordId  #the numericalized integer of the word\n",
        "        self.logp     = logProb  #the log probability\n",
        "        self.len      = length  #the current length; first word starts at 1\n",
        "\n",
        "    def eval(self, alpha=0.7):\n",
        "        # the score will be simply the log probability penaltized by the length \n",
        "        # we add some small number to avoid division error\n",
        "        # read https://arxiv.org/abs/1808.10006 to understand how alpha is selected\n",
        "        return self.logp / float(self.len + 1e-6) ** (alpha)\n",
        "    \n",
        "    #this is the function for comparing between two beamsearchnodes, whether which one is better\n",
        "    #it is called when you called \"put\"\n",
        "    def __lt__(self, other):\n",
        "        return self.len < other.len\n",
        "\n",
        "    def __gt__(self, other):\n",
        "        return self.len > other.len"
      ],
      "metadata": {
        "id": "GhEKt0IRmUvs"
      },
      "execution_count": 28,
      "outputs": []
    },
    {
      "cell_type": "code",
      "source": [
        "def initialize_weights(m):\n",
        "    if hasattr(m, 'weight') and m.weight.dim() > 1:\n",
        "        nn.init.xavier_uniform_(m.weight.data)"
      ],
      "metadata": {
        "id": "D-Eo09FzmZFo"
      },
      "execution_count": 29,
      "outputs": []
    },
    {
      "cell_type": "code",
      "source": [
        "output_dim  = len(vocab_transform)\n",
        "hid_dim = 256\n",
        "dec_layers = 12\n",
        "dec_heads = 8\n",
        "dec_pf_dim = 512\n",
        "dec_dropout = 0.1\n",
        "\n",
        "SRC_PAD_IDX = PAD_IDX\n",
        "TRG_PAD_IDX = PAD_IDX\n",
        "\n",
        "model = Decoder(output_dim, \n",
        "              hid_dim, \n",
        "              dec_layers, \n",
        "              dec_heads, \n",
        "              dec_pf_dim, \n",
        "              dec_dropout, \n",
        "              device,SRC_PAD_IDX,TRG_PAD_IDX).to(device)\n",
        "model.apply(initialize_weights)"
      ],
      "metadata": {
        "colab": {
          "base_uri": "https://localhost:8080/"
        },
        "id": "iDhksrDTmczX",
        "outputId": "857653c3-bad5-4ce1-b443-03a09827a756"
      },
      "execution_count": 30,
      "outputs": [
        {
          "output_type": "execute_result",
          "data": {
            "text/plain": [
              "Decoder(\n",
              "  (pos_emb): Embedding(100, 256)\n",
              "  (trg_emb): Embedding(11254, 256)\n",
              "  (dropout): Dropout(p=0.1, inplace=False)\n",
              "  (layers): ModuleList(\n",
              "    (0): DecoderLayer(\n",
              "      (norm_ff): LayerNorm((256,), eps=1e-05, elementwise_affine=True)\n",
              "      (norm_maskedatt): LayerNorm((256,), eps=1e-05, elementwise_affine=True)\n",
              "      (self_attention): MultiHeadAttentionLayer(\n",
              "        (fc_q): Linear(in_features=256, out_features=256, bias=True)\n",
              "        (fc_k): Linear(in_features=256, out_features=256, bias=True)\n",
              "        (fc_v): Linear(in_features=256, out_features=256, bias=True)\n",
              "        (fc): Linear(in_features=256, out_features=256, bias=True)\n",
              "        (dropout): Dropout(p=0.1, inplace=False)\n",
              "      )\n",
              "      (ff): PositionwiseFeedforwardLayer(\n",
              "        (fc1): Linear(in_features=256, out_features=512, bias=True)\n",
              "        (fc2): Linear(in_features=512, out_features=256, bias=True)\n",
              "        (dropout): Dropout(p=0.1, inplace=False)\n",
              "      )\n",
              "      (dropout): Dropout(p=0.1, inplace=False)\n",
              "    )\n",
              "    (1): DecoderLayer(\n",
              "      (norm_ff): LayerNorm((256,), eps=1e-05, elementwise_affine=True)\n",
              "      (norm_maskedatt): LayerNorm((256,), eps=1e-05, elementwise_affine=True)\n",
              "      (self_attention): MultiHeadAttentionLayer(\n",
              "        (fc_q): Linear(in_features=256, out_features=256, bias=True)\n",
              "        (fc_k): Linear(in_features=256, out_features=256, bias=True)\n",
              "        (fc_v): Linear(in_features=256, out_features=256, bias=True)\n",
              "        (fc): Linear(in_features=256, out_features=256, bias=True)\n",
              "        (dropout): Dropout(p=0.1, inplace=False)\n",
              "      )\n",
              "      (ff): PositionwiseFeedforwardLayer(\n",
              "        (fc1): Linear(in_features=256, out_features=512, bias=True)\n",
              "        (fc2): Linear(in_features=512, out_features=256, bias=True)\n",
              "        (dropout): Dropout(p=0.1, inplace=False)\n",
              "      )\n",
              "      (dropout): Dropout(p=0.1, inplace=False)\n",
              "    )\n",
              "    (2): DecoderLayer(\n",
              "      (norm_ff): LayerNorm((256,), eps=1e-05, elementwise_affine=True)\n",
              "      (norm_maskedatt): LayerNorm((256,), eps=1e-05, elementwise_affine=True)\n",
              "      (self_attention): MultiHeadAttentionLayer(\n",
              "        (fc_q): Linear(in_features=256, out_features=256, bias=True)\n",
              "        (fc_k): Linear(in_features=256, out_features=256, bias=True)\n",
              "        (fc_v): Linear(in_features=256, out_features=256, bias=True)\n",
              "        (fc): Linear(in_features=256, out_features=256, bias=True)\n",
              "        (dropout): Dropout(p=0.1, inplace=False)\n",
              "      )\n",
              "      (ff): PositionwiseFeedforwardLayer(\n",
              "        (fc1): Linear(in_features=256, out_features=512, bias=True)\n",
              "        (fc2): Linear(in_features=512, out_features=256, bias=True)\n",
              "        (dropout): Dropout(p=0.1, inplace=False)\n",
              "      )\n",
              "      (dropout): Dropout(p=0.1, inplace=False)\n",
              "    )\n",
              "    (3): DecoderLayer(\n",
              "      (norm_ff): LayerNorm((256,), eps=1e-05, elementwise_affine=True)\n",
              "      (norm_maskedatt): LayerNorm((256,), eps=1e-05, elementwise_affine=True)\n",
              "      (self_attention): MultiHeadAttentionLayer(\n",
              "        (fc_q): Linear(in_features=256, out_features=256, bias=True)\n",
              "        (fc_k): Linear(in_features=256, out_features=256, bias=True)\n",
              "        (fc_v): Linear(in_features=256, out_features=256, bias=True)\n",
              "        (fc): Linear(in_features=256, out_features=256, bias=True)\n",
              "        (dropout): Dropout(p=0.1, inplace=False)\n",
              "      )\n",
              "      (ff): PositionwiseFeedforwardLayer(\n",
              "        (fc1): Linear(in_features=256, out_features=512, bias=True)\n",
              "        (fc2): Linear(in_features=512, out_features=256, bias=True)\n",
              "        (dropout): Dropout(p=0.1, inplace=False)\n",
              "      )\n",
              "      (dropout): Dropout(p=0.1, inplace=False)\n",
              "    )\n",
              "    (4): DecoderLayer(\n",
              "      (norm_ff): LayerNorm((256,), eps=1e-05, elementwise_affine=True)\n",
              "      (norm_maskedatt): LayerNorm((256,), eps=1e-05, elementwise_affine=True)\n",
              "      (self_attention): MultiHeadAttentionLayer(\n",
              "        (fc_q): Linear(in_features=256, out_features=256, bias=True)\n",
              "        (fc_k): Linear(in_features=256, out_features=256, bias=True)\n",
              "        (fc_v): Linear(in_features=256, out_features=256, bias=True)\n",
              "        (fc): Linear(in_features=256, out_features=256, bias=True)\n",
              "        (dropout): Dropout(p=0.1, inplace=False)\n",
              "      )\n",
              "      (ff): PositionwiseFeedforwardLayer(\n",
              "        (fc1): Linear(in_features=256, out_features=512, bias=True)\n",
              "        (fc2): Linear(in_features=512, out_features=256, bias=True)\n",
              "        (dropout): Dropout(p=0.1, inplace=False)\n",
              "      )\n",
              "      (dropout): Dropout(p=0.1, inplace=False)\n",
              "    )\n",
              "    (5): DecoderLayer(\n",
              "      (norm_ff): LayerNorm((256,), eps=1e-05, elementwise_affine=True)\n",
              "      (norm_maskedatt): LayerNorm((256,), eps=1e-05, elementwise_affine=True)\n",
              "      (self_attention): MultiHeadAttentionLayer(\n",
              "        (fc_q): Linear(in_features=256, out_features=256, bias=True)\n",
              "        (fc_k): Linear(in_features=256, out_features=256, bias=True)\n",
              "        (fc_v): Linear(in_features=256, out_features=256, bias=True)\n",
              "        (fc): Linear(in_features=256, out_features=256, bias=True)\n",
              "        (dropout): Dropout(p=0.1, inplace=False)\n",
              "      )\n",
              "      (ff): PositionwiseFeedforwardLayer(\n",
              "        (fc1): Linear(in_features=256, out_features=512, bias=True)\n",
              "        (fc2): Linear(in_features=512, out_features=256, bias=True)\n",
              "        (dropout): Dropout(p=0.1, inplace=False)\n",
              "      )\n",
              "      (dropout): Dropout(p=0.1, inplace=False)\n",
              "    )\n",
              "    (6): DecoderLayer(\n",
              "      (norm_ff): LayerNorm((256,), eps=1e-05, elementwise_affine=True)\n",
              "      (norm_maskedatt): LayerNorm((256,), eps=1e-05, elementwise_affine=True)\n",
              "      (self_attention): MultiHeadAttentionLayer(\n",
              "        (fc_q): Linear(in_features=256, out_features=256, bias=True)\n",
              "        (fc_k): Linear(in_features=256, out_features=256, bias=True)\n",
              "        (fc_v): Linear(in_features=256, out_features=256, bias=True)\n",
              "        (fc): Linear(in_features=256, out_features=256, bias=True)\n",
              "        (dropout): Dropout(p=0.1, inplace=False)\n",
              "      )\n",
              "      (ff): PositionwiseFeedforwardLayer(\n",
              "        (fc1): Linear(in_features=256, out_features=512, bias=True)\n",
              "        (fc2): Linear(in_features=512, out_features=256, bias=True)\n",
              "        (dropout): Dropout(p=0.1, inplace=False)\n",
              "      )\n",
              "      (dropout): Dropout(p=0.1, inplace=False)\n",
              "    )\n",
              "    (7): DecoderLayer(\n",
              "      (norm_ff): LayerNorm((256,), eps=1e-05, elementwise_affine=True)\n",
              "      (norm_maskedatt): LayerNorm((256,), eps=1e-05, elementwise_affine=True)\n",
              "      (self_attention): MultiHeadAttentionLayer(\n",
              "        (fc_q): Linear(in_features=256, out_features=256, bias=True)\n",
              "        (fc_k): Linear(in_features=256, out_features=256, bias=True)\n",
              "        (fc_v): Linear(in_features=256, out_features=256, bias=True)\n",
              "        (fc): Linear(in_features=256, out_features=256, bias=True)\n",
              "        (dropout): Dropout(p=0.1, inplace=False)\n",
              "      )\n",
              "      (ff): PositionwiseFeedforwardLayer(\n",
              "        (fc1): Linear(in_features=256, out_features=512, bias=True)\n",
              "        (fc2): Linear(in_features=512, out_features=256, bias=True)\n",
              "        (dropout): Dropout(p=0.1, inplace=False)\n",
              "      )\n",
              "      (dropout): Dropout(p=0.1, inplace=False)\n",
              "    )\n",
              "    (8): DecoderLayer(\n",
              "      (norm_ff): LayerNorm((256,), eps=1e-05, elementwise_affine=True)\n",
              "      (norm_maskedatt): LayerNorm((256,), eps=1e-05, elementwise_affine=True)\n",
              "      (self_attention): MultiHeadAttentionLayer(\n",
              "        (fc_q): Linear(in_features=256, out_features=256, bias=True)\n",
              "        (fc_k): Linear(in_features=256, out_features=256, bias=True)\n",
              "        (fc_v): Linear(in_features=256, out_features=256, bias=True)\n",
              "        (fc): Linear(in_features=256, out_features=256, bias=True)\n",
              "        (dropout): Dropout(p=0.1, inplace=False)\n",
              "      )\n",
              "      (ff): PositionwiseFeedforwardLayer(\n",
              "        (fc1): Linear(in_features=256, out_features=512, bias=True)\n",
              "        (fc2): Linear(in_features=512, out_features=256, bias=True)\n",
              "        (dropout): Dropout(p=0.1, inplace=False)\n",
              "      )\n",
              "      (dropout): Dropout(p=0.1, inplace=False)\n",
              "    )\n",
              "    (9): DecoderLayer(\n",
              "      (norm_ff): LayerNorm((256,), eps=1e-05, elementwise_affine=True)\n",
              "      (norm_maskedatt): LayerNorm((256,), eps=1e-05, elementwise_affine=True)\n",
              "      (self_attention): MultiHeadAttentionLayer(\n",
              "        (fc_q): Linear(in_features=256, out_features=256, bias=True)\n",
              "        (fc_k): Linear(in_features=256, out_features=256, bias=True)\n",
              "        (fc_v): Linear(in_features=256, out_features=256, bias=True)\n",
              "        (fc): Linear(in_features=256, out_features=256, bias=True)\n",
              "        (dropout): Dropout(p=0.1, inplace=False)\n",
              "      )\n",
              "      (ff): PositionwiseFeedforwardLayer(\n",
              "        (fc1): Linear(in_features=256, out_features=512, bias=True)\n",
              "        (fc2): Linear(in_features=512, out_features=256, bias=True)\n",
              "        (dropout): Dropout(p=0.1, inplace=False)\n",
              "      )\n",
              "      (dropout): Dropout(p=0.1, inplace=False)\n",
              "    )\n",
              "    (10): DecoderLayer(\n",
              "      (norm_ff): LayerNorm((256,), eps=1e-05, elementwise_affine=True)\n",
              "      (norm_maskedatt): LayerNorm((256,), eps=1e-05, elementwise_affine=True)\n",
              "      (self_attention): MultiHeadAttentionLayer(\n",
              "        (fc_q): Linear(in_features=256, out_features=256, bias=True)\n",
              "        (fc_k): Linear(in_features=256, out_features=256, bias=True)\n",
              "        (fc_v): Linear(in_features=256, out_features=256, bias=True)\n",
              "        (fc): Linear(in_features=256, out_features=256, bias=True)\n",
              "        (dropout): Dropout(p=0.1, inplace=False)\n",
              "      )\n",
              "      (ff): PositionwiseFeedforwardLayer(\n",
              "        (fc1): Linear(in_features=256, out_features=512, bias=True)\n",
              "        (fc2): Linear(in_features=512, out_features=256, bias=True)\n",
              "        (dropout): Dropout(p=0.1, inplace=False)\n",
              "      )\n",
              "      (dropout): Dropout(p=0.1, inplace=False)\n",
              "    )\n",
              "    (11): DecoderLayer(\n",
              "      (norm_ff): LayerNorm((256,), eps=1e-05, elementwise_affine=True)\n",
              "      (norm_maskedatt): LayerNorm((256,), eps=1e-05, elementwise_affine=True)\n",
              "      (self_attention): MultiHeadAttentionLayer(\n",
              "        (fc_q): Linear(in_features=256, out_features=256, bias=True)\n",
              "        (fc_k): Linear(in_features=256, out_features=256, bias=True)\n",
              "        (fc_v): Linear(in_features=256, out_features=256, bias=True)\n",
              "        (fc): Linear(in_features=256, out_features=256, bias=True)\n",
              "        (dropout): Dropout(p=0.1, inplace=False)\n",
              "      )\n",
              "      (ff): PositionwiseFeedforwardLayer(\n",
              "        (fc1): Linear(in_features=256, out_features=512, bias=True)\n",
              "        (fc2): Linear(in_features=512, out_features=256, bias=True)\n",
              "        (dropout): Dropout(p=0.1, inplace=False)\n",
              "      )\n",
              "      (dropout): Dropout(p=0.1, inplace=False)\n",
              "    )\n",
              "  )\n",
              "  (fc): Linear(in_features=256, out_features=11254, bias=True)\n",
              ")"
            ]
          },
          "metadata": {},
          "execution_count": 30
        }
      ]
    },
    {
      "cell_type": "code",
      "source": [
        "import torch.optim as optim\n",
        "\n",
        "lr = 0.001\n",
        "\n",
        "#training hyperparameters\n",
        "optimizer = optim.Adam(model.parameters(), lr=lr)\n",
        "criterion = nn.CrossEntropyLoss(ignore_index = PAD_IDX) #combine softmax with cross entropy\n",
        "num_params = sum(p.numel() for p in model.parameters() if p.requires_grad)\n",
        "print(f'The model has {num_params:,} trainable parameters')"
      ],
      "metadata": {
        "colab": {
          "base_uri": "https://localhost:8080/"
        },
        "id": "ZvcwWbA1mzPn",
        "outputId": "143a5c4a-f9f9-4b54-d591-8a232174714f"
      },
      "execution_count": 31,
      "outputs": [
        {
          "output_type": "stream",
          "name": "stdout",
          "text": [
            "The model has 12,124,150 trainable parameters\n"
          ]
        }
      ]
    },
    {
      "cell_type": "code",
      "source": [
        "def get_batch(data, seq_len, idx):\n",
        "    #this data is from get_data()\n",
        "    #train_data.shape # [batch_size, number of batches....]\n",
        "    src    = data[:, idx:idx+seq_len]                   \n",
        "    target = data[:, idx+1:idx+seq_len+1]  #target simply is ahead of src by 1            \n",
        "    return src, seq_len, target"
      ],
      "metadata": {
        "id": "k7X12ow2m20P"
      },
      "execution_count": 32,
      "outputs": []
    },
    {
      "cell_type": "code",
      "source": [
        "def train(model, loader, optimizer, criterion, clip, seq_len):\n",
        "    \n",
        "    model.train()\n",
        "    epoch_loss = 0\n",
        "    \n",
        "    # drop all batches that are not a multiple of seq_len\n",
        "    num_batches = loader.shape[-1]\n",
        "    loader = loader[:, :num_batches - (num_batches -1) % seq_len]\n",
        "    num_batches = loader.shape[-1]\n",
        "\n",
        "    # hidden = model.init_hidden(batch_size, device)\n",
        "    \n",
        "    for idx in tqdm(range(0, num_batches - 1, seq_len), desc='Training: ',leave=False):\n",
        "        optimizer.zero_grad()\n",
        "        # hidden = model.detach_hidden(hidden)\n",
        "\n",
        "        src, _, trg = get_batch(loader, seq_len, idx) #src, target: [batch size, seq len]\n",
        "        src, trg = src.to(device), trg.to(device)\n",
        "        batch_size = src.shape[0]\n",
        "        \n",
        "        output, attentions = model(src)\n",
        "\n",
        "        #trg    = [trg len, batch size]\n",
        "        #output = [trg len, batch size, output dim]\n",
        "        output = output.reshape(batch_size * seq_len, -1)  #prediction: [batch size * seq len, vocab size]  \n",
        "        trg = trg.reshape(-1)\n",
        "\n",
        "        loss = criterion(output, trg)\n",
        "        \n",
        "        loss.backward()\n",
        "        torch.nn.utils.clip_grad_norm_(model.parameters(), clip) #prevent gradient explosion - clip is basically \n",
        "        optimizer.step()\n",
        "        epoch_loss += loss.item() * seq_len\n",
        "    return epoch_loss / num_batches"
      ],
      "metadata": {
        "id": "Ck0c3GaWm5qj"
      },
      "execution_count": 33,
      "outputs": []
    },
    {
      "cell_type": "code",
      "source": [
        "type(vocab_transform)"
      ],
      "metadata": {
        "colab": {
          "base_uri": "https://localhost:8080/"
        },
        "id": "erbRJQrI4uxF",
        "outputId": "df7facd7-4551-491e-cf44-f51b67873e89"
      },
      "execution_count": 34,
      "outputs": [
        {
          "output_type": "execute_result",
          "data": {
            "text/plain": [
              "torchtext.vocab.vocab.Vocab"
            ]
          },
          "metadata": {},
          "execution_count": 34
        }
      ]
    },
    {
      "cell_type": "code",
      "source": [
        "def evaluate(model, data, criterion, batch_size, seq_len, device):\n",
        "\n",
        "    epoch_loss = 0\n",
        "    model.eval()\n",
        "    num_batches = data.shape[-1]\n",
        "    data = data[:, :num_batches - (num_batches -1) % seq_len]\n",
        "    num_batches = data.shape[-1]\n",
        "    decoded_batch_list = []\n",
        "    # hidden = model.init_hidden(batch_size, device)\n",
        "\n",
        "    with torch.no_grad():\n",
        "        for idx in range(0, num_batches - 1, seq_len):\n",
        "            # hidden = model.detach_hidden(hidden)\n",
        "            src, src_len, trg = get_batch(data, seq_len, idx)\n",
        "            src, trg = src.to(device), trg.to(device) #src,trg = batch_size,seq len\n",
        "            batch_size= src.shape[0]\n",
        "\n",
        "            #prediction, hidden = model(src, 0, target)\n",
        "            prediction, attention = model(src)\n",
        "            prediction = prediction.reshape(batch_size * seq_len, -1)\n",
        "            trg = trg.reshape(-1)\n",
        " \n",
        "            #decoding using beam_search as example (you don't need to put here, because beam_search is for intference)\n",
        "            # decoded_batch = model.decode(src, src_len, trg, attention, method='beam-search')\n",
        "            # #len(decoded_batch) = 64\n",
        "            # #len(decoded_batch[0]) = 1 = number of sentence generated, i.e., topk            \n",
        "            # decoded_batch_list.append(decoded_batch)\n",
        "\n",
        "            #remove the first output (SOS) and then reshape both output and trg so we can calculate loss\n",
        "            # output_dim = prediction.shape[-1]\n",
        "            # prediction = prediction[1:].view(-1, output_dim)\n",
        "            # trg = trg[1:].view(-1)\n",
        "            #trg    = [(trg len - 1) * batch size]\n",
        "            #output = [(trg len - 1) * batch size, output dim]\n",
        "\n",
        "            loss = criterion(prediction, trg)\n",
        "            epoch_loss += loss.item() * seq_len\n",
        "        \n",
        "        #this is optional; you don't have to; printing first three samples of the first batch\n",
        "        # print(\"print samples from first decode batch\")\n",
        "        # for sentence_index in decoded_batch_list[0][:3]:\n",
        "        #     decode_text_arr = [vocab_transform.lookup_token(i) for i in sentence_index[0]]\n",
        "        #     decode_sentence = \" \".join(decode_text_arr[1:-1])  #no need sos and eos\n",
        "        #     print(\"pred target : {}\".format(decode_sentence))\n",
        "\n",
        "    return epoch_loss / num_batches"
      ],
      "metadata": {
        "id": "zlM8h6b2m8QF"
      },
      "execution_count": 35,
      "outputs": []
    },
    {
      "cell_type": "code",
      "source": [
        "def epoch_time(start_time, end_time):\n",
        "    elapsed_time = end_time - start_time\n",
        "    elapsed_mins = int(elapsed_time / 60)\n",
        "    elapsed_secs = int(elapsed_time - (elapsed_mins * 60))\n",
        "    return elapsed_mins, elapsed_secs"
      ],
      "metadata": {
        "id": "JR97RJcRm_wT"
      },
      "execution_count": 36,
      "outputs": []
    },
    {
      "cell_type": "code",
      "source": [
        "def get_data(dataset, vocab, batch_size):\n",
        "    data = []                                                   \n",
        "    for example in dataset:\n",
        "        if example:         \n",
        "            #appends eos so we know it ends....so model learn how to end...                             \n",
        "            tokens = example.append('<eos>')   \n",
        "            #numericalize          \n",
        "            tokens = [vocab[token] for token in example] \n",
        "            data.extend(tokens)                                    \n",
        "    data = torch.LongTensor(data)                                 \n",
        "    num_batches = data.shape[0] // batch_size \n",
        "    data = data[:num_batches * batch_size]                       \n",
        "    data = data.view(batch_size, num_batches)          \n",
        "    return data"
      ],
      "metadata": {
        "id": "A3--IB0Mq5CE"
      },
      "execution_count": 37,
      "outputs": []
    },
    {
      "cell_type": "code",
      "source": [
        "batch_size = 450\n",
        "train_data = get_data(tokenized_dataset_train, vocab_transform, batch_size)\n",
        "valid_data = get_data(tokenized_dataset_val, vocab_transform, batch_size)\n",
        "test_data  = get_data(tokenized_dataset_test, vocab_transform, batch_size)"
      ],
      "metadata": {
        "id": "JgIYtQ3bq19z"
      },
      "execution_count": 38,
      "outputs": []
    },
    {
      "cell_type": "code",
      "source": [
        "len(train_data)"
      ],
      "metadata": {
        "colab": {
          "base_uri": "https://localhost:8080/"
        },
        "id": "_jianMNzuNH-",
        "outputId": "79d0cd55-6d4b-412e-b6b3-e3291750a900"
      },
      "execution_count": 39,
      "outputs": [
        {
          "output_type": "execute_result",
          "data": {
            "text/plain": [
              "450"
            ]
          },
          "metadata": {},
          "execution_count": 39
        }
      ]
    },
    {
      "cell_type": "code",
      "source": [
        "from tqdm import tqdm\n",
        "best_valid_loss = float('inf')\n",
        "num_epochs = 20 #<----for the sake of brevity\n",
        "clip       = 0.25\n",
        "seq_len    = 50\n",
        "\n",
        "lr_scheduler = optim.lr_scheduler.ReduceLROnPlateau(optimizer, factor=0.45, patience=0.001)\n",
        "\n",
        "save_path = f'/content/drive/MyDrive/NLP/transformer/new_model/{model.__class__.__name__}.pt'\n",
        "\n",
        "train_losses = []\n",
        "valid_losses = []\n",
        "\n",
        "for epoch in range(num_epochs):\n",
        "   \n",
        "    start_time = time.time()\n",
        "\n",
        "    train_loss = train(model, train_data, optimizer, criterion, clip, seq_len)\n",
        "    valid_loss = evaluate(model, valid_data, criterion, batch_size, seq_len, device)\n",
        "\n",
        "    #for plotting\n",
        "    train_losses.append(train_loss)\n",
        "    valid_losses.append(valid_loss)\n",
        "    \n",
        "    end_time = time.time()\n",
        "    \n",
        "    epoch_mins, epoch_secs = epoch_time(start_time, end_time)\n",
        "\n",
        "    lr_scheduler.step(valid_loss)\n",
        "\n",
        "    if valid_loss < best_valid_loss:\n",
        "        best_valid_loss = valid_loss\n",
        "        torch.save(model.state_dict(), save_path)\n",
        "    \n",
        "    print(f'Epoch: {epoch+1:02} | Time: {epoch_mins}m {epoch_secs}s')\n",
        "    print(f'\\tTrain Loss: {train_loss:.3f} | Train PPL: {math.exp(train_loss):7.3f}')\n",
        "    print(f'\\t Val. Loss: {valid_loss:.3f} |  Val. PPL: {math.exp(valid_loss):7.3f}')"
      ],
      "metadata": {
        "colab": {
          "base_uri": "https://localhost:8080/"
        },
        "id": "gKPafgBinOEe",
        "outputId": "763b6d30-9b83-4793-df44-31ada7a93f82"
      },
      "execution_count": 40,
      "outputs": [
        {
          "output_type": "stream",
          "name": "stderr",
          "text": []
        },
        {
          "output_type": "stream",
          "name": "stdout",
          "text": [
            "Epoch: 01 | Time: 0m 10s\n",
            "\tTrain Loss: 7.090 | Train PPL: 1199.936\n",
            "\t Val. Loss: 6.257 |  Val. PPL: 521.779\n"
          ]
        },
        {
          "output_type": "stream",
          "name": "stderr",
          "text": []
        },
        {
          "output_type": "stream",
          "name": "stdout",
          "text": [
            "Epoch: 02 | Time: 0m 10s\n",
            "\tTrain Loss: 5.969 | Train PPL: 391.143\n",
            "\t Val. Loss: 5.697 |  Val. PPL: 298.060\n"
          ]
        },
        {
          "output_type": "stream",
          "name": "stderr",
          "text": []
        },
        {
          "output_type": "stream",
          "name": "stdout",
          "text": [
            "Epoch: 03 | Time: 0m 10s\n",
            "\tTrain Loss: 5.383 | Train PPL: 217.619\n",
            "\t Val. Loss: 5.379 |  Val. PPL: 216.753\n"
          ]
        },
        {
          "output_type": "stream",
          "name": "stderr",
          "text": []
        },
        {
          "output_type": "stream",
          "name": "stdout",
          "text": [
            "Epoch: 04 | Time: 0m 10s\n",
            "\tTrain Loss: 5.005 | Train PPL: 149.118\n",
            "\t Val. Loss: 5.211 |  Val. PPL: 183.304\n"
          ]
        },
        {
          "output_type": "stream",
          "name": "stderr",
          "text": []
        },
        {
          "output_type": "stream",
          "name": "stdout",
          "text": [
            "Epoch: 05 | Time: 0m 10s\n",
            "\tTrain Loss: 4.743 | Train PPL: 114.820\n",
            "\t Val. Loss: 5.115 |  Val. PPL: 166.451\n"
          ]
        },
        {
          "output_type": "stream",
          "name": "stderr",
          "text": []
        },
        {
          "output_type": "stream",
          "name": "stdout",
          "text": [
            "Epoch: 06 | Time: 0m 10s\n",
            "\tTrain Loss: 4.541 | Train PPL:  93.814\n",
            "\t Val. Loss: 5.064 |  Val. PPL: 158.186\n"
          ]
        },
        {
          "output_type": "stream",
          "name": "stderr",
          "text": []
        },
        {
          "output_type": "stream",
          "name": "stdout",
          "text": [
            "Epoch: 07 | Time: 0m 10s\n",
            "\tTrain Loss: 4.378 | Train PPL:  79.651\n",
            "\t Val. Loss: 5.041 |  Val. PPL: 154.695\n"
          ]
        },
        {
          "output_type": "stream",
          "name": "stderr",
          "text": []
        },
        {
          "output_type": "stream",
          "name": "stdout",
          "text": [
            "Epoch: 08 | Time: 0m 10s\n",
            "\tTrain Loss: 4.237 | Train PPL:  69.182\n",
            "\t Val. Loss: 5.036 |  Val. PPL: 153.857\n"
          ]
        },
        {
          "output_type": "stream",
          "name": "stderr",
          "text": []
        },
        {
          "output_type": "stream",
          "name": "stdout",
          "text": [
            "Epoch: 09 | Time: 0m 11s\n",
            "\tTrain Loss: 4.113 | Train PPL:  61.142\n",
            "\t Val. Loss: 5.040 |  Val. PPL: 154.463\n"
          ]
        },
        {
          "output_type": "stream",
          "name": "stderr",
          "text": []
        },
        {
          "output_type": "stream",
          "name": "stdout",
          "text": [
            "Epoch: 10 | Time: 0m 11s\n",
            "\tTrain Loss: 3.969 | Train PPL:  52.926\n",
            "\t Val. Loss: 5.035 |  Val. PPL: 153.711\n"
          ]
        },
        {
          "output_type": "stream",
          "name": "stderr",
          "text": []
        },
        {
          "output_type": "stream",
          "name": "stdout",
          "text": [
            "Epoch: 11 | Time: 0m 11s\n",
            "\tTrain Loss: 3.901 | Train PPL:  49.436\n",
            "\t Val. Loss: 5.048 |  Val. PPL: 155.658\n"
          ]
        },
        {
          "output_type": "stream",
          "name": "stderr",
          "text": []
        },
        {
          "output_type": "stream",
          "name": "stdout",
          "text": [
            "Epoch: 12 | Time: 0m 11s\n",
            "\tTrain Loss: 3.823 | Train PPL:  45.721\n",
            "\t Val. Loss: 5.053 |  Val. PPL: 156.447\n"
          ]
        },
        {
          "output_type": "stream",
          "name": "stderr",
          "text": []
        },
        {
          "output_type": "stream",
          "name": "stdout",
          "text": [
            "Epoch: 13 | Time: 0m 11s\n",
            "\tTrain Loss: 3.782 | Train PPL:  43.913\n",
            "\t Val. Loss: 5.052 |  Val. PPL: 156.337\n"
          ]
        },
        {
          "output_type": "stream",
          "name": "stderr",
          "text": []
        },
        {
          "output_type": "stream",
          "name": "stdout",
          "text": [
            "Epoch: 14 | Time: 0m 11s\n",
            "\tTrain Loss: 3.764 | Train PPL:  43.137\n",
            "\t Val. Loss: 5.054 |  Val. PPL: 156.660\n"
          ]
        },
        {
          "output_type": "stream",
          "name": "stderr",
          "text": []
        },
        {
          "output_type": "stream",
          "name": "stdout",
          "text": [
            "Epoch: 15 | Time: 0m 11s\n",
            "\tTrain Loss: 3.756 | Train PPL:  42.767\n",
            "\t Val. Loss: 5.055 |  Val. PPL: 156.800\n"
          ]
        },
        {
          "output_type": "stream",
          "name": "stderr",
          "text": []
        },
        {
          "output_type": "stream",
          "name": "stdout",
          "text": [
            "Epoch: 16 | Time: 0m 11s\n",
            "\tTrain Loss: 3.753 | Train PPL:  42.642\n",
            "\t Val. Loss: 5.055 |  Val. PPL: 156.844\n"
          ]
        },
        {
          "output_type": "stream",
          "name": "stderr",
          "text": []
        },
        {
          "output_type": "stream",
          "name": "stdout",
          "text": [
            "Epoch: 17 | Time: 0m 11s\n",
            "\tTrain Loss: 3.751 | Train PPL:  42.556\n",
            "\t Val. Loss: 5.055 |  Val. PPL: 156.867\n"
          ]
        },
        {
          "output_type": "stream",
          "name": "stderr",
          "text": []
        },
        {
          "output_type": "stream",
          "name": "stdout",
          "text": [
            "Epoch: 18 | Time: 0m 11s\n",
            "\tTrain Loss: 3.749 | Train PPL:  42.472\n",
            "\t Val. Loss: 5.055 |  Val. PPL: 156.881\n"
          ]
        },
        {
          "output_type": "stream",
          "name": "stderr",
          "text": []
        },
        {
          "output_type": "stream",
          "name": "stdout",
          "text": [
            "Epoch: 19 | Time: 0m 11s\n",
            "\tTrain Loss: 3.749 | Train PPL:  42.475\n",
            "\t Val. Loss: 5.056 |  Val. PPL: 156.886\n"
          ]
        },
        {
          "output_type": "stream",
          "name": "stderr",
          "text": []
        },
        {
          "output_type": "stream",
          "name": "stdout",
          "text": [
            "Epoch: 20 | Time: 0m 11s\n",
            "\tTrain Loss: 3.749 | Train PPL:  42.472\n",
            "\t Val. Loss: 5.056 |  Val. PPL: 156.889\n"
          ]
        }
      ]
    },
    {
      "cell_type": "code",
      "source": [
        "def generate(prompt, max_seq_len, temperature, model, tokenizer, vocab, device, seed=None):\n",
        "    if seed is not None:\n",
        "        torch.manual_seed(seed)\n",
        "    model.eval()\n",
        "    tokens = tokenizer(prompt)\n",
        "    indices = [vocab[t] for t in tokens]\n",
        "    batch_size = 1\n",
        "    # hidden = model.init_hidden(batch_size, device)\n",
        "    with torch.no_grad():\n",
        "        for i in range(max_seq_len):\n",
        "            src = torch.LongTensor([indices]).to(device)\n",
        "            prediction, hidden = model(src)\n",
        "\n",
        "            # print(prediction.shape)\n",
        "            #prediction: [batch size, seq len, vocab size]\n",
        "            #prediction[:, -1]: [batch size, vocab size] #probability of last vocab\n",
        "            \n",
        "            probs = torch.softmax(prediction[:, -1] / temperature, dim=-1)  \n",
        "            prediction = torch.multinomial(probs, num_samples=1).item()    \n",
        "            \n",
        "            while prediction == vocab['<unk>']: #if it is unk, we sample again\n",
        "                prediction = torch.multinomial(probs, num_samples=1).item()\n",
        "\n",
        "            if prediction == vocab['<eos>']:    #if it is eos, we stop\n",
        "                break\n",
        "\n",
        "            indices.append(prediction) #autoregressive, thus output becomes input\n",
        "\n",
        "    itos = vocab.get_itos()\n",
        "    tokens = [itos[i] for i in indices]\n",
        "    return tokens"
      ],
      "metadata": {
        "id": "yaYmY5OloPed"
      },
      "execution_count": 41,
      "outputs": []
    },
    {
      "cell_type": "code",
      "source": [
        "vocab_path = '/content/drive/MyDrive/NLP/transformer/new_model/vocab.pt'\n",
        "torch.save(vocab_transform, vocab_path)"
      ],
      "metadata": {
        "id": "6dgk4fxh5AQ0"
      },
      "execution_count": 42,
      "outputs": []
    },
    {
      "cell_type": "code",
      "source": [
        "vvv = torch.load(vocab_path)"
      ],
      "metadata": {
        "id": "qybWIS3J5HZO"
      },
      "execution_count": 43,
      "outputs": []
    },
    {
      "cell_type": "code",
      "source": [
        "output_dim  = len(vocab_transform)\n",
        "hid_dim = 256\n",
        "dec_layers = 12\n",
        "dec_heads = 8\n",
        "dec_pf_dim = 512\n",
        "dec_dropout = 0.1\n",
        "\n",
        "SRC_PAD_IDX = PAD_IDX\n",
        "TRG_PAD_IDX = PAD_IDX\n",
        "\n",
        "model = Decoder(output_dim, \n",
        "              hid_dim, \n",
        "              dec_layers, \n",
        "              dec_heads, \n",
        "              dec_pf_dim, \n",
        "              dec_dropout, \n",
        "              device,SRC_PAD_IDX,TRG_PAD_IDX).to(device)\n",
        "model.apply(initialize_weights)"
      ],
      "metadata": {
        "colab": {
          "base_uri": "https://localhost:8080/"
        },
        "id": "i-wyrdC8oRtc",
        "outputId": "f543022b-21cb-4252-aee2-ddfb0f08bcc0"
      },
      "execution_count": 44,
      "outputs": [
        {
          "output_type": "execute_result",
          "data": {
            "text/plain": [
              "Decoder(\n",
              "  (pos_emb): Embedding(100, 256)\n",
              "  (trg_emb): Embedding(11254, 256)\n",
              "  (dropout): Dropout(p=0.1, inplace=False)\n",
              "  (layers): ModuleList(\n",
              "    (0): DecoderLayer(\n",
              "      (norm_ff): LayerNorm((256,), eps=1e-05, elementwise_affine=True)\n",
              "      (norm_maskedatt): LayerNorm((256,), eps=1e-05, elementwise_affine=True)\n",
              "      (self_attention): MultiHeadAttentionLayer(\n",
              "        (fc_q): Linear(in_features=256, out_features=256, bias=True)\n",
              "        (fc_k): Linear(in_features=256, out_features=256, bias=True)\n",
              "        (fc_v): Linear(in_features=256, out_features=256, bias=True)\n",
              "        (fc): Linear(in_features=256, out_features=256, bias=True)\n",
              "        (dropout): Dropout(p=0.1, inplace=False)\n",
              "      )\n",
              "      (ff): PositionwiseFeedforwardLayer(\n",
              "        (fc1): Linear(in_features=256, out_features=512, bias=True)\n",
              "        (fc2): Linear(in_features=512, out_features=256, bias=True)\n",
              "        (dropout): Dropout(p=0.1, inplace=False)\n",
              "      )\n",
              "      (dropout): Dropout(p=0.1, inplace=False)\n",
              "    )\n",
              "    (1): DecoderLayer(\n",
              "      (norm_ff): LayerNorm((256,), eps=1e-05, elementwise_affine=True)\n",
              "      (norm_maskedatt): LayerNorm((256,), eps=1e-05, elementwise_affine=True)\n",
              "      (self_attention): MultiHeadAttentionLayer(\n",
              "        (fc_q): Linear(in_features=256, out_features=256, bias=True)\n",
              "        (fc_k): Linear(in_features=256, out_features=256, bias=True)\n",
              "        (fc_v): Linear(in_features=256, out_features=256, bias=True)\n",
              "        (fc): Linear(in_features=256, out_features=256, bias=True)\n",
              "        (dropout): Dropout(p=0.1, inplace=False)\n",
              "      )\n",
              "      (ff): PositionwiseFeedforwardLayer(\n",
              "        (fc1): Linear(in_features=256, out_features=512, bias=True)\n",
              "        (fc2): Linear(in_features=512, out_features=256, bias=True)\n",
              "        (dropout): Dropout(p=0.1, inplace=False)\n",
              "      )\n",
              "      (dropout): Dropout(p=0.1, inplace=False)\n",
              "    )\n",
              "    (2): DecoderLayer(\n",
              "      (norm_ff): LayerNorm((256,), eps=1e-05, elementwise_affine=True)\n",
              "      (norm_maskedatt): LayerNorm((256,), eps=1e-05, elementwise_affine=True)\n",
              "      (self_attention): MultiHeadAttentionLayer(\n",
              "        (fc_q): Linear(in_features=256, out_features=256, bias=True)\n",
              "        (fc_k): Linear(in_features=256, out_features=256, bias=True)\n",
              "        (fc_v): Linear(in_features=256, out_features=256, bias=True)\n",
              "        (fc): Linear(in_features=256, out_features=256, bias=True)\n",
              "        (dropout): Dropout(p=0.1, inplace=False)\n",
              "      )\n",
              "      (ff): PositionwiseFeedforwardLayer(\n",
              "        (fc1): Linear(in_features=256, out_features=512, bias=True)\n",
              "        (fc2): Linear(in_features=512, out_features=256, bias=True)\n",
              "        (dropout): Dropout(p=0.1, inplace=False)\n",
              "      )\n",
              "      (dropout): Dropout(p=0.1, inplace=False)\n",
              "    )\n",
              "    (3): DecoderLayer(\n",
              "      (norm_ff): LayerNorm((256,), eps=1e-05, elementwise_affine=True)\n",
              "      (norm_maskedatt): LayerNorm((256,), eps=1e-05, elementwise_affine=True)\n",
              "      (self_attention): MultiHeadAttentionLayer(\n",
              "        (fc_q): Linear(in_features=256, out_features=256, bias=True)\n",
              "        (fc_k): Linear(in_features=256, out_features=256, bias=True)\n",
              "        (fc_v): Linear(in_features=256, out_features=256, bias=True)\n",
              "        (fc): Linear(in_features=256, out_features=256, bias=True)\n",
              "        (dropout): Dropout(p=0.1, inplace=False)\n",
              "      )\n",
              "      (ff): PositionwiseFeedforwardLayer(\n",
              "        (fc1): Linear(in_features=256, out_features=512, bias=True)\n",
              "        (fc2): Linear(in_features=512, out_features=256, bias=True)\n",
              "        (dropout): Dropout(p=0.1, inplace=False)\n",
              "      )\n",
              "      (dropout): Dropout(p=0.1, inplace=False)\n",
              "    )\n",
              "    (4): DecoderLayer(\n",
              "      (norm_ff): LayerNorm((256,), eps=1e-05, elementwise_affine=True)\n",
              "      (norm_maskedatt): LayerNorm((256,), eps=1e-05, elementwise_affine=True)\n",
              "      (self_attention): MultiHeadAttentionLayer(\n",
              "        (fc_q): Linear(in_features=256, out_features=256, bias=True)\n",
              "        (fc_k): Linear(in_features=256, out_features=256, bias=True)\n",
              "        (fc_v): Linear(in_features=256, out_features=256, bias=True)\n",
              "        (fc): Linear(in_features=256, out_features=256, bias=True)\n",
              "        (dropout): Dropout(p=0.1, inplace=False)\n",
              "      )\n",
              "      (ff): PositionwiseFeedforwardLayer(\n",
              "        (fc1): Linear(in_features=256, out_features=512, bias=True)\n",
              "        (fc2): Linear(in_features=512, out_features=256, bias=True)\n",
              "        (dropout): Dropout(p=0.1, inplace=False)\n",
              "      )\n",
              "      (dropout): Dropout(p=0.1, inplace=False)\n",
              "    )\n",
              "    (5): DecoderLayer(\n",
              "      (norm_ff): LayerNorm((256,), eps=1e-05, elementwise_affine=True)\n",
              "      (norm_maskedatt): LayerNorm((256,), eps=1e-05, elementwise_affine=True)\n",
              "      (self_attention): MultiHeadAttentionLayer(\n",
              "        (fc_q): Linear(in_features=256, out_features=256, bias=True)\n",
              "        (fc_k): Linear(in_features=256, out_features=256, bias=True)\n",
              "        (fc_v): Linear(in_features=256, out_features=256, bias=True)\n",
              "        (fc): Linear(in_features=256, out_features=256, bias=True)\n",
              "        (dropout): Dropout(p=0.1, inplace=False)\n",
              "      )\n",
              "      (ff): PositionwiseFeedforwardLayer(\n",
              "        (fc1): Linear(in_features=256, out_features=512, bias=True)\n",
              "        (fc2): Linear(in_features=512, out_features=256, bias=True)\n",
              "        (dropout): Dropout(p=0.1, inplace=False)\n",
              "      )\n",
              "      (dropout): Dropout(p=0.1, inplace=False)\n",
              "    )\n",
              "    (6): DecoderLayer(\n",
              "      (norm_ff): LayerNorm((256,), eps=1e-05, elementwise_affine=True)\n",
              "      (norm_maskedatt): LayerNorm((256,), eps=1e-05, elementwise_affine=True)\n",
              "      (self_attention): MultiHeadAttentionLayer(\n",
              "        (fc_q): Linear(in_features=256, out_features=256, bias=True)\n",
              "        (fc_k): Linear(in_features=256, out_features=256, bias=True)\n",
              "        (fc_v): Linear(in_features=256, out_features=256, bias=True)\n",
              "        (fc): Linear(in_features=256, out_features=256, bias=True)\n",
              "        (dropout): Dropout(p=0.1, inplace=False)\n",
              "      )\n",
              "      (ff): PositionwiseFeedforwardLayer(\n",
              "        (fc1): Linear(in_features=256, out_features=512, bias=True)\n",
              "        (fc2): Linear(in_features=512, out_features=256, bias=True)\n",
              "        (dropout): Dropout(p=0.1, inplace=False)\n",
              "      )\n",
              "      (dropout): Dropout(p=0.1, inplace=False)\n",
              "    )\n",
              "    (7): DecoderLayer(\n",
              "      (norm_ff): LayerNorm((256,), eps=1e-05, elementwise_affine=True)\n",
              "      (norm_maskedatt): LayerNorm((256,), eps=1e-05, elementwise_affine=True)\n",
              "      (self_attention): MultiHeadAttentionLayer(\n",
              "        (fc_q): Linear(in_features=256, out_features=256, bias=True)\n",
              "        (fc_k): Linear(in_features=256, out_features=256, bias=True)\n",
              "        (fc_v): Linear(in_features=256, out_features=256, bias=True)\n",
              "        (fc): Linear(in_features=256, out_features=256, bias=True)\n",
              "        (dropout): Dropout(p=0.1, inplace=False)\n",
              "      )\n",
              "      (ff): PositionwiseFeedforwardLayer(\n",
              "        (fc1): Linear(in_features=256, out_features=512, bias=True)\n",
              "        (fc2): Linear(in_features=512, out_features=256, bias=True)\n",
              "        (dropout): Dropout(p=0.1, inplace=False)\n",
              "      )\n",
              "      (dropout): Dropout(p=0.1, inplace=False)\n",
              "    )\n",
              "    (8): DecoderLayer(\n",
              "      (norm_ff): LayerNorm((256,), eps=1e-05, elementwise_affine=True)\n",
              "      (norm_maskedatt): LayerNorm((256,), eps=1e-05, elementwise_affine=True)\n",
              "      (self_attention): MultiHeadAttentionLayer(\n",
              "        (fc_q): Linear(in_features=256, out_features=256, bias=True)\n",
              "        (fc_k): Linear(in_features=256, out_features=256, bias=True)\n",
              "        (fc_v): Linear(in_features=256, out_features=256, bias=True)\n",
              "        (fc): Linear(in_features=256, out_features=256, bias=True)\n",
              "        (dropout): Dropout(p=0.1, inplace=False)\n",
              "      )\n",
              "      (ff): PositionwiseFeedforwardLayer(\n",
              "        (fc1): Linear(in_features=256, out_features=512, bias=True)\n",
              "        (fc2): Linear(in_features=512, out_features=256, bias=True)\n",
              "        (dropout): Dropout(p=0.1, inplace=False)\n",
              "      )\n",
              "      (dropout): Dropout(p=0.1, inplace=False)\n",
              "    )\n",
              "    (9): DecoderLayer(\n",
              "      (norm_ff): LayerNorm((256,), eps=1e-05, elementwise_affine=True)\n",
              "      (norm_maskedatt): LayerNorm((256,), eps=1e-05, elementwise_affine=True)\n",
              "      (self_attention): MultiHeadAttentionLayer(\n",
              "        (fc_q): Linear(in_features=256, out_features=256, bias=True)\n",
              "        (fc_k): Linear(in_features=256, out_features=256, bias=True)\n",
              "        (fc_v): Linear(in_features=256, out_features=256, bias=True)\n",
              "        (fc): Linear(in_features=256, out_features=256, bias=True)\n",
              "        (dropout): Dropout(p=0.1, inplace=False)\n",
              "      )\n",
              "      (ff): PositionwiseFeedforwardLayer(\n",
              "        (fc1): Linear(in_features=256, out_features=512, bias=True)\n",
              "        (fc2): Linear(in_features=512, out_features=256, bias=True)\n",
              "        (dropout): Dropout(p=0.1, inplace=False)\n",
              "      )\n",
              "      (dropout): Dropout(p=0.1, inplace=False)\n",
              "    )\n",
              "    (10): DecoderLayer(\n",
              "      (norm_ff): LayerNorm((256,), eps=1e-05, elementwise_affine=True)\n",
              "      (norm_maskedatt): LayerNorm((256,), eps=1e-05, elementwise_affine=True)\n",
              "      (self_attention): MultiHeadAttentionLayer(\n",
              "        (fc_q): Linear(in_features=256, out_features=256, bias=True)\n",
              "        (fc_k): Linear(in_features=256, out_features=256, bias=True)\n",
              "        (fc_v): Linear(in_features=256, out_features=256, bias=True)\n",
              "        (fc): Linear(in_features=256, out_features=256, bias=True)\n",
              "        (dropout): Dropout(p=0.1, inplace=False)\n",
              "      )\n",
              "      (ff): PositionwiseFeedforwardLayer(\n",
              "        (fc1): Linear(in_features=256, out_features=512, bias=True)\n",
              "        (fc2): Linear(in_features=512, out_features=256, bias=True)\n",
              "        (dropout): Dropout(p=0.1, inplace=False)\n",
              "      )\n",
              "      (dropout): Dropout(p=0.1, inplace=False)\n",
              "    )\n",
              "    (11): DecoderLayer(\n",
              "      (norm_ff): LayerNorm((256,), eps=1e-05, elementwise_affine=True)\n",
              "      (norm_maskedatt): LayerNorm((256,), eps=1e-05, elementwise_affine=True)\n",
              "      (self_attention): MultiHeadAttentionLayer(\n",
              "        (fc_q): Linear(in_features=256, out_features=256, bias=True)\n",
              "        (fc_k): Linear(in_features=256, out_features=256, bias=True)\n",
              "        (fc_v): Linear(in_features=256, out_features=256, bias=True)\n",
              "        (fc): Linear(in_features=256, out_features=256, bias=True)\n",
              "        (dropout): Dropout(p=0.1, inplace=False)\n",
              "      )\n",
              "      (ff): PositionwiseFeedforwardLayer(\n",
              "        (fc1): Linear(in_features=256, out_features=512, bias=True)\n",
              "        (fc2): Linear(in_features=512, out_features=256, bias=True)\n",
              "        (dropout): Dropout(p=0.1, inplace=False)\n",
              "      )\n",
              "      (dropout): Dropout(p=0.1, inplace=False)\n",
              "    )\n",
              "  )\n",
              "  (fc): Linear(in_features=256, out_features=11254, bias=True)\n",
              ")"
            ]
          },
          "metadata": {},
          "execution_count": 44
        }
      ]
    },
    {
      "cell_type": "code",
      "source": [
        "prompt = 'ผมไปกินข้าว'\n",
        "max_seq_len = 10\n",
        "seed = 0\n",
        "model.load_state_dict(torch.load('/content/drive/MyDrive/NLP/transformer/new_model/Decoder.pt'))\n",
        "temperatures = [0.3] \n",
        "\n",
        "for temperature in temperatures:\n",
        "    generation = generate(prompt, max_seq_len, temperature, model, word_tokenize, \n",
        "                          vocab_transform, device, seed)\n",
        "    print(str(temperature)+'\\n'+''.join(generation)+'\\n')"
      ],
      "metadata": {
        "colab": {
          "base_uri": "https://localhost:8080/"
        },
        "id": "UW-CYyu8oXzp",
        "outputId": "6b2042f6-a27b-4600-aa3f-fd1c612a003e"
      },
      "execution_count": 46,
      "outputs": [
        {
          "output_type": "stream",
          "name": "stdout",
          "text": [
            "0.3\n",
            "ผมไปกินข้าว แต่ก็ไม่ได้เลยว่ามันก็ไม่\n",
            "\n"
          ]
        }
      ]
    },
    {
      "cell_type": "code",
      "source": [
        "# import pickle\n",
        "# from torchtext.vocab import Vocab\n",
        "\n",
        "# # define file path for loading\n",
        "# file_path = 'vocab.pkl'\n",
        "\n",
        "# # load the Vocab object\n",
        "# with open(file_path, 'rb') as f:\n",
        "#     vocab = pickle.load(f)"
      ],
      "metadata": {
        "id": "0m8necEr2Zla"
      },
      "execution_count": 47,
      "outputs": []
    }
  ],
  "metadata": {
    "kernelspec": {
      "display_name": "dsai",
      "language": "python",
      "name": "python3"
    },
    "language_info": {
      "codemirror_mode": {
        "name": "ipython",
        "version": 3
      },
      "file_extension": ".py",
      "mimetype": "text/x-python",
      "name": "python",
      "nbconvert_exporter": "python",
      "pygments_lexer": "ipython3",
      "version": "3.7.11"
    },
    "vscode": {
      "interpreter": {
        "hash": "0f2c79af21be9d001248940c049b6176cf8bfb45cabf7aa85848f5cea0f590f6"
      }
    },
    "colab": {
      "provenance": []
    },
    "accelerator": "GPU",
    "gpuClass": "standard",
    "widgets": {
      "application/vnd.jupyter.widget-state+json": {
        "e817a4d26e99433294eee61ae17b7d85": {
          "model_module": "@jupyter-widgets/controls",
          "model_name": "HBoxModel",
          "model_module_version": "1.5.0",
          "state": {
            "_dom_classes": [],
            "_model_module": "@jupyter-widgets/controls",
            "_model_module_version": "1.5.0",
            "_model_name": "HBoxModel",
            "_view_count": null,
            "_view_module": "@jupyter-widgets/controls",
            "_view_module_version": "1.5.0",
            "_view_name": "HBoxView",
            "box_style": "",
            "children": [
              "IPY_MODEL_8cee5dce98a8431ca2ab2f5aa162c33d",
              "IPY_MODEL_d07d554fd7d94f438c106f7c790aea22",
              "IPY_MODEL_b943630aca8c4ad3a2754ce393a2a516"
            ],
            "layout": "IPY_MODEL_700ada48b3924686966bdff03ed63533"
          }
        },
        "8cee5dce98a8431ca2ab2f5aa162c33d": {
          "model_module": "@jupyter-widgets/controls",
          "model_name": "HTMLModel",
          "model_module_version": "1.5.0",
          "state": {
            "_dom_classes": [],
            "_model_module": "@jupyter-widgets/controls",
            "_model_module_version": "1.5.0",
            "_model_name": "HTMLModel",
            "_view_count": null,
            "_view_module": "@jupyter-widgets/controls",
            "_view_module_version": "1.5.0",
            "_view_name": "HTMLView",
            "description": "",
            "description_tooltip": null,
            "layout": "IPY_MODEL_4d3e09fbad3f4ec2b5f50194e0cf6804",
            "placeholder": "​",
            "style": "IPY_MODEL_30f0a84104274d6284f8761bac37e1bc",
            "value": "100%"
          }
        },
        "d07d554fd7d94f438c106f7c790aea22": {
          "model_module": "@jupyter-widgets/controls",
          "model_name": "FloatProgressModel",
          "model_module_version": "1.5.0",
          "state": {
            "_dom_classes": [],
            "_model_module": "@jupyter-widgets/controls",
            "_model_module_version": "1.5.0",
            "_model_name": "FloatProgressModel",
            "_view_count": null,
            "_view_module": "@jupyter-widgets/controls",
            "_view_module_version": "1.5.0",
            "_view_name": "ProgressView",
            "bar_style": "success",
            "description": "",
            "description_tooltip": null,
            "layout": "IPY_MODEL_80a4dbff84d1430ebc0fcd5ec4ae5e7b",
            "max": 3,
            "min": 0,
            "orientation": "horizontal",
            "style": "IPY_MODEL_e4d96ee06fe74419a6885569886aa9e9",
            "value": 3
          }
        },
        "b943630aca8c4ad3a2754ce393a2a516": {
          "model_module": "@jupyter-widgets/controls",
          "model_name": "HTMLModel",
          "model_module_version": "1.5.0",
          "state": {
            "_dom_classes": [],
            "_model_module": "@jupyter-widgets/controls",
            "_model_module_version": "1.5.0",
            "_model_name": "HTMLModel",
            "_view_count": null,
            "_view_module": "@jupyter-widgets/controls",
            "_view_module_version": "1.5.0",
            "_view_name": "HTMLView",
            "description": "",
            "description_tooltip": null,
            "layout": "IPY_MODEL_5d250f9e81314f6ab6954fedba4f5772",
            "placeholder": "​",
            "style": "IPY_MODEL_4a71e2f8db774d599f11f427802b2f96",
            "value": " 3/3 [00:00&lt;00:00, 40.02it/s]"
          }
        },
        "700ada48b3924686966bdff03ed63533": {
          "model_module": "@jupyter-widgets/base",
          "model_name": "LayoutModel",
          "model_module_version": "1.2.0",
          "state": {
            "_model_module": "@jupyter-widgets/base",
            "_model_module_version": "1.2.0",
            "_model_name": "LayoutModel",
            "_view_count": null,
            "_view_module": "@jupyter-widgets/base",
            "_view_module_version": "1.2.0",
            "_view_name": "LayoutView",
            "align_content": null,
            "align_items": null,
            "align_self": null,
            "border": null,
            "bottom": null,
            "display": null,
            "flex": null,
            "flex_flow": null,
            "grid_area": null,
            "grid_auto_columns": null,
            "grid_auto_flow": null,
            "grid_auto_rows": null,
            "grid_column": null,
            "grid_gap": null,
            "grid_row": null,
            "grid_template_areas": null,
            "grid_template_columns": null,
            "grid_template_rows": null,
            "height": null,
            "justify_content": null,
            "justify_items": null,
            "left": null,
            "margin": null,
            "max_height": null,
            "max_width": null,
            "min_height": null,
            "min_width": null,
            "object_fit": null,
            "object_position": null,
            "order": null,
            "overflow": null,
            "overflow_x": null,
            "overflow_y": null,
            "padding": null,
            "right": null,
            "top": null,
            "visibility": null,
            "width": null
          }
        },
        "4d3e09fbad3f4ec2b5f50194e0cf6804": {
          "model_module": "@jupyter-widgets/base",
          "model_name": "LayoutModel",
          "model_module_version": "1.2.0",
          "state": {
            "_model_module": "@jupyter-widgets/base",
            "_model_module_version": "1.2.0",
            "_model_name": "LayoutModel",
            "_view_count": null,
            "_view_module": "@jupyter-widgets/base",
            "_view_module_version": "1.2.0",
            "_view_name": "LayoutView",
            "align_content": null,
            "align_items": null,
            "align_self": null,
            "border": null,
            "bottom": null,
            "display": null,
            "flex": null,
            "flex_flow": null,
            "grid_area": null,
            "grid_auto_columns": null,
            "grid_auto_flow": null,
            "grid_auto_rows": null,
            "grid_column": null,
            "grid_gap": null,
            "grid_row": null,
            "grid_template_areas": null,
            "grid_template_columns": null,
            "grid_template_rows": null,
            "height": null,
            "justify_content": null,
            "justify_items": null,
            "left": null,
            "margin": null,
            "max_height": null,
            "max_width": null,
            "min_height": null,
            "min_width": null,
            "object_fit": null,
            "object_position": null,
            "order": null,
            "overflow": null,
            "overflow_x": null,
            "overflow_y": null,
            "padding": null,
            "right": null,
            "top": null,
            "visibility": null,
            "width": null
          }
        },
        "30f0a84104274d6284f8761bac37e1bc": {
          "model_module": "@jupyter-widgets/controls",
          "model_name": "DescriptionStyleModel",
          "model_module_version": "1.5.0",
          "state": {
            "_model_module": "@jupyter-widgets/controls",
            "_model_module_version": "1.5.0",
            "_model_name": "DescriptionStyleModel",
            "_view_count": null,
            "_view_module": "@jupyter-widgets/base",
            "_view_module_version": "1.2.0",
            "_view_name": "StyleView",
            "description_width": ""
          }
        },
        "80a4dbff84d1430ebc0fcd5ec4ae5e7b": {
          "model_module": "@jupyter-widgets/base",
          "model_name": "LayoutModel",
          "model_module_version": "1.2.0",
          "state": {
            "_model_module": "@jupyter-widgets/base",
            "_model_module_version": "1.2.0",
            "_model_name": "LayoutModel",
            "_view_count": null,
            "_view_module": "@jupyter-widgets/base",
            "_view_module_version": "1.2.0",
            "_view_name": "LayoutView",
            "align_content": null,
            "align_items": null,
            "align_self": null,
            "border": null,
            "bottom": null,
            "display": null,
            "flex": null,
            "flex_flow": null,
            "grid_area": null,
            "grid_auto_columns": null,
            "grid_auto_flow": null,
            "grid_auto_rows": null,
            "grid_column": null,
            "grid_gap": null,
            "grid_row": null,
            "grid_template_areas": null,
            "grid_template_columns": null,
            "grid_template_rows": null,
            "height": null,
            "justify_content": null,
            "justify_items": null,
            "left": null,
            "margin": null,
            "max_height": null,
            "max_width": null,
            "min_height": null,
            "min_width": null,
            "object_fit": null,
            "object_position": null,
            "order": null,
            "overflow": null,
            "overflow_x": null,
            "overflow_y": null,
            "padding": null,
            "right": null,
            "top": null,
            "visibility": null,
            "width": null
          }
        },
        "e4d96ee06fe74419a6885569886aa9e9": {
          "model_module": "@jupyter-widgets/controls",
          "model_name": "ProgressStyleModel",
          "model_module_version": "1.5.0",
          "state": {
            "_model_module": "@jupyter-widgets/controls",
            "_model_module_version": "1.5.0",
            "_model_name": "ProgressStyleModel",
            "_view_count": null,
            "_view_module": "@jupyter-widgets/base",
            "_view_module_version": "1.2.0",
            "_view_name": "StyleView",
            "bar_color": null,
            "description_width": ""
          }
        },
        "5d250f9e81314f6ab6954fedba4f5772": {
          "model_module": "@jupyter-widgets/base",
          "model_name": "LayoutModel",
          "model_module_version": "1.2.0",
          "state": {
            "_model_module": "@jupyter-widgets/base",
            "_model_module_version": "1.2.0",
            "_model_name": "LayoutModel",
            "_view_count": null,
            "_view_module": "@jupyter-widgets/base",
            "_view_module_version": "1.2.0",
            "_view_name": "LayoutView",
            "align_content": null,
            "align_items": null,
            "align_self": null,
            "border": null,
            "bottom": null,
            "display": null,
            "flex": null,
            "flex_flow": null,
            "grid_area": null,
            "grid_auto_columns": null,
            "grid_auto_flow": null,
            "grid_auto_rows": null,
            "grid_column": null,
            "grid_gap": null,
            "grid_row": null,
            "grid_template_areas": null,
            "grid_template_columns": null,
            "grid_template_rows": null,
            "height": null,
            "justify_content": null,
            "justify_items": null,
            "left": null,
            "margin": null,
            "max_height": null,
            "max_width": null,
            "min_height": null,
            "min_width": null,
            "object_fit": null,
            "object_position": null,
            "order": null,
            "overflow": null,
            "overflow_x": null,
            "overflow_y": null,
            "padding": null,
            "right": null,
            "top": null,
            "visibility": null,
            "width": null
          }
        },
        "4a71e2f8db774d599f11f427802b2f96": {
          "model_module": "@jupyter-widgets/controls",
          "model_name": "DescriptionStyleModel",
          "model_module_version": "1.5.0",
          "state": {
            "_model_module": "@jupyter-widgets/controls",
            "_model_module_version": "1.5.0",
            "_model_name": "DescriptionStyleModel",
            "_view_count": null,
            "_view_module": "@jupyter-widgets/base",
            "_view_module_version": "1.2.0",
            "_view_name": "StyleView",
            "description_width": ""
          }
        }
      }
    }
  },
  "nbformat": 4,
  "nbformat_minor": 0
}